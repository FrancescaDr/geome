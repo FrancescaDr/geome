{
 "cells": [
  {
   "cell_type": "markdown",
   "metadata": {},
   "source": [
    "### GraphAnnDataModule Use case\n",
    "\n",
    "This is an interactive notebook that allows the user to train their choice of model on different Squidpy datasets. By walking through the notebook step-by-step, the user can see how the GraphAnnDataModule class can be applied to train different types of models. For more information on the example models to choose from, see https://www.biorxiv.org/content/10.1101/2021.07.11.451750v1"
   ]
  },
  {
   "cell_type": "code",
   "execution_count": 7,
   "metadata": {},
   "outputs": [
    {
     "name": "stdout",
     "output_type": "stream",
     "text": [
      "The autoreload extension is already loaded. To reload it, use:\n",
      "  %reload_ext autoreload\n"
     ]
    }
   ],
   "source": [
    "%load_ext autoreload\n",
    "%autoreload 2"
   ]
  },
  {
   "cell_type": "code",
   "execution_count": 8,
   "metadata": {},
   "outputs": [],
   "source": [
    "import os\n",
    "from argparse import ArgumentParser, Namespace\n",
    "from random import choices\n",
    "import pytorch_lightning as pl\n",
    "from typing import Callable, List, Optional, Sequence, Union\n",
    "import squidpy as sq\n",
    "import torch\n",
    "from torch_geometric.loader import RandomNodeSampler\n",
    "import pandas as pd\n",
    "from torch_geometric.data import Data\n",
    "from anndata import AnnData\n",
    "from gpu_spatial_graph_pipeline.utils import adata2data\n",
    "from gpu_spatial_graph_pipeline.data.datamodule import GraphAnnDataModule\n",
    "from gpu_spatial_graph_pipeline.models.linear_ncem import LinearNCEM\n",
    "from gpu_spatial_graph_pipeline.models.non_linear_ncem import NonLinearNCEM\n",
    "from gpu_spatial_graph_pipeline.models.graph_embedding import GraphEmbedding\n",
    "from gpu_spatial_graph_pipeline.data.datasets import DatasetHartmann\n",
    "\n",
    "from ipywidgets import widgets"
   ]
  },
  {
   "cell_type": "markdown",
   "metadata": {},
   "source": [
    "### Choose/Upload dataset\n",
    "\n",
    "Run the cell below to choose the dataset to train on"
   ]
  },
  {
   "cell_type": "code",
   "execution_count": 12,
   "metadata": {},
   "outputs": [
    {
     "data": {
      "application/vnd.jupyter.widget-view+json": {
       "model_id": "0886cf5d2f7340109490a653294355a3",
       "version_major": 2,
       "version_minor": 0
      },
      "text/plain": [
       "Dropdown(description='dataset', options=(('custom', 1), ('mibitof', 2)), value=1)"
      ]
     },
     "execution_count": 12,
     "metadata": {},
     "output_type": "execute_result"
    }
   ],
   "source": [
    "dropvals1 = widgets.Dropdown(options=[('custom', 1),('mibitof', 2)], value=1,description=\"dataset\")\n",
    "dropvals1\n"
   ]
  },
  {
   "cell_type": "markdown",
   "metadata": {},
   "source": [
    "Run the cell below to choose the learning type for splitting the data"
   ]
  },
  {
   "cell_type": "code",
   "execution_count": 13,
   "metadata": {},
   "outputs": [
    {
     "data": {
      "application/vnd.jupyter.widget-view+json": {
       "model_id": "ee627bae3d6f4ebe93be4a1f1c5f3470",
       "version_major": 2,
       "version_minor": 0
      },
      "text/plain": [
       "Dropdown(description='learning type', options=(('nodewise', 1), ('graphwise', 2)), value=1)"
      ]
     },
     "execution_count": 13,
     "metadata": {},
     "output_type": "execute_result"
    }
   ],
   "source": [
    "dropvals2= widgets.Dropdown(options=[('nodewise', 1),('graphwise', 2)], value=1,description=\"learning type\")\n",
    "dropvals2"
   ]
  },
  {
   "cell_type": "markdown",
   "metadata": {},
   "source": [
    "Run the cell below to instantiate your datamodule"
   ]
  },
  {
   "cell_type": "code",
   "execution_count": 14,
   "metadata": {},
   "outputs": [
    {
     "name": "stdout",
     "output_type": "stream",
     "text": [
      "Loading data from raw files\n",
      "registering celldata\n"
     ]
    },
    {
     "name": "stderr",
     "output_type": "stream",
     "text": [
      "/home/sel/mambaforge/envs/pyg/lib/python3.8/site-packages/anndata/_core/anndata.py:121: ImplicitModificationWarning: Transforming to str index.\n",
      "  warnings.warn(\"Transforming to str index.\", ImplicitModificationWarning)\n"
     ]
    },
    {
     "name": "stdout",
     "output_type": "stream",
     "text": [
      "collecting image-wise celldata\n",
      "adding graph-level covariates\n",
      "Loaded 58 images with complete data from 4 patients over 63747 cells with 36 cell features and 8 distinct celltypes.\n",
      "Sample of batches from custom datamodule:\n",
      "DataBatch(x=[699, 12], edge_index=[2, 600], y=[699, 36], Xd=[699, 76], batch=[699], ptr=[59], train_mask=[699], val_mask=[699], test_mask=[699], batch_size=100)\n",
      "DataBatch(x=[697, 12], edge_index=[2, 600], y=[697, 36], Xd=[697, 76], batch=[697], ptr=[59], train_mask=[697], val_mask=[697], test_mask=[697], batch_size=100)\n",
      "DataBatch(x=[696, 12], edge_index=[2, 600], y=[696, 36], Xd=[696, 76], batch=[696], ptr=[59], train_mask=[696], val_mask=[696], test_mask=[696], batch_size=100)\n"
     ]
    }
   ],
   "source": [
    "if dropvals1.value==1:\n",
    "\n",
    "    raise NotImplementedError\n",
    "\n",
    "\n",
    "elif dropvals1.value==2:\n",
    "    #adata = sq.datasets.mibitof()\n",
    "    dataset = DatasetHartmann(data_path='./example_data/hartmann/')\n",
    "    adata = list(dataset.img_celldata.values())\n",
    "    feature_names=['Cluster_preprocessed','donor']\n",
    "\n",
    "    def anndata2data(adata): \n",
    "        return adata2data(adata,feature_names)\n",
    "\n",
    "    \n",
    "    #input of datamodule\n",
    "    num_features=(len(set(dataset.celldata.obs[feature_names[0]])),len(set(dataset.celldata.obs[feature_names[1]])))\n",
    "\n",
    "    num_genes=dataset.celldata.shape[1]\n",
    "\n",
    "dm = GraphAnnDataModule(adata=adata, adata2data_fn=anndata2data, num_workers = 8, batch_size=100,learning_type=dropvals2.options[dropvals2.value-1][0])\n",
    "\n",
    "dm.setup()\n",
    "itr = 2\n",
    "print(f\"Sample of batches from custom datamodule:\")\n",
    "for batch in dm.train_dataloader():\n",
    "    print(batch)\n",
    "    itr -= 1\n",
    "    if itr<0:\n",
    "        break\n"
   ]
  },
  {
   "cell_type": "markdown",
   "metadata": {},
   "source": [
    "## Choose model\n",
    "\n",
    "Run the cell below to choose the model to train"
   ]
  },
  {
   "cell_type": "code",
   "execution_count": 16,
   "metadata": {},
   "outputs": [
    {
     "data": {
      "application/vnd.jupyter.widget-view+json": {
       "model_id": "b3bff1c0f09342c6b3633a0b789b03ae",
       "version_major": 2,
       "version_minor": 0
      },
      "text/plain": [
       "Dropdown(description='model', options=(('custom', 1), ('linear_ncem', 2), ('nonlinear_ncem', 3), ('graph_embed…"
      ]
     },
     "execution_count": 16,
     "metadata": {},
     "output_type": "execute_result"
    }
   ],
   "source": [
    "dropvals_model = widgets.Dropdown(options=[('custom', 1),('linear_ncem', 2),('nonlinear_ncem', 3),('graph_embedding', 4)], value=1,description=\"model\")\n",
    "dropvals_model"
   ]
  },
  {
   "cell_type": "markdown",
   "metadata": {},
   "source": [
    "Run the cell below to instantiate your datamodule"
   ]
  },
  {
   "cell_type": "code",
   "execution_count": 21,
   "metadata": {},
   "outputs": [
    {
     "data": {
      "text/plain": [
       "LinearNCEM(\n",
       "  (model_sigma): LinearSpatial(\n",
       "    (linear): Linear(in_features=76, out_features=36, bias=True)\n",
       "  )\n",
       "  (model_mu): LinearSpatial(\n",
       "    (linear): Linear(in_features=76, out_features=36, bias=True)\n",
       "  )\n",
       "  (loss_module): GaussianNLLLoss()\n",
       ")"
      ]
     },
     "execution_count": 21,
     "metadata": {},
     "output_type": "execute_result"
    }
   ],
   "source": [
    "if dropvals_model.value==1:\n",
    "    raise NotImplementedError\n",
    "elif dropvals_model.value==2:\n",
    "    model = LinearNCEM(in_channels=num_features,out_channels=num_genes, model_type='spatial', lr=0.0001,weight_decay=0.000001)\n",
    "elif dropvals_model.value==3:\n",
    "    model = NonLinearNCEM(in_channels=num_features,encoder_hidden_dims=10,latent_dim=30,decoder_hidden_dims=10,out_channels=num_genes, lr=0.0001,weight_decay=0.000001)\n",
    "elif dropvals_model.value==4:\n",
    "    model = GraphEmbedding(num_features=11,latent_dim=30,lr=0.0001,weight_decay=0.000001)\n",
    "\n",
    "model"
   ]
  },
  {
   "cell_type": "markdown",
   "metadata": {},
   "source": [
    "Run the cell below to choose accelerator "
   ]
  },
  {
   "cell_type": "code",
   "execution_count": 18,
   "metadata": {},
   "outputs": [
    {
     "data": {
      "application/vnd.jupyter.widget-view+json": {
       "model_id": "c8a282587169465ba48f7f3c7780b1de",
       "version_major": 2,
       "version_minor": 0
      },
      "text/plain": [
       "Dropdown(description='accelerator', options=(('gpu', 1), ('cpu', 2)), value=1)"
      ]
     },
     "execution_count": 18,
     "metadata": {},
     "output_type": "execute_result"
    }
   ],
   "source": [
    "dropvals_gpu= widgets.Dropdown(options=[('gpu', 1),('cpu', 2)], value=1,description=\"accelerator\")\n",
    "dropvals_gpu"
   ]
  },
  {
   "cell_type": "markdown",
   "metadata": {},
   "source": [
    "Run the cell below to train your model"
   ]
  },
  {
   "cell_type": "code",
   "execution_count": 22,
   "metadata": {},
   "outputs": [
    {
     "name": "stderr",
     "output_type": "stream",
     "text": [
      "GPU available: True (cuda), used: True\n",
      "TPU available: False, using: 0 TPU cores\n",
      "IPU available: False, using: 0 IPUs\n",
      "HPU available: False, using: 0 HPUs\n",
      "LOCAL_RANK: 0 - CUDA_VISIBLE_DEVICES: [0]\n",
      "\n",
      "  | Name        | Type            | Params\n",
      "------------------------------------------------\n",
      "0 | model_sigma | LinearSpatial   | 2.8 K \n",
      "1 | model_mu    | LinearSpatial   | 2.8 K \n",
      "2 | loss_module | GaussianNLLLoss | 0     \n",
      "------------------------------------------------\n",
      "5.5 K     Trainable params\n",
      "0         Non-trainable params\n",
      "5.5 K     Total params\n",
      "0.022     Total estimated model params size (MB)\n"
     ]
    },
    {
     "data": {
      "application/vnd.jupyter.widget-view+json": {
       "model_id": "",
       "version_major": 2,
       "version_minor": 0
      },
      "text/plain": [
       "Sanity Checking: 0it [00:00, ?it/s]"
      ]
     },
     "metadata": {},
     "output_type": "display_data"
    },
    {
     "data": {
      "application/vnd.jupyter.widget-view+json": {
       "model_id": "db1882cc432740d29a64c29dfc979e25",
       "version_major": 2,
       "version_minor": 0
      },
      "text/plain": [
       "Training: 0it [00:00, ?it/s]"
      ]
     },
     "metadata": {},
     "output_type": "display_data"
    },
    {
     "data": {
      "application/vnd.jupyter.widget-view+json": {
       "model_id": "",
       "version_major": 2,
       "version_minor": 0
      },
      "text/plain": [
       "Validation: 0it [00:00, ?it/s]"
      ]
     },
     "metadata": {},
     "output_type": "display_data"
    },
    {
     "data": {
      "application/vnd.jupyter.widget-view+json": {
       "model_id": "",
       "version_major": 2,
       "version_minor": 0
      },
      "text/plain": [
       "Validation: 0it [00:00, ?it/s]"
      ]
     },
     "metadata": {},
     "output_type": "display_data"
    },
    {
     "data": {
      "application/vnd.jupyter.widget-view+json": {
       "model_id": "",
       "version_major": 2,
       "version_minor": 0
      },
      "text/plain": [
       "Validation: 0it [00:00, ?it/s]"
      ]
     },
     "metadata": {},
     "output_type": "display_data"
    },
    {
     "data": {
      "application/vnd.jupyter.widget-view+json": {
       "model_id": "",
       "version_major": 2,
       "version_minor": 0
      },
      "text/plain": [
       "Validation: 0it [00:00, ?it/s]"
      ]
     },
     "metadata": {},
     "output_type": "display_data"
    },
    {
     "data": {
      "application/vnd.jupyter.widget-view+json": {
       "model_id": "",
       "version_major": 2,
       "version_minor": 0
      },
      "text/plain": [
       "Validation: 0it [00:00, ?it/s]"
      ]
     },
     "metadata": {},
     "output_type": "display_data"
    },
    {
     "data": {
      "application/vnd.jupyter.widget-view+json": {
       "model_id": "",
       "version_major": 2,
       "version_minor": 0
      },
      "text/plain": [
       "Validation: 0it [00:00, ?it/s]"
      ]
     },
     "metadata": {},
     "output_type": "display_data"
    },
    {
     "data": {
      "application/vnd.jupyter.widget-view+json": {
       "model_id": "",
       "version_major": 2,
       "version_minor": 0
      },
      "text/plain": [
       "Validation: 0it [00:00, ?it/s]"
      ]
     },
     "metadata": {},
     "output_type": "display_data"
    },
    {
     "data": {
      "application/vnd.jupyter.widget-view+json": {
       "model_id": "",
       "version_major": 2,
       "version_minor": 0
      },
      "text/plain": [
       "Validation: 0it [00:00, ?it/s]"
      ]
     },
     "metadata": {},
     "output_type": "display_data"
    },
    {
     "data": {
      "application/vnd.jupyter.widget-view+json": {
       "model_id": "",
       "version_major": 2,
       "version_minor": 0
      },
      "text/plain": [
       "Validation: 0it [00:00, ?it/s]"
      ]
     },
     "metadata": {},
     "output_type": "display_data"
    },
    {
     "data": {
      "application/vnd.jupyter.widget-view+json": {
       "model_id": "",
       "version_major": 2,
       "version_minor": 0
      },
      "text/plain": [
       "Validation: 0it [00:00, ?it/s]"
      ]
     },
     "metadata": {},
     "output_type": "display_data"
    },
    {
     "name": "stderr",
     "output_type": "stream",
     "text": [
      "`Trainer.fit` stopped: `max_epochs=10` reached.\n"
     ]
    }
   ],
   "source": [
    "if dropvals_gpu.value==1:\n",
    "    trainer:pl.Trainer = pl.Trainer(accelerator='gpu',max_epochs=10,log_every_n_steps=10)\n",
    "else:\n",
    "    trainer:pl.Trainer = pl.Trainer(accelerator='cpu',max_epochs=10,log_every_n_steps=10)\n",
    "    \n",
    "trainer.fit(model,datamodule=dm)"
   ]
  },
  {
   "cell_type": "markdown",
   "metadata": {},
   "source": [
    "Run the cell below to test your model"
   ]
  },
  {
   "cell_type": "code",
   "execution_count": 23,
   "metadata": {},
   "outputs": [
    {
     "name": "stderr",
     "output_type": "stream",
     "text": [
      "LOCAL_RANK: 0 - CUDA_VISIBLE_DEVICES: [0]\n"
     ]
    },
    {
     "data": {
      "application/vnd.jupyter.widget-view+json": {
       "model_id": "41da660e87b743208e18ec4f03fc549d",
       "version_major": 2,
       "version_minor": 0
      },
      "text/plain": [
       "Testing: 0it [00:00, ?it/s]"
      ]
     },
     "metadata": {},
     "output_type": "display_data"
    },
    {
     "name": "stdout",
     "output_type": "stream",
     "text": [
      "────────────────────────────────────────────────────────────────────────────────────────────────────────────────────────\n",
      "       Test metric             DataLoader 0\n",
      "────────────────────────────────────────────────────────────────────────────────────────────────────────────────────────\n",
      "        test_loss           -0.5218654400910083\n",
      "      test_r2_score         -0.2679919666638514\n",
      "────────────────────────────────────────────────────────────────────────────────────────────────────────────────────────\n"
     ]
    },
    {
     "data": {
      "text/plain": [
       "[{'test_r2_score': -0.2679919666638514, 'test_loss': -0.5218654400910083}]"
      ]
     },
     "execution_count": 23,
     "metadata": {},
     "output_type": "execute_result"
    }
   ],
   "source": [
    "trainer.test(model, datamodule=dm)"
   ]
  },
  {
   "cell_type": "code",
   "execution_count": null,
   "metadata": {},
   "outputs": [],
   "source": []
  }
 ],
 "metadata": {
  "kernelspec": {
   "display_name": "Python 3 (ipykernel)",
   "language": "python",
   "name": "python3"
  },
  "language_info": {
   "codemirror_mode": {
    "name": "ipython",
    "version": 3
   },
   "file_extension": ".py",
   "mimetype": "text/x-python",
   "name": "python",
   "nbconvert_exporter": "python",
   "pygments_lexer": "ipython3",
   "version": "3.8.13"
  },
  "vscode": {
   "interpreter": {
    "hash": "42fc222dfbda169bc18a654c374e8265fec58846589cd1da63abc2a574b12f52"
   }
  }
 },
 "nbformat": 4,
 "nbformat_minor": 2
}
