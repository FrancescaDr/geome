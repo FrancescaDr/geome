{
 "cells": [
  {
   "cell_type": "code",
   "execution_count": 1,
   "metadata": {},
   "outputs": [],
   "source": [
    "%load_ext autoreload\n",
    "%autoreload 2"
   ]
  },
  {
   "cell_type": "code",
   "execution_count": 2,
   "metadata": {},
   "outputs": [
    {
     "name": "stderr",
     "output_type": "stream",
     "text": [
      "/home/marcella/miniconda3/envs/gnn/lib/python3.10/site-packages/tqdm/auto.py:22: TqdmWarning: IProgress not found. Please update jupyter and ipywidgets. See https://ipywidgets.readthedocs.io/en/stable/user_install.html\n",
      "  from .autonotebook import tqdm as notebook_tqdm\n"
     ]
    }
   ],
   "source": [
    "import os\n",
    "from argparse import ArgumentParser, Namespace\n",
    "from random import choices\n",
    "import pytorch_lightning as pl\n",
    "from typing import Callable, List, Optional, Sequence, Union\n",
    "import squidpy as sq\n",
    "import torch\n",
    "from torch_geometric.loader import RandomNodeSampler\n",
    "import pandas as pd\n",
    "from torch_geometric.data import Data\n",
    "from anndata import AnnData\n",
    "from gpu_spatial_graph_pipeline.utils import adata2data\n",
    "from gpu_spatial_graph_pipeline.data.datamodule import GraphAnnDataModule\n",
    "from gpu_spatial_graph_pipeline.models.linear_ncem import LinearNCEM"
   ]
  },
  {
   "cell_type": "code",
   "execution_count": 3,
   "metadata": {},
   "outputs": [],
   "source": [
    "#Mibitof\n",
    "adata = sq.datasets.mibitof()\n",
    "#feature_name=adata.obs.keys()[0] #Use for IMC dataset\n",
    "\n",
    "#specify features to use\n",
    "feature_names=['Cluster','batch']\n",
    "\n",
    "#input of datamodule\n",
    "num_features=(len(set(adata.obs[feature_names[0]])),len(set(adata.obs[feature_names[1]])))\n",
    "num_genes=adata.X.shape[1]\n"
   ]
  },
  {
   "cell_type": "code",
   "execution_count": 4,
   "metadata": {},
   "outputs": [],
   "source": [
    "dm = GraphAnnDataModule(adata=adata, feature_names=feature_names, adata2data_fn=adata2data, num_workers = 16, batch_size=40,learning_type='nodewise')"
   ]
  },
  {
   "cell_type": "code",
   "execution_count": 5,
   "metadata": {},
   "outputs": [],
   "source": [
    "dm.setup()"
   ]
  },
  {
   "cell_type": "code",
   "execution_count": 6,
   "metadata": {},
   "outputs": [
    {
     "name": "stdout",
     "output_type": "stream",
     "text": [
      "DataBatch(x=[259, 11], edge_index=[2, 240], y=[259, 36], batch=[259], ptr=[4], train_mask=[259], val_mask=[259], test_mask=[259], batch_size=40)\n",
      "DataBatch(x=[271, 11], edge_index=[2, 240], y=[271, 36], batch=[271], ptr=[4], train_mask=[271], val_mask=[271], test_mask=[271], batch_size=40)\n",
      "DataBatch(x=[277, 11], edge_index=[2, 240], y=[277, 36], batch=[277], ptr=[4], train_mask=[277], val_mask=[277], test_mask=[277], batch_size=40)\n",
      "DataBatch(x=[277, 11], edge_index=[2, 240], y=[277, 36], batch=[277], ptr=[4], train_mask=[277], val_mask=[277], test_mask=[277], batch_size=40)\n",
      "DataBatch(x=[271, 11], edge_index=[2, 240], y=[271, 36], batch=[271], ptr=[4], train_mask=[271], val_mask=[271], test_mask=[271], batch_size=40)\n",
      "DataBatch(x=[269, 11], edge_index=[2, 240], y=[269, 36], batch=[269], ptr=[4], train_mask=[269], val_mask=[269], test_mask=[269], batch_size=40)\n",
      "DataBatch(x=[276, 11], edge_index=[2, 240], y=[276, 36], batch=[276], ptr=[4], train_mask=[276], val_mask=[276], test_mask=[276], batch_size=40)\n",
      "DataBatch(x=[271, 11], edge_index=[2, 240], y=[271, 36], batch=[271], ptr=[4], train_mask=[271], val_mask=[271], test_mask=[271], batch_size=40)\n",
      "DataBatch(x=[273, 11], edge_index=[2, 240], y=[273, 36], batch=[273], ptr=[4], train_mask=[273], val_mask=[273], test_mask=[273], batch_size=40)\n",
      "DataBatch(x=[264, 11], edge_index=[2, 240], y=[264, 36], batch=[264], ptr=[4], train_mask=[264], val_mask=[264], test_mask=[264], batch_size=40)\n",
      "DataBatch(x=[274, 11], edge_index=[2, 240], y=[274, 36], batch=[274], ptr=[4], train_mask=[274], val_mask=[274], test_mask=[274], batch_size=40)\n",
      "DataBatch(x=[280, 11], edge_index=[2, 240], y=[280, 36], batch=[280], ptr=[4], train_mask=[280], val_mask=[280], test_mask=[280], batch_size=40)\n",
      "DataBatch(x=[271, 11], edge_index=[2, 240], y=[271, 36], batch=[271], ptr=[4], train_mask=[271], val_mask=[271], test_mask=[271], batch_size=40)\n",
      "DataBatch(x=[267, 11], edge_index=[2, 240], y=[267, 36], batch=[267], ptr=[4], train_mask=[267], val_mask=[267], test_mask=[267], batch_size=40)\n",
      "DataBatch(x=[255, 11], edge_index=[2, 240], y=[255, 36], batch=[255], ptr=[4], train_mask=[255], val_mask=[255], test_mask=[255], batch_size=40)\n",
      "DataBatch(x=[272, 11], edge_index=[2, 240], y=[272, 36], batch=[272], ptr=[4], train_mask=[272], val_mask=[272], test_mask=[272], batch_size=40)\n",
      "DataBatch(x=[271, 11], edge_index=[2, 240], y=[271, 36], batch=[271], ptr=[4], train_mask=[271], val_mask=[271], test_mask=[271], batch_size=40)\n",
      "DataBatch(x=[275, 11], edge_index=[2, 240], y=[275, 36], batch=[275], ptr=[4], train_mask=[275], val_mask=[275], test_mask=[275], batch_size=40)\n",
      "DataBatch(x=[274, 11], edge_index=[2, 240], y=[274, 36], batch=[274], ptr=[4], train_mask=[274], val_mask=[274], test_mask=[274], batch_size=40)\n",
      "DataBatch(x=[275, 11], edge_index=[2, 240], y=[275, 36], batch=[275], ptr=[4], train_mask=[275], val_mask=[275], test_mask=[275], batch_size=40)\n",
      "DataBatch(x=[277, 11], edge_index=[2, 240], y=[277, 36], batch=[277], ptr=[4], train_mask=[277], val_mask=[277], test_mask=[277], batch_size=40)\n",
      "DataBatch(x=[267, 11], edge_index=[2, 240], y=[267, 36], batch=[267], ptr=[4], train_mask=[267], val_mask=[267], test_mask=[267], batch_size=40)\n",
      "DataBatch(x=[268, 11], edge_index=[2, 240], y=[268, 36], batch=[268], ptr=[4], train_mask=[268], val_mask=[268], test_mask=[268], batch_size=40)\n",
      "DataBatch(x=[267, 11], edge_index=[2, 240], y=[267, 36], batch=[267], ptr=[4], train_mask=[267], val_mask=[267], test_mask=[267], batch_size=40)\n",
      "DataBatch(x=[260, 11], edge_index=[2, 240], y=[260, 36], batch=[260], ptr=[4], train_mask=[260], val_mask=[260], test_mask=[260], batch_size=40)\n",
      "DataBatch(x=[266, 11], edge_index=[2, 240], y=[266, 36], batch=[266], ptr=[4], train_mask=[266], val_mask=[266], test_mask=[266], batch_size=40)\n",
      "DataBatch(x=[267, 11], edge_index=[2, 240], y=[267, 36], batch=[267], ptr=[4], train_mask=[267], val_mask=[267], test_mask=[267], batch_size=40)\n",
      "DataBatch(x=[278, 11], edge_index=[2, 240], y=[278, 36], batch=[278], ptr=[4], train_mask=[278], val_mask=[278], test_mask=[278], batch_size=40)\n",
      "DataBatch(x=[267, 11], edge_index=[2, 240], y=[267, 36], batch=[267], ptr=[4], train_mask=[267], val_mask=[267], test_mask=[267], batch_size=40)\n",
      "DataBatch(x=[264, 11], edge_index=[2, 240], y=[264, 36], batch=[264], ptr=[4], train_mask=[264], val_mask=[264], test_mask=[264], batch_size=40)\n",
      "DataBatch(x=[268, 11], edge_index=[2, 240], y=[268, 36], batch=[268], ptr=[4], train_mask=[268], val_mask=[268], test_mask=[268], batch_size=40)\n",
      "DataBatch(x=[273, 11], edge_index=[2, 240], y=[273, 36], batch=[273], ptr=[4], train_mask=[273], val_mask=[273], test_mask=[273], batch_size=40)\n",
      "DataBatch(x=[270, 11], edge_index=[2, 240], y=[270, 36], batch=[270], ptr=[4], train_mask=[270], val_mask=[270], test_mask=[270], batch_size=40)\n",
      "DataBatch(x=[273, 11], edge_index=[2, 240], y=[273, 36], batch=[273], ptr=[4], train_mask=[273], val_mask=[273], test_mask=[273], batch_size=40)\n",
      "DataBatch(x=[271, 11], edge_index=[2, 240], y=[271, 36], batch=[271], ptr=[4], train_mask=[271], val_mask=[271], test_mask=[271], batch_size=40)\n",
      "DataBatch(x=[271, 11], edge_index=[2, 240], y=[271, 36], batch=[271], ptr=[4], train_mask=[271], val_mask=[271], test_mask=[271], batch_size=40)\n",
      "DataBatch(x=[272, 11], edge_index=[2, 240], y=[272, 36], batch=[272], ptr=[4], train_mask=[272], val_mask=[272], test_mask=[272], batch_size=40)\n",
      "DataBatch(x=[274, 11], edge_index=[2, 240], y=[274, 36], batch=[274], ptr=[4], train_mask=[274], val_mask=[274], test_mask=[274], batch_size=40)\n",
      "DataBatch(x=[271, 11], edge_index=[2, 240], y=[271, 36], batch=[271], ptr=[4], train_mask=[271], val_mask=[271], test_mask=[271], batch_size=40)\n",
      "DataBatch(x=[268, 11], edge_index=[2, 240], y=[268, 36], batch=[268], ptr=[4], train_mask=[268], val_mask=[268], test_mask=[268], batch_size=40)\n",
      "DataBatch(x=[279, 11], edge_index=[2, 240], y=[279, 36], batch=[279], ptr=[4], train_mask=[279], val_mask=[279], test_mask=[279], batch_size=40)\n",
      "DataBatch(x=[271, 11], edge_index=[2, 240], y=[271, 36], batch=[271], ptr=[4], train_mask=[271], val_mask=[271], test_mask=[271], batch_size=40)\n",
      "DataBatch(x=[269, 11], edge_index=[2, 240], y=[269, 36], batch=[269], ptr=[4], train_mask=[269], val_mask=[269], test_mask=[269], batch_size=40)\n",
      "DataBatch(x=[269, 11], edge_index=[2, 240], y=[269, 36], batch=[269], ptr=[4], train_mask=[269], val_mask=[269], test_mask=[269], batch_size=40)\n",
      "DataBatch(x=[274, 11], edge_index=[2, 240], y=[274, 36], batch=[274], ptr=[4], train_mask=[274], val_mask=[274], test_mask=[274], batch_size=40)\n",
      "DataBatch(x=[272, 11], edge_index=[2, 240], y=[272, 36], batch=[272], ptr=[4], train_mask=[272], val_mask=[272], test_mask=[272], batch_size=40)\n",
      "DataBatch(x=[268, 11], edge_index=[2, 240], y=[268, 36], batch=[268], ptr=[4], train_mask=[268], val_mask=[268], test_mask=[268], batch_size=40)\n",
      "DataBatch(x=[272, 11], edge_index=[2, 240], y=[272, 36], batch=[272], ptr=[4], train_mask=[272], val_mask=[272], test_mask=[272], batch_size=40)\n",
      "DataBatch(x=[269, 11], edge_index=[2, 240], y=[269, 36], batch=[269], ptr=[4], train_mask=[269], val_mask=[269], test_mask=[269], batch_size=40)\n",
      "DataBatch(x=[270, 11], edge_index=[2, 240], y=[270, 36], batch=[270], ptr=[4], train_mask=[270], val_mask=[270], test_mask=[270], batch_size=40)\n",
      "DataBatch(x=[277, 11], edge_index=[2, 240], y=[277, 36], batch=[277], ptr=[4], train_mask=[277], val_mask=[277], test_mask=[277], batch_size=40)\n",
      "DataBatch(x=[277, 11], edge_index=[2, 240], y=[277, 36], batch=[277], ptr=[4], train_mask=[277], val_mask=[277], test_mask=[277], batch_size=40)\n",
      "DataBatch(x=[274, 11], edge_index=[2, 240], y=[274, 36], batch=[274], ptr=[4], train_mask=[274], val_mask=[274], test_mask=[274], batch_size=40)\n",
      "DataBatch(x=[276, 11], edge_index=[2, 240], y=[276, 36], batch=[276], ptr=[4], train_mask=[276], val_mask=[276], test_mask=[276], batch_size=40)\n",
      "DataBatch(x=[265, 11], edge_index=[2, 240], y=[265, 36], batch=[265], ptr=[4], train_mask=[265], val_mask=[265], test_mask=[265], batch_size=40)\n",
      "DataBatch(x=[269, 11], edge_index=[2, 240], y=[269, 36], batch=[269], ptr=[4], train_mask=[269], val_mask=[269], test_mask=[269], batch_size=40)\n",
      "DataBatch(x=[273, 11], edge_index=[2, 240], y=[273, 36], batch=[273], ptr=[4], train_mask=[273], val_mask=[273], test_mask=[273], batch_size=40)\n",
      "DataBatch(x=[271, 11], edge_index=[2, 240], y=[271, 36], batch=[271], ptr=[4], train_mask=[271], val_mask=[271], test_mask=[271], batch_size=40)\n",
      "DataBatch(x=[270, 11], edge_index=[2, 240], y=[270, 36], batch=[270], ptr=[4], train_mask=[270], val_mask=[270], test_mask=[270], batch_size=40)\n",
      "DataBatch(x=[262, 11], edge_index=[2, 240], y=[262, 36], batch=[262], ptr=[4], train_mask=[262], val_mask=[262], test_mask=[262], batch_size=40)\n",
      "DataBatch(x=[262, 11], edge_index=[2, 240], y=[262, 36], batch=[262], ptr=[4], train_mask=[262], val_mask=[262], test_mask=[262], batch_size=40)\n",
      "DataBatch(x=[271, 11], edge_index=[2, 240], y=[271, 36], batch=[271], ptr=[4], train_mask=[271], val_mask=[271], test_mask=[271], batch_size=40)\n",
      "DataBatch(x=[276, 11], edge_index=[2, 240], y=[276, 36], batch=[276], ptr=[4], train_mask=[276], val_mask=[276], test_mask=[276], batch_size=40)\n",
      "DataBatch(x=[276, 11], edge_index=[2, 240], y=[276, 36], batch=[276], ptr=[4], train_mask=[276], val_mask=[276], test_mask=[276], batch_size=40)\n",
      "DataBatch(x=[269, 11], edge_index=[2, 240], y=[269, 36], batch=[269], ptr=[4], train_mask=[269], val_mask=[269], test_mask=[269], batch_size=40)\n",
      "DataBatch(x=[267, 11], edge_index=[2, 240], y=[267, 36], batch=[267], ptr=[4], train_mask=[267], val_mask=[267], test_mask=[267], batch_size=40)\n",
      "DataBatch(x=[278, 11], edge_index=[2, 240], y=[278, 36], batch=[278], ptr=[4], train_mask=[278], val_mask=[278], test_mask=[278], batch_size=40)\n",
      "DataBatch(x=[260, 11], edge_index=[2, 240], y=[260, 36], batch=[260], ptr=[4], train_mask=[260], val_mask=[260], test_mask=[260], batch_size=40)\n",
      "DataBatch(x=[271, 11], edge_index=[2, 240], y=[271, 36], batch=[271], ptr=[4], train_mask=[271], val_mask=[271], test_mask=[271], batch_size=40)\n",
      "DataBatch(x=[269, 11], edge_index=[2, 240], y=[269, 36], batch=[269], ptr=[4], train_mask=[269], val_mask=[269], test_mask=[269], batch_size=40)\n",
      "DataBatch(x=[252, 11], edge_index=[2, 240], y=[252, 36], batch=[252], ptr=[4], train_mask=[252], val_mask=[252], test_mask=[252], batch_size=40)\n",
      "DataBatch(x=[273, 11], edge_index=[2, 240], y=[273, 36], batch=[273], ptr=[4], train_mask=[273], val_mask=[273], test_mask=[273], batch_size=40)\n",
      "DataBatch(x=[268, 11], edge_index=[2, 240], y=[268, 36], batch=[268], ptr=[4], train_mask=[268], val_mask=[268], test_mask=[268], batch_size=40)\n",
      "DataBatch(x=[271, 11], edge_index=[2, 240], y=[271, 36], batch=[271], ptr=[4], train_mask=[271], val_mask=[271], test_mask=[271], batch_size=40)\n",
      "DataBatch(x=[280, 11], edge_index=[2, 240], y=[280, 36], batch=[280], ptr=[4], train_mask=[280], val_mask=[280], test_mask=[280], batch_size=40)\n",
      "DataBatch(x=[269, 11], edge_index=[2, 240], y=[269, 36], batch=[269], ptr=[4], train_mask=[269], val_mask=[269], test_mask=[269], batch_size=40)\n",
      "DataBatch(x=[273, 11], edge_index=[2, 240], y=[273, 36], batch=[273], ptr=[4], train_mask=[273], val_mask=[273], test_mask=[273], batch_size=40)\n",
      "DataBatch(x=[265, 11], edge_index=[2, 240], y=[265, 36], batch=[265], ptr=[4], train_mask=[265], val_mask=[265], test_mask=[265], batch_size=40)\n",
      "DataBatch(x=[275, 11], edge_index=[2, 240], y=[275, 36], batch=[275], ptr=[4], train_mask=[275], val_mask=[275], test_mask=[275], batch_size=40)\n",
      "DataBatch(x=[279, 11], edge_index=[2, 240], y=[279, 36], batch=[279], ptr=[4], train_mask=[279], val_mask=[279], test_mask=[279], batch_size=40)\n",
      "DataBatch(x=[276, 11], edge_index=[2, 240], y=[276, 36], batch=[276], ptr=[4], train_mask=[276], val_mask=[276], test_mask=[276], batch_size=40)\n",
      "DataBatch(x=[271, 11], edge_index=[2, 240], y=[271, 36], batch=[271], ptr=[4], train_mask=[271], val_mask=[271], test_mask=[271], batch_size=40)\n",
      "DataBatch(x=[186, 11], edge_index=[2, 162], y=[186, 36], batch=[186], ptr=[4], train_mask=[186], val_mask=[186], test_mask=[186], batch_size=27)\n"
     ]
    }
   ],
   "source": [
    "for batch in dm.train_dataloader():\n",
    "    print(batch)"
   ]
  },
  {
   "cell_type": "code",
   "execution_count": 7,
   "metadata": {},
   "outputs": [],
   "source": [
    "model = LinearNCEM(in_channels=num_features,out_channels=num_genes, model_type='spatial', lr=0.0001,weight_decay=0.000001)"
   ]
  },
  {
   "cell_type": "code",
   "execution_count": 8,
   "metadata": {},
   "outputs": [
    {
     "name": "stderr",
     "output_type": "stream",
     "text": [
      "GPU available: False, used: False\n",
      "TPU available: False, using: 0 TPU cores\n",
      "IPU available: False, using: 0 IPUs\n",
      "HPU available: False, using: 0 HPUs\n"
     ]
    }
   ],
   "source": [
    "gpu=False\n",
    "if gpu:\n",
    "    trainer:pl.Trainer = pl.Trainer(accelerator='gpu',max_epochs=30,log_every_n_steps=1)\n",
    "else:\n",
    "    trainer:pl.Trainer = pl.Trainer(accelerator='cpu',max_epochs=30,log_every_n_steps=1)\n"
   ]
  },
  {
   "cell_type": "code",
   "execution_count": 9,
   "metadata": {},
   "outputs": [
    {
     "name": "stderr",
     "output_type": "stream",
     "text": [
      "\n",
      "  | Name        | Type            | Params\n",
      "------------------------------------------------\n",
      "0 | model_sigma | LinearSpatial   | 2.7 K \n",
      "1 | model_mu    | LinearSpatial   | 2.7 K \n",
      "2 | loss_module | GaussianNLLLoss | 0     \n",
      "------------------------------------------------\n",
      "5.5 K     Trainable params\n",
      "0         Non-trainable params\n",
      "5.5 K     Total params\n",
      "0.022     Total estimated model params size (MB)\n"
     ]
    },
    {
     "name": "stdout",
     "output_type": "stream",
     "text": [
      "                                                                           "
     ]
    },
    {
     "name": "stderr",
     "output_type": "stream",
     "text": [
      "/home/marcella/miniconda3/envs/gnn/lib/python3.10/site-packages/pytorch_lightning/trainer/connectors/data_connector.py:225: PossibleUserWarning: The dataloader, val_dataloader 0, does not have many workers which may be a bottleneck. Consider increasing the value of the `num_workers` argument` (try 16 which is the number of cpus on this machine) in the `DataLoader` init to improve performance.\n",
      "  rank_zero_warn(\n",
      "/home/marcella/miniconda3/envs/gnn/lib/python3.10/site-packages/pytorch_lightning/utilities/data.py:98: UserWarning: Trying to infer the `batch_size` from an ambiguous collection. The batch size we found is 7. To avoid any miscalculations, use `self.log(..., batch_size=batch_size)`.\n",
      "  warning_cache.warn(\n",
      "/home/marcella/miniconda3/envs/gnn/lib/python3.10/site-packages/pytorch_lightning/trainer/connectors/data_connector.py:225: PossibleUserWarning: The dataloader, train_dataloader, does not have many workers which may be a bottleneck. Consider increasing the value of the `num_workers` argument` (try 16 which is the number of cpus on this machine) in the `DataLoader` init to improve performance.\n",
      "  rank_zero_warn(\n"
     ]
    },
    {
     "name": "stdout",
     "output_type": "stream",
     "text": [
      "Epoch 29: 100%|██████████| 84/84 [00:01<00:00, 80.90it/s, loss=-0.462, v_num=38, val_r2_score=0.352, val_loss=-.490]  "
     ]
    },
    {
     "name": "stderr",
     "output_type": "stream",
     "text": [
      "`Trainer.fit` stopped: `max_epochs=30` reached.\n"
     ]
    },
    {
     "name": "stdout",
     "output_type": "stream",
     "text": [
      "Epoch 29: 100%|██████████| 84/84 [00:01<00:00, 80.56it/s, loss=-0.462, v_num=38, val_r2_score=0.352, val_loss=-.490]\n"
     ]
    }
   ],
   "source": [
    "trainer.fit(model,datamodule=dm)"
   ]
  },
  {
   "cell_type": "code",
   "execution_count": 11,
   "metadata": {},
   "outputs": [
    {
     "name": "stderr",
     "output_type": "stream",
     "text": [
      "/home/marcella/miniconda3/envs/gnn/lib/python3.10/site-packages/pytorch_lightning/trainer/connectors/data_connector.py:225: PossibleUserWarning: The dataloader, test_dataloader 0, does not have many workers which may be a bottleneck. Consider increasing the value of the `num_workers` argument` (try 16 which is the number of cpus on this machine) in the `DataLoader` init to improve performance.\n",
      "  rank_zero_warn(\n"
     ]
    },
    {
     "name": "stdout",
     "output_type": "stream",
     "text": [
      "Testing DataLoader 0: 100%|██████████| 1/1 [00:00<00:00, 119.53it/s]\n",
      "────────────────────────────────────────────────────────────────────────────────────────────────────────────────────────\n",
      "       Test metric             DataLoader 0\n",
      "────────────────────────────────────────────────────────────────────────────────────────────────────────────────────────\n",
      "        test_loss          -0.46245187520980835\n",
      "      test_r2_score         0.3123172731002297\n",
      "────────────────────────────────────────────────────────────────────────────────────────────────────────────────────────\n"
     ]
    },
    {
     "data": {
      "text/plain": [
       "[{'test_r2_score': 0.3123172731002297, 'test_loss': -0.46245187520980835}]"
      ]
     },
     "execution_count": 11,
     "metadata": {},
     "output_type": "execute_result"
    }
   ],
   "source": [
    "trainer.test(model, datamodule=dm)"
   ]
  }
 ],
 "metadata": {
  "kernelspec": {
   "display_name": "Python 3.10.4 ('gnn')",
   "language": "python",
   "name": "python3"
  },
  "language_info": {
   "codemirror_mode": {
    "name": "ipython",
    "version": 3
   },
   "file_extension": ".py",
   "mimetype": "text/x-python",
   "name": "python",
   "nbconvert_exporter": "python",
   "pygments_lexer": "ipython3",
   "version": "3.10.4"
  },
  "orig_nbformat": 4,
  "vscode": {
   "interpreter": {
    "hash": "85113470e09818743eb85a1ece18880584d887948ba8d5446d7db538ff44b82f"
   }
  }
 },
 "nbformat": 4,
 "nbformat_minor": 2
}
