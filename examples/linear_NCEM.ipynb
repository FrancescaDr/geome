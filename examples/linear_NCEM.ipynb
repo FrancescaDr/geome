{
 "cells": [
  {
   "cell_type": "code",
   "execution_count": 1,
   "metadata": {},
   "outputs": [],
   "source": [
    "%load_ext autoreload\n",
    "%autoreload 2"
   ]
  },
  {
   "cell_type": "code",
   "execution_count": 25,
   "metadata": {},
   "outputs": [],
   "source": [
    "import os\n",
    "from argparse import ArgumentParser, Namespace\n",
    "from random import choices\n",
    "import pytorch_lightning as pl\n",
    "from typing import Callable, List, Optional, Sequence, Union\n",
    "import squidpy as sq\n",
    "import torch\n",
    "from torch_geometric.loader import RandomNodeSampler\n",
    "import pandas as pd\n",
    "from torch_geometric.data import Data\n",
    "from anndata import AnnData\n",
    "from gpu_spatial_graph_pipeline.utils import adata2data, to_one_data\n",
    "from gpu_spatial_graph_pipeline.data.datamodule import GraphAnnDataModule\n",
    "from gpu_spatial_graph_pipeline.models.linear_ncem import LinearNCEM"
   ]
  },
  {
   "cell_type": "code",
   "execution_count": 34,
   "metadata": {},
   "outputs": [],
   "source": [
    "#Mibitof\n",
    "adata = sq.datasets.mibitof()\n",
    "#feature_name=adata.obs.keys()[0] #Use for IMC dataset\n",
    "\n",
    "#specify features to use\n",
    "feature_names=['Cluster','batch']\n",
    "\n",
    "#input of datamodule\n",
    "num_features=(len(set(adata.obs[feature_names[0]])),len(set(adata.obs[feature_names[1]])))\n",
    "num_genes=adata.X.shape[1]\n",
    "\n",
    "def mibitof2data(adata):\n",
    "    return [adata2data(adata,feature_names)[0]]\n"
   ]
  },
  {
   "cell_type": "code",
   "execution_count": 42,
   "metadata": {},
   "outputs": [],
   "source": [
    "dm = GraphAnnDataModule(adata=adata, adata2data_fn=mibitof2data, num_workers = 8, batch_size=40,learning_type='nodewise')"
   ]
  },
  {
   "cell_type": "code",
   "execution_count": 43,
   "metadata": {},
   "outputs": [],
   "source": [
    "dm.setup()"
   ]
  },
  {
   "cell_type": "code",
   "execution_count": 44,
   "metadata": {},
   "outputs": [
    {
     "name": "stdout",
     "output_type": "stream",
     "text": [
      "Data(x=[500, 11], edge_index=[2, 1452], y=[500, 36], train_mask=[500], val_mask=[500], test_mask=[500], batch_size=40)\n",
      "Data(x=[551, 11], edge_index=[2, 1572], y=[551, 36], train_mask=[551], val_mask=[551], test_mask=[551], batch_size=40)\n",
      "Data(x=[513, 11], edge_index=[2, 1518], y=[513, 36], train_mask=[513], val_mask=[513], test_mask=[513], batch_size=40)\n",
      "Data(x=[515, 11], edge_index=[2, 1536], y=[515, 36], train_mask=[515], val_mask=[515], test_mask=[515], batch_size=40)\n",
      "Data(x=[530, 11], edge_index=[2, 1554], y=[530, 36], train_mask=[530], val_mask=[530], test_mask=[530], batch_size=40)\n",
      "Data(x=[522, 11], edge_index=[2, 1512], y=[522, 36], train_mask=[522], val_mask=[522], test_mask=[522], batch_size=40)\n",
      "Data(x=[476, 11], edge_index=[2, 1434], y=[476, 36], train_mask=[476], val_mask=[476], test_mask=[476], batch_size=40)\n",
      "Data(x=[488, 11], edge_index=[2, 1434], y=[488, 36], train_mask=[488], val_mask=[488], test_mask=[488], batch_size=40)\n",
      "Data(x=[516, 11], edge_index=[2, 1506], y=[516, 36], train_mask=[516], val_mask=[516], test_mask=[516], batch_size=40)\n",
      "Data(x=[498, 11], edge_index=[2, 1464], y=[498, 36], train_mask=[498], val_mask=[498], test_mask=[498], batch_size=40)\n",
      "Data(x=[479, 11], edge_index=[2, 1446], y=[479, 36], train_mask=[479], val_mask=[479], test_mask=[479], batch_size=40)\n",
      "Data(x=[523, 11], edge_index=[2, 1530], y=[523, 36], train_mask=[523], val_mask=[523], test_mask=[523], batch_size=40)\n",
      "Data(x=[479, 11], edge_index=[2, 1470], y=[479, 36], train_mask=[479], val_mask=[479], test_mask=[479], batch_size=40)\n",
      "Data(x=[497, 11], edge_index=[2, 1500], y=[497, 36], train_mask=[497], val_mask=[497], test_mask=[497], batch_size=40)\n",
      "Data(x=[521, 11], edge_index=[2, 1512], y=[521, 36], train_mask=[521], val_mask=[521], test_mask=[521], batch_size=40)\n",
      "Data(x=[467, 11], edge_index=[2, 1434], y=[467, 36], train_mask=[467], val_mask=[467], test_mask=[467], batch_size=40)\n",
      "Data(x=[524, 11], edge_index=[2, 1512], y=[524, 36], train_mask=[524], val_mask=[524], test_mask=[524], batch_size=40)\n",
      "Data(x=[510, 11], edge_index=[2, 1560], y=[510, 36], train_mask=[510], val_mask=[510], test_mask=[510], batch_size=40)\n",
      "Data(x=[517, 11], edge_index=[2, 1512], y=[517, 36], train_mask=[517], val_mask=[517], test_mask=[517], batch_size=40)\n",
      "Data(x=[494, 11], edge_index=[2, 1488], y=[494, 36], train_mask=[494], val_mask=[494], test_mask=[494], batch_size=40)\n",
      "Data(x=[489, 11], edge_index=[2, 1452], y=[489, 36], train_mask=[489], val_mask=[489], test_mask=[489], batch_size=40)\n",
      "Data(x=[477, 11], edge_index=[2, 1416], y=[477, 36], train_mask=[477], val_mask=[477], test_mask=[477], batch_size=40)\n",
      "Data(x=[507, 11], edge_index=[2, 1500], y=[507, 36], train_mask=[507], val_mask=[507], test_mask=[507], batch_size=40)\n",
      "Data(x=[526, 11], edge_index=[2, 1548], y=[526, 36], train_mask=[526], val_mask=[526], test_mask=[526], batch_size=40)\n",
      "Data(x=[501, 11], edge_index=[2, 1542], y=[501, 36], train_mask=[501], val_mask=[501], test_mask=[501], batch_size=40)\n",
      "Data(x=[328, 11], edge_index=[2, 864], y=[328, 36], train_mask=[328], val_mask=[328], test_mask=[328], batch_size=21)\n"
     ]
    }
   ],
   "source": [
    "for batch in dm.train_dataloader():\n",
    "    print(batch)"
   ]
  },
  {
   "cell_type": "code",
   "execution_count": 45,
   "metadata": {},
   "outputs": [],
   "source": [
    "model = LinearNCEM(in_channels=num_features,out_channels=num_genes, model_type='spatial', lr=0.0001,weight_decay=0.000001)"
   ]
  },
  {
   "cell_type": "code",
   "execution_count": 46,
   "metadata": {},
   "outputs": [
    {
     "name": "stderr",
     "output_type": "stream",
     "text": [
      "GPU available: True (cuda), used: False\n",
      "TPU available: False, using: 0 TPU cores\n",
      "IPU available: False, using: 0 IPUs\n",
      "HPU available: False, using: 0 HPUs\n",
      "/home/sel/anaconda3/envs/graph/lib/python3.8/site-packages/pytorch_lightning/trainer/trainer.py:1764: PossibleUserWarning: GPU available but not used. Set `accelerator` and `devices` using `Trainer(accelerator='gpu', devices=1)`.\n",
      "  rank_zero_warn(\n"
     ]
    }
   ],
   "source": [
    "gpu=False\n",
    "if gpu:\n",
    "    trainer:pl.Trainer = pl.Trainer(accelerator='gpu',max_epochs=100,log_every_n_steps=1)\n",
    "else:\n",
    "    trainer:pl.Trainer = pl.Trainer(accelerator='cpu',max_epochs=100,log_every_n_steps=1)\n"
   ]
  },
  {
   "cell_type": "code",
   "execution_count": 47,
   "metadata": {},
   "outputs": [
    {
     "name": "stderr",
     "output_type": "stream",
     "text": [
      "\n",
      "  | Name        | Type            | Params\n",
      "------------------------------------------------\n",
      "0 | model_sigma | LinearSpatial   | 2.7 K \n",
      "1 | model_mu    | LinearSpatial   | 2.7 K \n",
      "2 | loss_module | GaussianNLLLoss | 0     \n",
      "------------------------------------------------\n",
      "5.5 K     Trainable params\n",
      "0         Non-trainable params\n",
      "5.5 K     Total params\n",
      "0.022     Total estimated model params size (MB)\n"
     ]
    },
    {
     "data": {
      "application/vnd.jupyter.widget-view+json": {
       "model_id": "1a1b5a40a44748058eb34d611666af46",
       "version_major": 2,
       "version_minor": 0
      },
      "text/plain": [
       "Sanity Checking: 0it [00:00, ?it/s]"
      ]
     },
     "metadata": {},
     "output_type": "display_data"
    },
    {
     "name": "stderr",
     "output_type": "stream",
     "text": [
      "/home/sel/anaconda3/envs/graph/lib/python3.8/site-packages/pytorch_lightning/trainer/connectors/data_connector.py:225: PossibleUserWarning: The dataloader, val_dataloader 0, does not have many workers which may be a bottleneck. Consider increasing the value of the `num_workers` argument` (try 12 which is the number of cpus on this machine) in the `DataLoader` init to improve performance.\n",
      "  rank_zero_warn(\n",
      "/home/sel/anaconda3/envs/graph/lib/python3.8/site-packages/pytorch_lightning/utilities/data.py:98: UserWarning: Trying to infer the `batch_size` from an ambiguous collection. The batch size we found is 16. To avoid any miscalculations, use `self.log(..., batch_size=batch_size)`.\n",
      "  warning_cache.warn(\n",
      "/home/sel/anaconda3/envs/graph/lib/python3.8/site-packages/pytorch_lightning/trainer/connectors/data_connector.py:225: PossibleUserWarning: The dataloader, train_dataloader, does not have many workers which may be a bottleneck. Consider increasing the value of the `num_workers` argument` (try 12 which is the number of cpus on this machine) in the `DataLoader` init to improve performance.\n",
      "  rank_zero_warn(\n"
     ]
    },
    {
     "data": {
      "application/vnd.jupyter.widget-view+json": {
       "model_id": "23427e109aa14962ad7b8fbb5c6144e9",
       "version_major": 2,
       "version_minor": 0
      },
      "text/plain": [
       "Training: 0it [00:00, ?it/s]"
      ]
     },
     "metadata": {},
     "output_type": "display_data"
    },
    {
     "data": {
      "application/vnd.jupyter.widget-view+json": {
       "model_id": "39779e39334d4b0cb9d458341375f061",
       "version_major": 2,
       "version_minor": 0
      },
      "text/plain": [
       "Validation: 0it [00:00, ?it/s]"
      ]
     },
     "metadata": {},
     "output_type": "display_data"
    },
    {
     "data": {
      "application/vnd.jupyter.widget-view+json": {
       "model_id": "84bdb81b6e674ebca54ac7b4f8a30a82",
       "version_major": 2,
       "version_minor": 0
      },
      "text/plain": [
       "Validation: 0it [00:00, ?it/s]"
      ]
     },
     "metadata": {},
     "output_type": "display_data"
    },
    {
     "data": {
      "application/vnd.jupyter.widget-view+json": {
       "model_id": "78b91029e6be46c4b6923ce61c327e4e",
       "version_major": 2,
       "version_minor": 0
      },
      "text/plain": [
       "Validation: 0it [00:00, ?it/s]"
      ]
     },
     "metadata": {},
     "output_type": "display_data"
    },
    {
     "data": {
      "application/vnd.jupyter.widget-view+json": {
       "model_id": "a3f9f19e979343559374dfb8fba2df71",
       "version_major": 2,
       "version_minor": 0
      },
      "text/plain": [
       "Validation: 0it [00:00, ?it/s]"
      ]
     },
     "metadata": {},
     "output_type": "display_data"
    },
    {
     "data": {
      "application/vnd.jupyter.widget-view+json": {
       "model_id": "84d7d59197ea491bae3c89ac7d4039ff",
       "version_major": 2,
       "version_minor": 0
      },
      "text/plain": [
       "Validation: 0it [00:00, ?it/s]"
      ]
     },
     "metadata": {},
     "output_type": "display_data"
    },
    {
     "data": {
      "application/vnd.jupyter.widget-view+json": {
       "model_id": "0b063e33a2f04ecc99cc9326eea5a80a",
       "version_major": 2,
       "version_minor": 0
      },
      "text/plain": [
       "Validation: 0it [00:00, ?it/s]"
      ]
     },
     "metadata": {},
     "output_type": "display_data"
    },
    {
     "data": {
      "application/vnd.jupyter.widget-view+json": {
       "model_id": "bf3db43f30714b94ac21a0461f8308da",
       "version_major": 2,
       "version_minor": 0
      },
      "text/plain": [
       "Validation: 0it [00:00, ?it/s]"
      ]
     },
     "metadata": {},
     "output_type": "display_data"
    },
    {
     "data": {
      "application/vnd.jupyter.widget-view+json": {
       "model_id": "bcf927415c42470a81b870ef548a7625",
       "version_major": 2,
       "version_minor": 0
      },
      "text/plain": [
       "Validation: 0it [00:00, ?it/s]"
      ]
     },
     "metadata": {},
     "output_type": "display_data"
    },
    {
     "data": {
      "application/vnd.jupyter.widget-view+json": {
       "model_id": "98aa303508df4e35a97be15f8d97bab4",
       "version_major": 2,
       "version_minor": 0
      },
      "text/plain": [
       "Validation: 0it [00:00, ?it/s]"
      ]
     },
     "metadata": {},
     "output_type": "display_data"
    },
    {
     "data": {
      "application/vnd.jupyter.widget-view+json": {
       "model_id": "255fd78cd1244ebdbb61c1faec4313b7",
       "version_major": 2,
       "version_minor": 0
      },
      "text/plain": [
       "Validation: 0it [00:00, ?it/s]"
      ]
     },
     "metadata": {},
     "output_type": "display_data"
    },
    {
     "data": {
      "application/vnd.jupyter.widget-view+json": {
       "model_id": "12ff6672198a4c3b8b19fbcb5b559798",
       "version_major": 2,
       "version_minor": 0
      },
      "text/plain": [
       "Validation: 0it [00:00, ?it/s]"
      ]
     },
     "metadata": {},
     "output_type": "display_data"
    },
    {
     "data": {
      "application/vnd.jupyter.widget-view+json": {
       "model_id": "f652576b7bd4485187ded2e791a887c8",
       "version_major": 2,
       "version_minor": 0
      },
      "text/plain": [
       "Validation: 0it [00:00, ?it/s]"
      ]
     },
     "metadata": {},
     "output_type": "display_data"
    },
    {
     "data": {
      "application/vnd.jupyter.widget-view+json": {
       "model_id": "de956806ae6a43e6a63e72b4ae9a53b3",
       "version_major": 2,
       "version_minor": 0
      },
      "text/plain": [
       "Validation: 0it [00:00, ?it/s]"
      ]
     },
     "metadata": {},
     "output_type": "display_data"
    },
    {
     "name": "stderr",
     "output_type": "stream",
     "text": [
      "/home/sel/anaconda3/envs/graph/lib/python3.8/site-packages/pytorch_lightning/trainer/trainer.py:653: UserWarning: Detected KeyboardInterrupt, attempting graceful shutdown...\n",
      "  rank_zero_warn(\"Detected KeyboardInterrupt, attempting graceful shutdown...\")\n"
     ]
    }
   ],
   "source": [
    "trainer.fit(model,datamodule=dm)"
   ]
  },
  {
   "cell_type": "code",
   "execution_count": null,
   "metadata": {},
   "outputs": [],
   "source": []
  }
 ],
 "metadata": {
  "kernelspec": {
   "display_name": "Python 3.8.13 ('graph')",
   "language": "python",
   "name": "python3"
  },
  "language_info": {
   "codemirror_mode": {
    "name": "ipython",
    "version": 3
   },
   "file_extension": ".py",
   "mimetype": "text/x-python",
   "name": "python",
   "nbconvert_exporter": "python",
   "pygments_lexer": "ipython3",
   "version": "3.8.13"
  },
  "orig_nbformat": 4,
  "vscode": {
   "interpreter": {
    "hash": "981d6b98148d5c112a178ac684e8a623c495fc9a36f9dec9d6f3680f6f97844b"
   }
  }
 },
 "nbformat": 4,
 "nbformat_minor": 2
}
