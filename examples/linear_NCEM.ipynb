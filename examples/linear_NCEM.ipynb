{
 "cells": [
  {
   "cell_type": "code",
   "execution_count": 1,
   "metadata": {},
   "outputs": [],
   "source": [
    "%load_ext autoreload\n",
    "%autoreload 2"
   ]
  },
  {
   "cell_type": "code",
   "execution_count": 2,
   "metadata": {},
   "outputs": [],
   "source": [
    "import pytorch_lightning as pl\n",
    "from typing import Sequence\n",
    "import squidpy as sq\n",
    "import torch\n",
    "import pandas as pd\n",
    "from torch_geometric.data import Data\n",
    "from anndata import AnnData\n",
    "from gpu_spatial_graph_pipeline.utils import adata2data\n",
    "from gpu_spatial_graph_pipeline.data.datamodule import GraphAnnDataModule\n",
    "from gpu_spatial_graph_pipeline.models.linear_ncem import LinearNCEM"
   ]
  },
  {
   "cell_type": "code",
   "execution_count": 3,
   "metadata": {},
   "outputs": [],
   "source": [
    "#Mibitof\n",
    "# adata = sq.datasets.mibitof()\n",
    "# #feature_name=adata.obs.keys()[0] #Use for IMC dataset\n",
    "# feature_name='Cluster'\n",
    "# num_features=len(set(adata.obs[feature_name]))\n",
    "# encoder_hidden_dims=30\n",
    "# decoder_hidden_dims=30\n",
    "# num_vars=adata.X.shape[1]\n",
    "\n",
    "#IMC\n",
    "\n",
    "\n",
    "adata = sq.datasets.imc()\n",
    "feature_name=adata.obs.keys()[0] #Use for IMC dataset\n",
    "\n",
    "def adata2data_imc(adata: AnnData):\n",
    "    return adata2data(adata,feature_name)\n",
    "\n",
    "num_features=len(set(adata.obs[feature_name]))\n",
    "num_vars=adata.X.shape[1]\n"
   ]
  },
  {
   "cell_type": "code",
   "execution_count": 4,
   "metadata": {},
   "outputs": [],
   "source": [
    "dm = GraphAnnDataModule(adata=adata,adata2data_fn=adata2data_imc, num_workers = 8, batch_size=100)"
   ]
  },
  {
   "cell_type": "code",
   "execution_count": 5,
   "metadata": {},
   "outputs": [],
   "source": [
    "dm.setup()"
   ]
  },
  {
   "cell_type": "code",
   "execution_count": 6,
   "metadata": {},
   "outputs": [
    {
     "name": "stdout",
     "output_type": "stream",
     "text": [
      "Data(num_nodes=52, edge_index=[2, 2], x=[52, 11], y=[52, 34])\n",
      "Data(num_nodes=37, edge_index=[2, 1], x=[37, 11], y=[37, 34])\n",
      "Data(num_nodes=46, edge_index=[2, 4], x=[46, 11], y=[46, 34])\n",
      "Data(num_nodes=52, edge_index=[2, 2], x=[52, 11], y=[52, 34])\n",
      "Data(num_nodes=47, edge_index=[2, 5], x=[47, 11], y=[47, 34])\n",
      "Data(num_nodes=41, edge_index=[2, 3], x=[41, 11], y=[41, 34])\n",
      "Data(num_nodes=55, edge_index=[2, 6], x=[55, 11], y=[55, 34])\n",
      "Data(num_nodes=43, edge_index=[2, 4], x=[43, 11], y=[43, 34])\n",
      "Data(num_nodes=51, edge_index=[2, 2], x=[51, 11], y=[51, 34])\n",
      "Data(num_nodes=53, edge_index=[2, 3], x=[53, 11], y=[53, 34])\n",
      "Data(num_nodes=30, edge_index=[2, 0], x=[30, 11], y=[30, 34])\n",
      "Data(num_nodes=50, edge_index=[2, 5], x=[50, 11], y=[50, 34])\n",
      "Data(num_nodes=54, edge_index=[2, 3], x=[54, 11], y=[54, 34])\n",
      "Data(num_nodes=38, edge_index=[2, 1], x=[38, 11], y=[38, 34])\n",
      "Data(num_nodes=50, edge_index=[2, 4], x=[50, 11], y=[50, 34])\n",
      "Data(num_nodes=50, edge_index=[2, 0], x=[50, 11], y=[50, 34])\n",
      "Data(num_nodes=32, edge_index=[2, 0], x=[32, 11], y=[32, 34])\n",
      "Data(num_nodes=54, edge_index=[2, 1], x=[54, 11], y=[54, 34])\n",
      "Data(num_nodes=47, edge_index=[2, 7], x=[47, 11], y=[47, 34])\n",
      "Data(num_nodes=54, edge_index=[2, 4], x=[54, 11], y=[54, 34])\n",
      "Data(num_nodes=58, edge_index=[2, 7], x=[58, 11], y=[58, 34])\n",
      "Data(num_nodes=41, edge_index=[2, 3], x=[41, 11], y=[41, 34])\n",
      "Data(num_nodes=52, edge_index=[2, 2], x=[52, 11], y=[52, 34])\n",
      "Data(num_nodes=50, edge_index=[2, 2], x=[50, 11], y=[50, 34])\n",
      "Data(num_nodes=44, edge_index=[2, 0], x=[44, 11], y=[44, 34])\n",
      "Data(num_nodes=38, edge_index=[2, 0], x=[38, 11], y=[38, 34])\n",
      "Data(num_nodes=48, edge_index=[2, 2], x=[48, 11], y=[48, 34])\n",
      "Data(num_nodes=47, edge_index=[2, 6], x=[47, 11], y=[47, 34])\n",
      "Data(num_nodes=43, edge_index=[2, 2], x=[43, 11], y=[43, 34])\n",
      "Data(num_nodes=40, edge_index=[2, 2], x=[40, 11], y=[40, 34])\n",
      "Data(num_nodes=46, edge_index=[2, 6], x=[46, 11], y=[46, 34])\n",
      "Data(num_nodes=48, edge_index=[2, 4], x=[48, 11], y=[48, 34])\n",
      "Data(num_nodes=44, edge_index=[2, 2], x=[44, 11], y=[44, 34])\n",
      "Data(num_nodes=38, edge_index=[2, 4], x=[38, 11], y=[38, 34])\n",
      "Data(num_nodes=44, edge_index=[2, 6], x=[44, 11], y=[44, 34])\n",
      "Data(num_nodes=51, edge_index=[2, 0], x=[51, 11], y=[51, 34])\n",
      "Data(num_nodes=50, edge_index=[2, 6], x=[50, 11], y=[50, 34])\n",
      "Data(num_nodes=46, edge_index=[2, 2], x=[46, 11], y=[46, 34])\n",
      "Data(num_nodes=45, edge_index=[2, 2], x=[45, 11], y=[45, 34])\n",
      "Data(num_nodes=46, edge_index=[2, 0], x=[46, 11], y=[46, 34])\n",
      "Data(num_nodes=42, edge_index=[2, 2], x=[42, 11], y=[42, 34])\n",
      "Data(num_nodes=36, edge_index=[2, 0], x=[36, 11], y=[36, 34])\n",
      "Data(num_nodes=54, edge_index=[2, 6], x=[54, 11], y=[54, 34])\n",
      "Data(num_nodes=52, edge_index=[2, 0], x=[52, 11], y=[52, 34])\n",
      "Data(num_nodes=53, edge_index=[2, 5], x=[53, 11], y=[53, 34])\n",
      "Data(num_nodes=49, edge_index=[2, 4], x=[49, 11], y=[49, 34])\n",
      "Data(num_nodes=49, edge_index=[2, 2], x=[49, 11], y=[49, 34])\n",
      "Data(num_nodes=60, edge_index=[2, 2], x=[60, 11], y=[60, 34])\n",
      "Data(num_nodes=51, edge_index=[2, 6], x=[51, 11], y=[51, 34])\n",
      "Data(num_nodes=39, edge_index=[2, 1], x=[39, 11], y=[39, 34])\n",
      "Data(num_nodes=53, edge_index=[2, 2], x=[53, 11], y=[53, 34])\n",
      "Data(num_nodes=39, edge_index=[2, 0], x=[39, 11], y=[39, 34])\n",
      "Data(num_nodes=43, edge_index=[2, 0], x=[43, 11], y=[43, 34])\n",
      "Data(num_nodes=44, edge_index=[2, 2], x=[44, 11], y=[44, 34])\n",
      "Data(num_nodes=56, edge_index=[2, 3], x=[56, 11], y=[56, 34])\n",
      "Data(num_nodes=36, edge_index=[2, 2], x=[36, 11], y=[36, 34])\n",
      "Data(num_nodes=46, edge_index=[2, 3], x=[46, 11], y=[46, 34])\n",
      "Data(num_nodes=43, edge_index=[2, 6], x=[43, 11], y=[43, 34])\n",
      "Data(num_nodes=31, edge_index=[2, 0], x=[31, 11], y=[31, 34])\n",
      "Data(num_nodes=56, edge_index=[2, 8], x=[56, 11], y=[56, 34])\n",
      "Data(num_nodes=47, edge_index=[2, 1], x=[47, 11], y=[47, 34])\n",
      "Data(num_nodes=45, edge_index=[2, 1], x=[45, 11], y=[45, 34])\n",
      "Data(num_nodes=58, edge_index=[2, 5], x=[58, 11], y=[58, 34])\n",
      "Data(num_nodes=35, edge_index=[2, 0], x=[35, 11], y=[35, 34])\n",
      "Data(num_nodes=47, edge_index=[2, 4], x=[47, 11], y=[47, 34])\n",
      "Data(num_nodes=45, edge_index=[2, 2], x=[45, 11], y=[45, 34])\n",
      "Data(num_nodes=47, edge_index=[2, 3], x=[47, 11], y=[47, 34])\n",
      "Data(num_nodes=49, edge_index=[2, 1], x=[49, 11], y=[49, 34])\n",
      "Data(num_nodes=42, edge_index=[2, 0], x=[42, 11], y=[42, 34])\n",
      "Data(num_nodes=44, edge_index=[2, 5], x=[44, 11], y=[44, 34])\n",
      "Data(num_nodes=48, edge_index=[2, 0], x=[48, 11], y=[48, 34])\n",
      "Data(num_nodes=38, edge_index=[2, 0], x=[38, 11], y=[38, 34])\n",
      "Data(num_nodes=44, edge_index=[2, 0], x=[44, 11], y=[44, 34])\n",
      "Data(num_nodes=54, edge_index=[2, 4], x=[54, 11], y=[54, 34])\n",
      "Data(num_nodes=51, edge_index=[2, 3], x=[51, 11], y=[51, 34])\n",
      "Data(num_nodes=54, edge_index=[2, 2], x=[54, 11], y=[54, 34])\n",
      "Data(num_nodes=53, edge_index=[2, 2], x=[53, 11], y=[53, 34])\n",
      "Data(num_nodes=52, edge_index=[2, 0], x=[52, 11], y=[52, 34])\n",
      "Data(num_nodes=33, edge_index=[2, 2], x=[33, 11], y=[33, 34])\n",
      "Data(num_nodes=36, edge_index=[2, 0], x=[36, 11], y=[36, 34])\n",
      "Data(num_nodes=41, edge_index=[2, 3], x=[41, 11], y=[41, 34])\n",
      "Data(num_nodes=55, edge_index=[2, 3], x=[55, 11], y=[55, 34])\n",
      "Data(num_nodes=52, edge_index=[2, 4], x=[52, 11], y=[52, 34])\n",
      "Data(num_nodes=56, edge_index=[2, 6], x=[56, 11], y=[56, 34])\n",
      "Data(num_nodes=54, edge_index=[2, 2], x=[54, 11], y=[54, 34])\n",
      "Data(num_nodes=45, edge_index=[2, 4], x=[45, 11], y=[45, 34])\n",
      "Data(num_nodes=44, edge_index=[2, 0], x=[44, 11], y=[44, 34])\n",
      "Data(num_nodes=47, edge_index=[2, 4], x=[47, 11], y=[47, 34])\n",
      "Data(num_nodes=37, edge_index=[2, 4], x=[37, 11], y=[37, 34])\n",
      "Data(num_nodes=40, edge_index=[2, 2], x=[40, 11], y=[40, 34])\n",
      "Data(num_nodes=51, edge_index=[2, 4], x=[51, 11], y=[51, 34])\n",
      "Data(num_nodes=39, edge_index=[2, 4], x=[39, 11], y=[39, 34])\n",
      "Data(num_nodes=47, edge_index=[2, 0], x=[47, 11], y=[47, 34])\n",
      "Data(num_nodes=57, edge_index=[2, 2], x=[57, 11], y=[57, 34])\n",
      "Data(num_nodes=50, edge_index=[2, 4], x=[50, 11], y=[50, 34])\n",
      "Data(num_nodes=46, edge_index=[2, 4], x=[46, 11], y=[46, 34])\n",
      "Data(num_nodes=42, edge_index=[2, 3], x=[42, 11], y=[42, 34])\n",
      "Data(num_nodes=55, edge_index=[2, 6], x=[55, 11], y=[55, 34])\n",
      "Data(num_nodes=50, edge_index=[2, 3], x=[50, 11], y=[50, 34])\n",
      "Data(num_nodes=51, edge_index=[2, 2], x=[51, 11], y=[51, 34])\n"
     ]
    }
   ],
   "source": [
    "for batch in dm.train_dataloader():\n",
    "    print(batch)"
   ]
  },
  {
   "cell_type": "code",
   "execution_count": 7,
   "metadata": {},
   "outputs": [],
   "source": [
    "model = LinearNCEM(in_channels=num_features,out_channels=num_vars, lr=0.0001,weight_decay=0.000001)"
   ]
  },
  {
   "cell_type": "code",
   "execution_count": 8,
   "metadata": {},
   "outputs": [
    {
     "name": "stderr",
     "output_type": "stream",
     "text": [
      "GPU available: True, used: False\n",
      "TPU available: False, using: 0 TPU cores\n",
      "IPU available: False, using: 0 IPUs\n",
      "HPU available: False, using: 0 HPUs\n",
      "/home/sel/anaconda3/envs/ncem/lib/python3.8/site-packages/pytorch_lightning/trainer/trainer.py:1814: PossibleUserWarning: GPU available but not used. Set `accelerator` and `devices` using `Trainer(accelerator='gpu', devices=1)`.\n",
      "  rank_zero_warn(\n"
     ]
    }
   ],
   "source": [
    "gpu=False\n",
    "if gpu:\n",
    "    trainer:pl.Trainer = pl.Trainer(accelerator='gpu',max_epochs=3,log_every_n_steps=1)\n",
    "else:\n",
    "    trainer:pl.Trainer = pl.Trainer(accelerator='cpu',max_epochs=3,log_every_n_steps=1)\n"
   ]
  },
  {
   "cell_type": "code",
   "execution_count": 9,
   "metadata": {},
   "outputs": [
    {
     "name": "stderr",
     "output_type": "stream",
     "text": [
      "\n",
      "  | Name        | Type            | Params\n",
      "------------------------------------------------\n",
      "0 | model_sigma | LinearSpatial   | 408   \n",
      "1 | model_mu    | LinearSpatial   | 408   \n",
      "2 | loss_module | GaussianNLLLoss | 0     \n",
      "------------------------------------------------\n",
      "816       Trainable params\n",
      "0         Non-trainable params\n",
      "816       Total params\n",
      "0.003     Total estimated model params size (MB)\n"
     ]
    },
    {
     "data": {
      "application/vnd.jupyter.widget-view+json": {
       "model_id": "a3030df296c9434b81467339b0936ffc",
       "version_major": 2,
       "version_minor": 0
      },
      "text/plain": [
       "Sanity Checking: 0it [00:00, ?it/s]"
      ]
     },
     "metadata": {},
     "output_type": "display_data"
    },
    {
     "name": "stderr",
     "output_type": "stream",
     "text": [
      "/home/sel/anaconda3/envs/ncem/lib/python3.8/site-packages/pytorch_lightning/utilities/data.py:72: UserWarning: Trying to infer the `batch_size` from an ambiguous collection. The batch size we found is 2. To avoid any miscalculations, use `self.log(..., batch_size=batch_size)`.\n",
      "  warning_cache.warn(\n"
     ]
    },
    {
     "data": {
      "application/vnd.jupyter.widget-view+json": {
       "model_id": "eaa5a63efc93484e920d936899f5ccd7",
       "version_major": 2,
       "version_minor": 0
      },
      "text/plain": [
       "Training: 0it [00:00, ?it/s]"
      ]
     },
     "metadata": {},
     "output_type": "display_data"
    },
    {
     "data": {
      "application/vnd.jupyter.widget-view+json": {
       "model_id": "48720508e65749a2b1709669bdafee6d",
       "version_major": 2,
       "version_minor": 0
      },
      "text/plain": [
       "Validation: 0it [00:00, ?it/s]"
      ]
     },
     "metadata": {},
     "output_type": "display_data"
    },
    {
     "data": {
      "application/vnd.jupyter.widget-view+json": {
       "model_id": "81f3d52a9fbf4e3d9afeb0a00a87c4a1",
       "version_major": 2,
       "version_minor": 0
      },
      "text/plain": [
       "Validation: 0it [00:00, ?it/s]"
      ]
     },
     "metadata": {},
     "output_type": "display_data"
    },
    {
     "data": {
      "application/vnd.jupyter.widget-view+json": {
       "model_id": "d6c3c86eebd44c43bd06f421232fef63",
       "version_major": 2,
       "version_minor": 0
      },
      "text/plain": [
       "Validation: 0it [00:00, ?it/s]"
      ]
     },
     "metadata": {},
     "output_type": "display_data"
    }
   ],
   "source": [
    "trainer.fit(model,datamodule=dm)"
   ]
  },
  {
   "cell_type": "code",
   "execution_count": null,
   "metadata": {},
   "outputs": [],
   "source": []
  }
 ],
 "metadata": {
  "kernelspec": {
   "display_name": "Python 3.8.13 ('ncem')",
   "language": "python",
   "name": "python3"
  },
  "language_info": {
   "codemirror_mode": {
    "name": "ipython",
    "version": 3
   },
   "file_extension": ".py",
   "mimetype": "text/x-python",
   "name": "python",
   "nbconvert_exporter": "python",
   "pygments_lexer": "ipython3",
   "version": "3.8.13"
  },
  "orig_nbformat": 4,
  "vscode": {
   "interpreter": {
    "hash": "a2d03c6a34750e60d8dd9ca1a6ee0965fb69595564131e0d0a03d064a4a81ea0"
   }
  }
 },
 "nbformat": 4,
 "nbformat_minor": 2
}
