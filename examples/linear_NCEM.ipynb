{
 "cells": [
  {
   "cell_type": "code",
   "execution_count": 1,
   "metadata": {},
   "outputs": [],
   "source": [
    "%load_ext autoreload\n",
    "%autoreload 2"
   ]
  },
  {
   "cell_type": "code",
   "execution_count": 2,
   "metadata": {},
   "outputs": [],
   "source": [
    "from argparse import ArgumentParser, Namespace\n",
    "from random import choices\n",
    "import pytorch_lightning as pl\n",
    "from typing import Callable, List, Optional, Sequence, Union\n",
    "import squidpy as sq\n",
    "import torch\n",
    "from torch_geometric.loader import RandomNodeSampler\n",
    "import pandas as pd\n",
    "from torch_geometric.data import Data\n",
    "from anndata import AnnData\n",
    "from gpu_spatial_graph_pipeline.utils import adata2data\n",
    "from gpu_spatial_graph_pipeline.data.node_datamodule import NodeDataModule\n",
    "from gpu_spatial_graph_pipeline.models.graph_embedding import GraphEmbedding\n",
    "from gpu_spatial_graph_pipeline.models.non_linear_ncem import NonLinearNCEM\n",
    "from gpu_spatial_graph_pipeline.models.linear_ncem import LinearNCEM"
   ]
  },
  {
   "cell_type": "code",
   "execution_count": 3,
   "metadata": {},
   "outputs": [],
   "source": [
    "#Mibitof\n",
    "# adata = sq.datasets.mibitof()\n",
    "# #feature_name=adata.obs.keys()[0] #Use for IMC dataset\n",
    "# feature_name='Cluster'\n",
    "# num_features=len(set(adata.obs[feature_name]))\n",
    "# encoder_hidden_dims=30\n",
    "# decoder_hidden_dims=30\n",
    "# num_vars=adata.X.shape[1]\n",
    "\n",
    "#IMC\n",
    "\n",
    "\n",
    "adata = sq.datasets.imc()\n",
    "feature_name=adata.obs.keys()[0] #Use for IMC dataset\n",
    "\n",
    "def adata2data_imc(adata: AnnData):\n",
    "    return adata2data(adata,feature_name)\n",
    "\n",
    "num_features=len(set(adata.obs[feature_name]))\n",
    "num_vars=adata.X.shape[1]\n"
   ]
  },
  {
   "cell_type": "code",
   "execution_count": 4,
   "metadata": {},
   "outputs": [],
   "source": [
    "dm = NodeDataModule(adata=adata,adata2data_fn=adata2data_imc, num_workers = 8, batch_size=100)"
   ]
  },
  {
   "cell_type": "code",
   "execution_count": 5,
   "metadata": {},
   "outputs": [],
   "source": [
    "dm.setup()"
   ]
  },
  {
   "cell_type": "code",
   "execution_count": 7,
   "metadata": {},
   "outputs": [
    {
     "name": "stdout",
     "output_type": "stream",
     "text": [
      "Data(num_nodes=47, edge_index=[2, 0], x=[47, 11], y=[47, 34])\n",
      "Data(num_nodes=56, edge_index=[2, 0], x=[56, 11], y=[56, 34])\n",
      "Data(num_nodes=45, edge_index=[2, 2], x=[45, 11], y=[45, 34])\n",
      "Data(num_nodes=44, edge_index=[2, 0], x=[44, 11], y=[44, 34])\n",
      "Data(num_nodes=39, edge_index=[2, 4], x=[39, 11], y=[39, 34])\n",
      "Data(num_nodes=52, edge_index=[2, 6], x=[52, 11], y=[52, 34])\n",
      "Data(num_nodes=53, edge_index=[2, 4], x=[53, 11], y=[53, 34])\n",
      "Data(num_nodes=40, edge_index=[2, 2], x=[40, 11], y=[40, 34])\n",
      "Data(num_nodes=53, edge_index=[2, 6], x=[53, 11], y=[53, 34])\n",
      "Data(num_nodes=45, edge_index=[2, 1], x=[45, 11], y=[45, 34])\n",
      "Data(num_nodes=44, edge_index=[2, 0], x=[44, 11], y=[44, 34])\n",
      "Data(num_nodes=40, edge_index=[2, 2], x=[40, 11], y=[40, 34])\n",
      "Data(num_nodes=39, edge_index=[2, 4], x=[39, 11], y=[39, 34])\n",
      "Data(num_nodes=40, edge_index=[2, 0], x=[40, 11], y=[40, 34])\n",
      "Data(num_nodes=55, edge_index=[2, 0], x=[55, 11], y=[55, 34])\n",
      "Data(num_nodes=42, edge_index=[2, 5], x=[42, 11], y=[42, 34])\n",
      "Data(num_nodes=47, edge_index=[2, 2], x=[47, 11], y=[47, 34])\n",
      "Data(num_nodes=46, edge_index=[2, 0], x=[46, 11], y=[46, 34])\n",
      "Data(num_nodes=47, edge_index=[2, 6], x=[47, 11], y=[47, 34])\n",
      "Data(num_nodes=40, edge_index=[2, 0], x=[40, 11], y=[40, 34])\n",
      "Data(num_nodes=42, edge_index=[2, 8], x=[42, 11], y=[42, 34])\n",
      "Data(num_nodes=40, edge_index=[2, 4], x=[40, 11], y=[40, 34])\n",
      "Data(num_nodes=40, edge_index=[2, 7], x=[40, 11], y=[40, 34])\n",
      "Data(num_nodes=50, edge_index=[2, 3], x=[50, 11], y=[50, 34])\n",
      "Data(num_nodes=60, edge_index=[2, 8], x=[60, 11], y=[60, 34])\n",
      "Data(num_nodes=51, edge_index=[2, 3], x=[51, 11], y=[51, 34])\n",
      "Data(num_nodes=47, edge_index=[2, 4], x=[47, 11], y=[47, 34])\n",
      "Data(num_nodes=56, edge_index=[2, 5], x=[56, 11], y=[56, 34])\n",
      "Data(num_nodes=53, edge_index=[2, 6], x=[53, 11], y=[53, 34])\n",
      "Data(num_nodes=41, edge_index=[2, 8], x=[41, 11], y=[41, 34])\n",
      "Data(num_nodes=61, edge_index=[2, 11], x=[61, 11], y=[61, 34])\n",
      "Data(num_nodes=45, edge_index=[2, 2], x=[45, 11], y=[45, 34])\n",
      "Data(num_nodes=45, edge_index=[2, 0], x=[45, 11], y=[45, 34])\n",
      "Data(num_nodes=42, edge_index=[2, 0], x=[42, 11], y=[42, 34])\n",
      "Data(num_nodes=42, edge_index=[2, 2], x=[42, 11], y=[42, 34])\n",
      "Data(num_nodes=58, edge_index=[2, 6], x=[58, 11], y=[58, 34])\n",
      "Data(num_nodes=46, edge_index=[2, 2], x=[46, 11], y=[46, 34])\n",
      "Data(num_nodes=41, edge_index=[2, 4], x=[41, 11], y=[41, 34])\n",
      "Data(num_nodes=58, edge_index=[2, 0], x=[58, 11], y=[58, 34])\n",
      "Data(num_nodes=56, edge_index=[2, 0], x=[56, 11], y=[56, 34])\n",
      "Data(num_nodes=41, edge_index=[2, 2], x=[41, 11], y=[41, 34])\n",
      "Data(num_nodes=45, edge_index=[2, 3], x=[45, 11], y=[45, 34])\n",
      "Data(num_nodes=45, edge_index=[2, 2], x=[45, 11], y=[45, 34])\n",
      "Data(num_nodes=37, edge_index=[2, 9], x=[37, 11], y=[37, 34])\n",
      "Data(num_nodes=46, edge_index=[2, 6], x=[46, 11], y=[46, 34])\n",
      "Data(num_nodes=34, edge_index=[2, 0], x=[34, 11], y=[34, 34])\n",
      "Data(num_nodes=41, edge_index=[2, 4], x=[41, 11], y=[41, 34])\n",
      "Data(num_nodes=41, edge_index=[2, 9], x=[41, 11], y=[41, 34])\n",
      "Data(num_nodes=44, edge_index=[2, 0], x=[44, 11], y=[44, 34])\n",
      "Data(num_nodes=37, edge_index=[2, 2], x=[37, 11], y=[37, 34])\n",
      "Data(num_nodes=45, edge_index=[2, 5], x=[45, 11], y=[45, 34])\n",
      "Data(num_nodes=51, edge_index=[2, 4], x=[51, 11], y=[51, 34])\n",
      "Data(num_nodes=47, edge_index=[2, 3], x=[47, 11], y=[47, 34])\n",
      "Data(num_nodes=45, edge_index=[2, 2], x=[45, 11], y=[45, 34])\n",
      "Data(num_nodes=47, edge_index=[2, 2], x=[47, 11], y=[47, 34])\n",
      "Data(num_nodes=50, edge_index=[2, 2], x=[50, 11], y=[50, 34])\n",
      "Data(num_nodes=43, edge_index=[2, 0], x=[43, 11], y=[43, 34])\n",
      "Data(num_nodes=41, edge_index=[2, 1], x=[41, 11], y=[41, 34])\n",
      "Data(num_nodes=54, edge_index=[2, 4], x=[54, 11], y=[54, 34])\n",
      "Data(num_nodes=53, edge_index=[2, 8], x=[53, 11], y=[53, 34])\n",
      "Data(num_nodes=58, edge_index=[2, 2], x=[58, 11], y=[58, 34])\n",
      "Data(num_nodes=50, edge_index=[2, 5], x=[50, 11], y=[50, 34])\n",
      "Data(num_nodes=62, edge_index=[2, 7], x=[62, 11], y=[62, 34])\n",
      "Data(num_nodes=51, edge_index=[2, 2], x=[51, 11], y=[51, 34])\n",
      "Data(num_nodes=53, edge_index=[2, 4], x=[53, 11], y=[53, 34])\n",
      "Data(num_nodes=41, edge_index=[2, 0], x=[41, 11], y=[41, 34])\n",
      "Data(num_nodes=47, edge_index=[2, 4], x=[47, 11], y=[47, 34])\n",
      "Data(num_nodes=50, edge_index=[2, 8], x=[50, 11], y=[50, 34])\n",
      "Data(num_nodes=57, edge_index=[2, 3], x=[57, 11], y=[57, 34])\n",
      "Data(num_nodes=54, edge_index=[2, 2], x=[54, 11], y=[54, 34])\n",
      "Data(num_nodes=34, edge_index=[2, 2], x=[34, 11], y=[34, 34])\n",
      "Data(num_nodes=43, edge_index=[2, 1], x=[43, 11], y=[43, 34])\n",
      "Data(num_nodes=45, edge_index=[2, 0], x=[45, 11], y=[45, 34])\n",
      "Data(num_nodes=40, edge_index=[2, 3], x=[40, 11], y=[40, 34])\n",
      "Data(num_nodes=48, edge_index=[2, 1], x=[48, 11], y=[48, 34])\n",
      "Data(num_nodes=39, edge_index=[2, 6], x=[39, 11], y=[39, 34])\n",
      "Data(num_nodes=48, edge_index=[2, 2], x=[48, 11], y=[48, 34])\n",
      "Data(num_nodes=40, edge_index=[2, 2], x=[40, 11], y=[40, 34])\n",
      "Data(num_nodes=44, edge_index=[2, 2], x=[44, 11], y=[44, 34])\n",
      "Data(num_nodes=42, edge_index=[2, 2], x=[42, 11], y=[42, 34])\n",
      "Data(num_nodes=40, edge_index=[2, 4], x=[40, 11], y=[40, 34])\n",
      "Data(num_nodes=41, edge_index=[2, 0], x=[41, 11], y=[41, 34])\n",
      "Data(num_nodes=56, edge_index=[2, 5], x=[56, 11], y=[56, 34])\n",
      "Data(num_nodes=48, edge_index=[2, 4], x=[48, 11], y=[48, 34])\n",
      "Data(num_nodes=51, edge_index=[2, 9], x=[51, 11], y=[51, 34])\n",
      "Data(num_nodes=40, edge_index=[2, 0], x=[40, 11], y=[40, 34])\n",
      "Data(num_nodes=46, edge_index=[2, 7], x=[46, 11], y=[46, 34])\n",
      "Data(num_nodes=49, edge_index=[2, 4], x=[49, 11], y=[49, 34])\n",
      "Data(num_nodes=45, edge_index=[2, 4], x=[45, 11], y=[45, 34])\n",
      "Data(num_nodes=48, edge_index=[2, 4], x=[48, 11], y=[48, 34])\n",
      "Data(num_nodes=56, edge_index=[2, 5], x=[56, 11], y=[56, 34])\n",
      "Data(num_nodes=38, edge_index=[2, 2], x=[38, 11], y=[38, 34])\n",
      "Data(num_nodes=49, edge_index=[2, 4], x=[49, 11], y=[49, 34])\n",
      "Data(num_nodes=50, edge_index=[2, 2], x=[50, 11], y=[50, 34])\n",
      "Data(num_nodes=54, edge_index=[2, 4], x=[54, 11], y=[54, 34])\n",
      "Data(num_nodes=42, edge_index=[2, 2], x=[42, 11], y=[42, 34])\n",
      "Data(num_nodes=38, edge_index=[2, 0], x=[38, 11], y=[38, 34])\n",
      "Data(num_nodes=50, edge_index=[2, 0], x=[50, 11], y=[50, 34])\n",
      "Data(num_nodes=54, edge_index=[2, 3], x=[54, 11], y=[54, 34])\n",
      "Data(num_nodes=52, edge_index=[2, 4], x=[52, 11], y=[52, 34])\n"
     ]
    }
   ],
   "source": [
    "for batch in dm.train_dataloader():\n",
    "    print(batch)"
   ]
  },
  {
   "cell_type": "code",
   "execution_count": 8,
   "metadata": {},
   "outputs": [],
   "source": [
    "model = LinearNCEM(in_channels=num_features,out_channels=num_vars, lr=0.0001,weight_decay=0.000001)"
   ]
  },
  {
   "cell_type": "code",
   "execution_count": 9,
   "metadata": {},
   "outputs": [
    {
     "name": "stderr",
     "output_type": "stream",
     "text": [
      "GPU available: True, used: False\n",
      "TPU available: False, using: 0 TPU cores\n",
      "IPU available: False, using: 0 IPUs\n",
      "HPU available: False, using: 0 HPUs\n",
      "/home/sel/anaconda3/envs/ncem/lib/python3.8/site-packages/pytorch_lightning/trainer/trainer.py:1814: PossibleUserWarning: GPU available but not used. Set `accelerator` and `devices` using `Trainer(accelerator='gpu', devices=1)`.\n",
      "  rank_zero_warn(\n"
     ]
    }
   ],
   "source": [
    "gpu=False\n",
    "if gpu:\n",
    "    trainer:pl.Trainer = pl.Trainer(accelerator='gpu',max_epochs=100,log_every_n_steps=1)\n",
    "else:\n",
    "    trainer:pl.Trainer = pl.Trainer(accelerator='cpu',max_epochs=100,log_every_n_steps=1)\n"
   ]
  },
  {
   "cell_type": "code",
   "execution_count": 10,
   "metadata": {},
   "outputs": [
    {
     "name": "stderr",
     "output_type": "stream",
     "text": [
      "\n",
      "  | Name        | Type            | Params\n",
      "------------------------------------------------\n",
      "0 | model_sigma | LinearSpatial   | 408   \n",
      "1 | model_mu    | LinearSpatial   | 408   \n",
      "2 | loss_module | GaussianNLLLoss | 0     \n",
      "------------------------------------------------\n",
      "816       Trainable params\n",
      "0         Non-trainable params\n",
      "816       Total params\n",
      "0.003     Total estimated model params size (MB)\n"
     ]
    },
    {
     "data": {
      "application/vnd.jupyter.widget-view+json": {
       "model_id": "55e9b5a1052c4cee910ebf4b061859e0",
       "version_major": 2,
       "version_minor": 0
      },
      "text/plain": [
       "Sanity Checking: 0it [00:00, ?it/s]"
      ]
     },
     "metadata": {},
     "output_type": "display_data"
    },
    {
     "name": "stderr",
     "output_type": "stream",
     "text": [
      "/home/sel/anaconda3/envs/ncem/lib/python3.8/site-packages/pytorch_lightning/utilities/data.py:72: UserWarning: Trying to infer the `batch_size` from an ambiguous collection. The batch size we found is 2. To avoid any miscalculations, use `self.log(..., batch_size=batch_size)`.\n",
      "  warning_cache.warn(\n"
     ]
    },
    {
     "data": {
      "application/vnd.jupyter.widget-view+json": {
       "model_id": "3012a93ba35a4b59ae50b59ad16a9656",
       "version_major": 2,
       "version_minor": 0
      },
      "text/plain": [
       "Training: 0it [00:00, ?it/s]"
      ]
     },
     "metadata": {},
     "output_type": "display_data"
    },
    {
     "data": {
      "application/vnd.jupyter.widget-view+json": {
       "model_id": "7bdf8775a9d641b5977d7631477da764",
       "version_major": 2,
       "version_minor": 0
      },
      "text/plain": [
       "Validation: 0it [00:00, ?it/s]"
      ]
     },
     "metadata": {},
     "output_type": "display_data"
    },
    {
     "data": {
      "application/vnd.jupyter.widget-view+json": {
       "model_id": "af6da9401fa8438a80b08ee7f1aca0de",
       "version_major": 2,
       "version_minor": 0
      },
      "text/plain": [
       "Validation: 0it [00:00, ?it/s]"
      ]
     },
     "metadata": {},
     "output_type": "display_data"
    },
    {
     "data": {
      "application/vnd.jupyter.widget-view+json": {
       "model_id": "d18f5010c8c5405fbd54c802119874db",
       "version_major": 2,
       "version_minor": 0
      },
      "text/plain": [
       "Validation: 0it [00:00, ?it/s]"
      ]
     },
     "metadata": {},
     "output_type": "display_data"
    },
    {
     "data": {
      "application/vnd.jupyter.widget-view+json": {
       "model_id": "e2f7a5497be1484fadf36bc052295db5",
       "version_major": 2,
       "version_minor": 0
      },
      "text/plain": [
       "Validation: 0it [00:00, ?it/s]"
      ]
     },
     "metadata": {},
     "output_type": "display_data"
    },
    {
     "data": {
      "application/vnd.jupyter.widget-view+json": {
       "model_id": "87a49f98597e4e55ab2ad7ca9704ec91",
       "version_major": 2,
       "version_minor": 0
      },
      "text/plain": [
       "Validation: 0it [00:00, ?it/s]"
      ]
     },
     "metadata": {},
     "output_type": "display_data"
    },
    {
     "data": {
      "application/vnd.jupyter.widget-view+json": {
       "model_id": "8610d4b24bc842ca825bda9a7c882301",
       "version_major": 2,
       "version_minor": 0
      },
      "text/plain": [
       "Validation: 0it [00:00, ?it/s]"
      ]
     },
     "metadata": {},
     "output_type": "display_data"
    },
    {
     "data": {
      "application/vnd.jupyter.widget-view+json": {
       "model_id": "83cffca9e278452a9114b62516a95aa0",
       "version_major": 2,
       "version_minor": 0
      },
      "text/plain": [
       "Validation: 0it [00:00, ?it/s]"
      ]
     },
     "metadata": {},
     "output_type": "display_data"
    },
    {
     "data": {
      "application/vnd.jupyter.widget-view+json": {
       "model_id": "a7a956a5a5c84dd09f68111678cee687",
       "version_major": 2,
       "version_minor": 0
      },
      "text/plain": [
       "Validation: 0it [00:00, ?it/s]"
      ]
     },
     "metadata": {},
     "output_type": "display_data"
    },
    {
     "data": {
      "application/vnd.jupyter.widget-view+json": {
       "model_id": "1aa5454d028c463281eaee40c23fbcd5",
       "version_major": 2,
       "version_minor": 0
      },
      "text/plain": [
       "Validation: 0it [00:00, ?it/s]"
      ]
     },
     "metadata": {},
     "output_type": "display_data"
    },
    {
     "data": {
      "application/vnd.jupyter.widget-view+json": {
       "model_id": "076b4e3ec2c34a6983f8076d3a7d1aac",
       "version_major": 2,
       "version_minor": 0
      },
      "text/plain": [
       "Validation: 0it [00:00, ?it/s]"
      ]
     },
     "metadata": {},
     "output_type": "display_data"
    },
    {
     "name": "stderr",
     "output_type": "stream",
     "text": [
      "/home/sel/anaconda3/envs/ncem/lib/python3.8/site-packages/pytorch_lightning/trainer/trainer.py:726: UserWarning: Detected KeyboardInterrupt, attempting graceful shutdown...\n",
      "  rank_zero_warn(\"Detected KeyboardInterrupt, attempting graceful shutdown...\")\n"
     ]
    }
   ],
   "source": [
    "trainer.fit(model,datamodule=dm)"
   ]
  },
  {
   "cell_type": "code",
   "execution_count": null,
   "metadata": {},
   "outputs": [],
   "source": []
  }
 ],
 "metadata": {
  "kernelspec": {
   "display_name": "Python 3.9.12 ('gnn': conda)",
   "language": "python",
   "name": "python3"
  },
  "language_info": {
   "codemirror_mode": {
    "name": "ipython",
    "version": 3
   },
   "file_extension": ".py",
   "mimetype": "text/x-python",
   "name": "python",
   "nbconvert_exporter": "python",
   "pygments_lexer": "ipython3",
   "version": "3.9.12"
  },
  "orig_nbformat": 4,
  "vscode": {
   "interpreter": {
    "hash": "42fc222dfbda169bc18a654c374e8265fec58846589cd1da63abc2a574b12f52"
   }
  }
 },
 "nbformat": 4,
 "nbformat_minor": 2
}
