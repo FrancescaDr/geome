{
 "cells": [
  {
   "cell_type": "code",
   "execution_count": 1,
   "metadata": {},
   "outputs": [],
   "source": [
    "%load_ext autoreload\n",
    "%autoreload 2"
   ]
  },
  {
   "cell_type": "code",
   "execution_count": 33,
   "metadata": {},
   "outputs": [],
   "source": [
    "from argparse import ArgumentParser, Namespace\n",
    "from random import choices\n",
    "import pytorch_lightning as pl\n",
    "from typing import Callable, List, Optional, Sequence, Union\n",
    "import squidpy as sq\n",
    "import torch\n",
    "from torch_geometric.loader import RandomNodeSampler\n",
    "import pandas as pd\n",
    "from torch_geometric.data import Data\n",
    "from anndata import AnnData\n",
    "from utils import adata2data\n",
    "from data.node_datamodule import NodeDataModule\n",
    "from models.graph_embedding import GraphEmbedding\n",
    "from models.non_linear_ncem import NonLinearNCEM\n",
    "from models.linear_ncem import LinearNCEM"
   ]
  },
  {
   "cell_type": "code",
   "execution_count": 34,
   "metadata": {},
   "outputs": [],
   "source": [
    "#Mibitof\n",
    "# adata = sq.datasets.mibitof()\n",
    "# #feature_name=adata.obs.keys()[0] #Use for IMC dataset\n",
    "# feature_name='Cluster'\n",
    "# num_features=len(set(adata.obs[feature_name]))\n",
    "# encoder_hidden_dims=30\n",
    "# decoder_hidden_dims=30\n",
    "# num_vars=adata.X.shape[1]\n",
    "\n",
    "#IMC\n",
    "adata = sq.datasets.imc()\n",
    "feature_name=adata.obs.keys()[0] #Use for IMC dataset\n",
    "num_features=len(set(adata.obs[feature_name]))\n",
    "num_vars=adata.X.shape[1]\n"
   ]
  },
  {
   "cell_type": "code",
   "execution_count": 43,
   "metadata": {},
   "outputs": [],
   "source": [
    "dm = NodeDataModule(adata=adata,feature_name=feature_name,adata2data_fn=adata2data, num_workers = 8, batch_size=100)"
   ]
  },
  {
   "cell_type": "code",
   "execution_count": 38,
   "metadata": {},
   "outputs": [],
   "source": [
    "dm.setup()"
   ]
  },
  {
   "cell_type": "code",
   "execution_count": 39,
   "metadata": {},
   "outputs": [
    {
     "name": "stdout",
     "output_type": "stream",
     "text": [
      "Data(num_nodes=42, edge_index=[2, 7], x=[42, 11], y=[42, 34])\n",
      "Data(num_nodes=43, edge_index=[2, 0], x=[43, 11], y=[43, 34])\n",
      "Data(num_nodes=43, edge_index=[2, 0], x=[43, 11], y=[43, 34])\n",
      "Data(num_nodes=50, edge_index=[2, 3], x=[50, 11], y=[50, 34])\n",
      "Data(num_nodes=51, edge_index=[2, 0], x=[51, 11], y=[51, 34])\n",
      "Data(num_nodes=53, edge_index=[2, 4], x=[53, 11], y=[53, 34])\n",
      "Data(num_nodes=54, edge_index=[2, 3], x=[54, 11], y=[54, 34])\n",
      "Data(num_nodes=53, edge_index=[2, 4], x=[53, 11], y=[53, 34])\n",
      "Data(num_nodes=40, edge_index=[2, 2], x=[40, 11], y=[40, 34])\n",
      "Data(num_nodes=48, edge_index=[2, 0], x=[48, 11], y=[48, 34])\n",
      "Data(num_nodes=41, edge_index=[2, 0], x=[41, 11], y=[41, 34])\n",
      "Data(num_nodes=38, edge_index=[2, 4], x=[38, 11], y=[38, 34])\n",
      "Data(num_nodes=45, edge_index=[2, 6], x=[45, 11], y=[45, 34])\n",
      "Data(num_nodes=60, edge_index=[2, 2], x=[60, 11], y=[60, 34])\n",
      "Data(num_nodes=58, edge_index=[2, 2], x=[58, 11], y=[58, 34])\n",
      "Data(num_nodes=58, edge_index=[2, 3], x=[58, 11], y=[58, 34])\n",
      "Data(num_nodes=56, edge_index=[2, 5], x=[56, 11], y=[56, 34])\n",
      "Data(num_nodes=45, edge_index=[2, 4], x=[45, 11], y=[45, 34])\n",
      "Data(num_nodes=53, edge_index=[2, 0], x=[53, 11], y=[53, 34])\n",
      "Data(num_nodes=52, edge_index=[2, 1], x=[52, 11], y=[52, 34])\n",
      "Data(num_nodes=42, edge_index=[2, 2], x=[42, 11], y=[42, 34])\n",
      "Data(num_nodes=51, edge_index=[2, 9], x=[51, 11], y=[51, 34])\n",
      "Data(num_nodes=57, edge_index=[2, 2], x=[57, 11], y=[57, 34])\n",
      "Data(num_nodes=39, edge_index=[2, 0], x=[39, 11], y=[39, 34])\n",
      "Data(num_nodes=51, edge_index=[2, 0], x=[51, 11], y=[51, 34])\n",
      "Data(num_nodes=46, edge_index=[2, 0], x=[46, 11], y=[46, 34])\n",
      "Data(num_nodes=36, edge_index=[2, 0], x=[36, 11], y=[36, 34])\n",
      "Data(num_nodes=42, edge_index=[2, 0], x=[42, 11], y=[42, 34])\n",
      "Data(num_nodes=65, edge_index=[2, 8], x=[65, 11], y=[65, 34])\n",
      "Data(num_nodes=40, edge_index=[2, 2], x=[40, 11], y=[40, 34])\n",
      "Data(num_nodes=39, edge_index=[2, 4], x=[39, 11], y=[39, 34])\n",
      "Data(num_nodes=58, edge_index=[2, 4], x=[58, 11], y=[58, 34])\n",
      "Data(num_nodes=49, edge_index=[2, 4], x=[49, 11], y=[49, 34])\n",
      "Data(num_nodes=47, edge_index=[2, 2], x=[47, 11], y=[47, 34])\n",
      "Data(num_nodes=50, edge_index=[2, 2], x=[50, 11], y=[50, 34])\n",
      "Data(num_nodes=39, edge_index=[2, 0], x=[39, 11], y=[39, 34])\n",
      "Data(num_nodes=46, edge_index=[2, 5], x=[46, 11], y=[46, 34])\n",
      "Data(num_nodes=58, edge_index=[2, 8], x=[58, 11], y=[58, 34])\n",
      "Data(num_nodes=44, edge_index=[2, 4], x=[44, 11], y=[44, 34])\n",
      "Data(num_nodes=46, edge_index=[2, 2], x=[46, 11], y=[46, 34])\n",
      "Data(num_nodes=47, edge_index=[2, 2], x=[47, 11], y=[47, 34])\n",
      "Data(num_nodes=35, edge_index=[2, 0], x=[35, 11], y=[35, 34])\n",
      "Data(num_nodes=53, edge_index=[2, 2], x=[53, 11], y=[53, 34])\n",
      "Data(num_nodes=39, edge_index=[2, 0], x=[39, 11], y=[39, 34])\n",
      "Data(num_nodes=50, edge_index=[2, 5], x=[50, 11], y=[50, 34])\n",
      "Data(num_nodes=36, edge_index=[2, 4], x=[36, 11], y=[36, 34])\n",
      "Data(num_nodes=46, edge_index=[2, 2], x=[46, 11], y=[46, 34])\n",
      "Data(num_nodes=64, edge_index=[2, 6], x=[64, 11], y=[64, 34])\n",
      "Data(num_nodes=43, edge_index=[2, 2], x=[43, 11], y=[43, 34])\n",
      "Data(num_nodes=42, edge_index=[2, 2], x=[42, 11], y=[42, 34])\n",
      "Data(num_nodes=48, edge_index=[2, 3], x=[48, 11], y=[48, 34])\n",
      "Data(num_nodes=47, edge_index=[2, 2], x=[47, 11], y=[47, 34])\n",
      "Data(num_nodes=49, edge_index=[2, 2], x=[49, 11], y=[49, 34])\n",
      "Data(num_nodes=43, edge_index=[2, 3], x=[43, 11], y=[43, 34])\n",
      "Data(num_nodes=50, edge_index=[2, 7], x=[50, 11], y=[50, 34])\n",
      "Data(num_nodes=50, edge_index=[2, 0], x=[50, 11], y=[50, 34])\n",
      "Data(num_nodes=48, edge_index=[2, 5], x=[48, 11], y=[48, 34])\n",
      "Data(num_nodes=56, edge_index=[2, 4], x=[56, 11], y=[56, 34])\n",
      "Data(num_nodes=49, edge_index=[2, 2], x=[49, 11], y=[49, 34])\n",
      "Data(num_nodes=43, edge_index=[2, 0], x=[43, 11], y=[43, 34])\n",
      "Data(num_nodes=52, edge_index=[2, 2], x=[52, 11], y=[52, 34])\n",
      "Data(num_nodes=47, edge_index=[2, 3], x=[47, 11], y=[47, 34])\n",
      "Data(num_nodes=45, edge_index=[2, 3], x=[45, 11], y=[45, 34])\n",
      "Data(num_nodes=50, edge_index=[2, 1], x=[50, 11], y=[50, 34])\n",
      "Data(num_nodes=37, edge_index=[2, 7], x=[37, 11], y=[37, 34])\n",
      "Data(num_nodes=52, edge_index=[2, 2], x=[52, 11], y=[52, 34])\n",
      "Data(num_nodes=35, edge_index=[2, 6], x=[35, 11], y=[35, 34])\n",
      "Data(num_nodes=49, edge_index=[2, 1], x=[49, 11], y=[49, 34])\n",
      "Data(num_nodes=39, edge_index=[2, 0], x=[39, 11], y=[39, 34])\n",
      "Data(num_nodes=38, edge_index=[2, 2], x=[38, 11], y=[38, 34])\n",
      "Data(num_nodes=41, edge_index=[2, 0], x=[41, 11], y=[41, 34])\n",
      "Data(num_nodes=30, edge_index=[2, 1], x=[30, 11], y=[30, 34])\n",
      "Data(num_nodes=49, edge_index=[2, 2], x=[49, 11], y=[49, 34])\n",
      "Data(num_nodes=37, edge_index=[2, 0], x=[37, 11], y=[37, 34])\n",
      "Data(num_nodes=38, edge_index=[2, 4], x=[38, 11], y=[38, 34])\n",
      "Data(num_nodes=33, edge_index=[2, 2], x=[33, 11], y=[33, 34])\n",
      "Data(num_nodes=39, edge_index=[2, 5], x=[39, 11], y=[39, 34])\n",
      "Data(num_nodes=52, edge_index=[2, 6], x=[52, 11], y=[52, 34])\n",
      "Data(num_nodes=35, edge_index=[2, 2], x=[35, 11], y=[35, 34])\n",
      "Data(num_nodes=43, edge_index=[2, 0], x=[43, 11], y=[43, 34])\n",
      "Data(num_nodes=52, edge_index=[2, 3], x=[52, 11], y=[52, 34])\n",
      "Data(num_nodes=50, edge_index=[2, 1], x=[50, 11], y=[50, 34])\n",
      "Data(num_nodes=57, edge_index=[2, 0], x=[57, 11], y=[57, 34])\n",
      "Data(num_nodes=43, edge_index=[2, 2], x=[43, 11], y=[43, 34])\n",
      "Data(num_nodes=52, edge_index=[2, 2], x=[52, 11], y=[52, 34])\n",
      "Data(num_nodes=47, edge_index=[2, 2], x=[47, 11], y=[47, 34])\n",
      "Data(num_nodes=45, edge_index=[2, 10], x=[45, 11], y=[45, 34])\n",
      "Data(num_nodes=47, edge_index=[2, 0], x=[47, 11], y=[47, 34])\n",
      "Data(num_nodes=51, edge_index=[2, 0], x=[51, 11], y=[51, 34])\n",
      "Data(num_nodes=49, edge_index=[2, 4], x=[49, 11], y=[49, 34])\n",
      "Data(num_nodes=49, edge_index=[2, 6], x=[49, 11], y=[49, 34])\n",
      "Data(num_nodes=48, edge_index=[2, 5], x=[48, 11], y=[48, 34])\n",
      "Data(num_nodes=57, edge_index=[2, 0], x=[57, 11], y=[57, 34])\n",
      "Data(num_nodes=42, edge_index=[2, 5], x=[42, 11], y=[42, 34])\n",
      "Data(num_nodes=57, edge_index=[2, 3], x=[57, 11], y=[57, 34])\n",
      "Data(num_nodes=33, edge_index=[2, 2], x=[33, 11], y=[33, 34])\n",
      "Data(num_nodes=41, edge_index=[2, 1], x=[41, 11], y=[41, 34])\n",
      "Data(num_nodes=50, edge_index=[2, 0], x=[50, 11], y=[50, 34])\n",
      "Data(num_nodes=39, edge_index=[2, 2], x=[39, 11], y=[39, 34])\n",
      "Data(num_nodes=52, edge_index=[2, 3], x=[52, 11], y=[52, 34])\n"
     ]
    }
   ],
   "source": [
    "for batch in dm.train_dataloader():\n",
    "    print(batch)"
   ]
  },
  {
   "cell_type": "code",
   "execution_count": 44,
   "metadata": {},
   "outputs": [],
   "source": [
    "model = LinearNCEM(in_channels=num_features,out_channels=num_vars, lr=0.0001,weight_decay=0.000001)"
   ]
  },
  {
   "cell_type": "code",
   "execution_count": 45,
   "metadata": {},
   "outputs": [
    {
     "name": "stderr",
     "output_type": "stream",
     "text": [
      "GPU available: False, used: False\n",
      "TPU available: False, using: 0 TPU cores\n",
      "IPU available: False, using: 0 IPUs\n",
      "HPU available: False, using: 0 HPUs\n"
     ]
    }
   ],
   "source": [
    "gpu=False\n",
    "if gpu:\n",
    "    trainer:pl.Trainer = pl.Trainer(accelerator='gpu',max_epochs=100,log_every_n_steps=1)\n",
    "else:\n",
    "    trainer:pl.Trainer = pl.Trainer(accelerator='cpu',max_epochs=100,log_every_n_steps=1)\n"
   ]
  },
  {
   "cell_type": "code",
   "execution_count": 46,
   "metadata": {},
   "outputs": [
    {
     "name": "stderr",
     "output_type": "stream",
     "text": [
      "\n",
      "  | Name        | Type            | Params\n",
      "------------------------------------------------\n",
      "0 | model_sigma | LinearSpatial   | 408   \n",
      "1 | model_mu    | LinearSpatial   | 408   \n",
      "2 | loss_module | GaussianNLLLoss | 0     \n",
      "------------------------------------------------\n",
      "816       Trainable params\n",
      "0         Non-trainable params\n",
      "816       Total params\n",
      "0.003     Total estimated model params size (MB)\n"
     ]
    },
    {
     "name": "stdout",
     "output_type": "stream",
     "text": [
      "Epoch 99: 100%|██████████| 200/200 [00:08<00:00, 22.45it/s, loss=46.4, v_num=12, val_r2_score=-.378, val_loss=47.80]\n"
     ]
    }
   ],
   "source": [
    "trainer.fit(model,datamodule=dm)"
   ]
  }
 ],
 "metadata": {
  "kernelspec": {
   "display_name": "Python 3.9.12 ('gnn': conda)",
   "language": "python",
   "name": "python3"
  },
  "language_info": {
   "codemirror_mode": {
    "name": "ipython",
    "version": 3
   },
   "file_extension": ".py",
   "mimetype": "text/x-python",
   "name": "python",
   "nbconvert_exporter": "python",
   "pygments_lexer": "ipython3",
   "version": "3.9.12"
  },
  "orig_nbformat": 4,
  "vscode": {
   "interpreter": {
    "hash": "42fc222dfbda169bc18a654c374e8265fec58846589cd1da63abc2a574b12f52"
   }
  }
 },
 "nbformat": 4,
 "nbformat_minor": 2
}
