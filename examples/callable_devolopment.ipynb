{
 "cells": [
  {
   "cell_type": "code",
   "execution_count": 1,
   "id": "2a449e71-ab9b-48fe-9c29-73c574eb36ee",
   "metadata": {},
   "outputs": [],
   "source": [
    "%load_ext autoreload\n",
    "%autoreload 2"
   ]
  },
  {
   "cell_type": "code",
   "execution_count": 2,
   "id": "b8535e48-0471-469a-b67f-730919a6b633",
   "metadata": {},
   "outputs": [],
   "source": [
    "import squidpy as sq\n",
    "import torch\n",
    "import pandas as pd\n",
    "import numpy as np\n",
    "from typing import Sequence, Union\n",
    "from torch_geometric.data import Data\n",
    "from anndata import AnnData\n",
    "import scipy\n",
    "import torch.nn as nn\n",
    "from gpu_spatial_graph_pipeline.utils import AnnData2DataCallableDefault"
   ]
  },
  {
   "cell_type": "code",
   "execution_count": 3,
   "id": "a24095e4",
   "metadata": {},
   "outputs": [],
   "source": [
    "adata = sq.datasets.mibitof()\n",
    "\n",
    "fields = {\n",
    "    'features':['obs/Cluster','obs/donor'],\n",
    "    'labels':['X']\n",
    "}\n",
    "\n",
    "a2c = AnnData2DataCallableDefault(fields=fields, adata_iter=AnnData2DataCallableDefault._get_sq_adata_iter)\n",
    "l = a2c(adata)\n"
   ]
  },
  {
   "cell_type": "code",
   "execution_count": 4,
   "id": "a87fe152",
   "metadata": {},
   "outputs": [
    {
     "data": {
      "text/plain": [
       "[Data(x=[1023, 10], edge_index=[2, 6138], y=[1023, 36]),\n",
       " Data(x=[1241, 10], edge_index=[2, 7446], y=[1241, 36]),\n",
       " Data(x=[1045, 10], edge_index=[2, 6270], y=[1045, 36])]"
      ]
     },
     "execution_count": 4,
     "metadata": {},
     "output_type": "execute_result"
    }
   ],
   "source": [
    "l"
   ]
  },
  {
   "cell_type": "code",
   "execution_count": 5,
   "id": "a3c5736a",
   "metadata": {},
   "outputs": [],
   "source": []
  },
  {
   "cell_type": "code",
   "execution_count": 6,
   "id": "2cad4a09",
   "metadata": {},
   "outputs": [
    {
     "data": {
      "text/plain": [
       "array([[0, 1, 0, ..., 0, 0, 0],\n",
       "       [0, 1, 0, ..., 0, 0, 0],\n",
       "       [0, 0, 0, ..., 0, 0, 0],\n",
       "       ...,\n",
       "       [0, 0, 0, ..., 0, 0, 0],\n",
       "       [0, 0, 1, ..., 0, 0, 0],\n",
       "       [0, 0, 1, ..., 0, 0, 0]], dtype=uint8)"
      ]
     },
     "execution_count": 6,
     "metadata": {},
     "output_type": "execute_result"
    }
   ],
   "source": [
    "pd.get_dummies(adata.obs.Cluster).to_numpy()"
   ]
  },
  {
   "cell_type": "code",
   "execution_count": 6,
   "id": "2f810dc4",
   "metadata": {},
   "outputs": [
    {
     "data": {
      "text/plain": [
       "[Data(x=[1023, 10], edge_index=[2, 6138], y=[1023, 36]),\n",
       " Data(x=[1241, 10], edge_index=[2, 7446], y=[1241, 36]),\n",
       " Data(x=[1045, 10], edge_index=[2, 6270], y=[1045, 36])]"
      ]
     },
     "execution_count": 6,
     "metadata": {},
     "output_type": "execute_result"
    }
   ],
   "source": [
    "ad"
   ]
  },
  {
   "cell_type": "code",
   "execution_count": 18,
   "id": "3f855679",
   "metadata": {},
   "outputs": [
    {
     "data": {
      "text/plain": [
       "AxisArrays with keys: X_scanorama, X_umap, spatial, Cluster, donor"
      ]
     },
     "execution_count": 18,
     "metadata": {},
     "output_type": "execute_result"
    }
   ],
   "source": [
    "adata.obsm."
   ]
  },
  {
   "cell_type": "code",
   "execution_count": null,
   "id": "c9cec963",
   "metadata": {},
   "outputs": [],
   "source": []
  }
 ],
 "metadata": {
  "kernelspec": {
   "display_name": "pyg",
   "language": "python",
   "name": "pyg"
  },
  "language_info": {
   "codemirror_mode": {
    "name": "ipython",
    "version": 3
   },
   "file_extension": ".py",
   "mimetype": "text/x-python",
   "name": "python",
   "nbconvert_exporter": "python",
   "pygments_lexer": "ipython3",
   "version": "3.8.13"
  }
 },
 "nbformat": 4,
 "nbformat_minor": 5
}
