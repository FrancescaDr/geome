{
 "cells": [
  {
   "cell_type": "code",
   "execution_count": 22,
   "metadata": {},
   "outputs": [
    {
     "name": "stdout",
     "output_type": "stream",
     "text": [
      "The autoreload extension is already loaded. To reload it, use:\n",
      "  %reload_ext autoreload\n"
     ]
    }
   ],
   "source": [
    "%load_ext autoreload\n",
    "%autoreload 2"
   ]
  },
  {
   "cell_type": "code",
   "execution_count": 23,
   "metadata": {},
   "outputs": [],
   "source": [
    "import os\n",
    "from argparse import ArgumentParser, Namespace\n",
    "import pytorch_lightning as pl\n",
    "from typing import Callable, List, Optional, Sequence, Union\n",
    "import squidpy as sq\n",
    "import torch\n",
    "from torch_geometric.loader import RandomNodeSampler\n",
    "import pandas as pd\n",
    "from torch_geometric.data import Data\n",
    "from anndata import AnnData\n",
    "import anndata as ad\n",
    "from gpu_spatial_graph_pipeline.data.datamodule import GraphAnnDataModule\n",
    "from gpu_spatial_graph_pipeline.models.linear_ncem import LinearNCEM\n",
    "from gpu_spatial_graph_pipeline.data.datasets import DatasetHartmann\n",
    "from gpu_spatial_graph_pipeline.data.anndata2data import ListAnnData2DataDefault\n",
    "from gpu_spatial_graph_pipeline.data.utils import get_adjacency_from_adata, add_design_matrix"
   ]
  },
  {
   "cell_type": "code",
   "execution_count": 24,
   "metadata": {},
   "outputs": [
    {
     "name": "stdout",
     "output_type": "stream",
     "text": [
      "Loading data from raw files\n",
      "registering celldata\n"
     ]
    },
    {
     "name": "stderr",
     "output_type": "stream",
     "text": [
      "/home/sel/mambaforge/envs/pyg/lib/python3.8/site-packages/anndata/_core/anndata.py:121: ImplicitModificationWarning: Transforming to str index.\n",
      "  warnings.warn(\"Transforming to str index.\", ImplicitModificationWarning)\n"
     ]
    },
    {
     "name": "stdout",
     "output_type": "stream",
     "text": [
      "collecting image-wise celldata\n",
      "adding graph-level covariates\n",
      "Loaded 58 images with complete data from 4 patients over 63747 cells with 36 cell features and 8 distinct celltypes.\n"
     ]
    }
   ],
   "source": [
    "#Mibitof\n",
    "dataset = DatasetHartmann(data_path='./example_data/hartmann/')\n",
    "adatas = list(dataset.img_celldata.values())\n"
   ]
  },
  {
   "cell_type": "code",
   "execution_count": 25,
   "metadata": {},
   "outputs": [
    {
     "data": {
      "text/plain": [
       "OverloadedDict, wrapping:\n",
       "\tOrderedDict([('metadata', {'lateral_resolution': 0.390625, 'fn': ['scMEP_MIBI_singlecell/scMEP_MIBI_singlecell.csv', 'scMEP_sample_description.xlsx'], 'image_col': 'point', 'pos_cols': ['center_colcoord', 'center_rowcoord'], 'cluster_col': 'Cluster', 'cluster_col_preprocessed': 'Cluster_preprocessed', 'patient_col': 'donor'}), ('img_keys', ['scMEP_point_1', 'scMEP_point_10', 'scMEP_point_11', 'scMEP_point_12', 'scMEP_point_13', 'scMEP_point_14', 'scMEP_point_15', 'scMEP_point_16', 'scMEP_point_17', 'scMEP_point_18', 'scMEP_point_19', 'scMEP_point_2', 'scMEP_point_20', 'scMEP_point_21', 'scMEP_point_22', 'scMEP_point_23', 'scMEP_point_24', 'scMEP_point_25', 'scMEP_point_26', 'scMEP_point_27', 'scMEP_point_28', 'scMEP_point_29', 'scMEP_point_3', 'scMEP_point_30', 'scMEP_point_31', 'scMEP_point_32', 'scMEP_point_33', 'scMEP_point_34', 'scMEP_point_35', 'scMEP_point_36', 'scMEP_point_37', 'scMEP_point_38', 'scMEP_point_39', 'scMEP_point_4', 'scMEP_point_40', 'scMEP_point_41', 'scMEP_point_42', 'scMEP_point_43', 'scMEP_point_44', 'scMEP_point_45', 'scMEP_point_46', 'scMEP_point_47', 'scMEP_point_48', 'scMEP_point_49', 'scMEP_point_5', 'scMEP_point_50', 'scMEP_point_51', 'scMEP_point_52', 'scMEP_point_53', 'scMEP_point_54', 'scMEP_point_55', 'scMEP_point_56', 'scMEP_point_57', 'scMEP_point_58', 'scMEP_point_6', 'scMEP_point_7', 'scMEP_point_8', 'scMEP_point_9']), ('img_to_patient_dict', {'scMEP_point_7': '90de', 'scMEP_point_26': '21d7', 'scMEP_point_2': '90de', 'scMEP_point_23': '21d7', 'scMEP_point_55': '99c0', 'scMEP_point_14': '90de', 'scMEP_point_50': '99c0', 'scMEP_point_29': '21d7', 'scMEP_point_11': '90de', 'scMEP_point_8': '90de', 'scMEP_point_42': 'd3d3', 'scMEP_point_47': '99c0', 'scMEP_point_48': '99c0', 'scMEP_point_31': '21d7', 'scMEP_point_34': '21d7', 'scMEP_point_15': '90de', 'scMEP_point_54': '99c0', 'scMEP_point_9': '90de', 'scMEP_point_10': '90de', 'scMEP_point_51': '99c0', 'scMEP_point_28': '21d7', 'scMEP_point_27': '21d7', 'scMEP_point_6': '90de', 'scMEP_point_22': '21d7', 'scMEP_point_3': '90de', 'scMEP_point_49': '99c0', 'scMEP_point_30': '21d7', 'scMEP_point_35': '21d7', 'scMEP_point_43': 'd3d3', 'scMEP_point_46': '99c0', 'scMEP_point_45': '99c0', 'scMEP_point_39': '21d7', 'scMEP_point_40': '21d7', 'scMEP_point_36': '21d7', 'scMEP_point_33': '21d7', 'scMEP_point_21': '21d7', 'scMEP_point_58': '99c0', 'scMEP_point_19': '90de', 'scMEP_point_24': '21d7', 'scMEP_point_5': '90de', 'scMEP_point_13': '90de', 'scMEP_point_52': '99c0', 'scMEP_point_16': '90de', 'scMEP_point_57': '99c0', 'scMEP_point_37': '21d7', 'scMEP_point_32': '21d7', 'scMEP_point_44': 'd3d3', 'scMEP_point_38': '21d7', 'scMEP_point_41': 'd3d3', 'scMEP_point_53': '99c0', 'scMEP_point_12': '90de', 'scMEP_point_56': '99c0', 'scMEP_point_17': '90de', 'scMEP_point_1': '90de', 'scMEP_point_18': '90de', 'scMEP_point_20': '90de', 'scMEP_point_4': '90de', 'scMEP_point_25': '21d7'}), ('node_type_names', {'CD11c Myeloid': 'CD11c Myeloid', 'CD4 T cells': 'CD4 T cells', 'CD68 Myeloid': 'CD68 Myeloid', 'CD8 T cells': 'CD8 T cells', 'Endothelial': 'Endothelial', 'Epithelial': 'Epithelial', 'Fibroblast': 'Fibroblast', 'Other immune cells': 'Other immune cells'}), ('graph_covariates', {'label_names': {'Age': ['Age'], 'Diagnosis': Index(['Diagnosis>Colorectal carcinoma', 'Diagnosis>Healthy'], dtype='object'), 'ID': Index(['ID>14ac', 'ID>21a2', 'ID>21d7', 'ID>2b14', 'ID>2c94', 'ID>2ec7',\n",
       "       'ID>3ea6', 'ID>5daf', 'ID>5f62', 'ID>76c1', 'ID>7fc7', 'ID>8fe9',\n",
       "       'ID>90de', 'ID>91a1', 'ID>99c0', 'ID>a2bb', 'ID>a8f0', 'ID>bddc',\n",
       "       'ID>c393', 'ID>c8da', 'ID>d3d3', 'ID>d555', 'ID>d6d3', 'ID>e0b3',\n",
       "       'ID>e75c', 'ID>eab8', 'ID>f815', 'ID>fb90'],\n",
       "      dtype='object'), 'Sex': Index(['Sex>female', 'Sex>male'], dtype='object')}, 'label_tensors': {'Age': array([-0.74563619]), 'Diagnosis': array([1, 0], dtype=uint8), 'ID': array([0, 0, 1, 0, 0, 0, 0, 0, 0, 0, 0, 0, 0, 0, 0, 0, 0, 0, 0, 0, 0, 0,\n",
       "       0, 0, 0, 0, 0, 0], dtype=uint8), 'Sex': array([0., 1.])}, 'label_selection': ['Diagnosis', 'ID', 'Age', 'Sex'], 'continuous_mean': {'Age': 51.38095238095238}, 'continuous_std': {'Age': 17.94568524876158}, 'label_data_types': {'Diagnosis': 'categorical', 'ID': 'categorical', 'Age': 'continuous', 'Sex': 'categorical'}}), ('adjacency_matrix_neighbors', {'connectivities_key': 'adjacency_matrix_connectivities', 'distances_key': 'adjacency_matrix_distances', 'params': {'n_neighbors': 6, 'coord_type': 'generic', 'radius': None, 'transform': None}})])\n",
       "With overloaded keys:\n",
       "\t['neighbors']."
      ]
     },
     "execution_count": 25,
     "metadata": {},
     "output_type": "execute_result"
    }
   ],
   "source": [
    "adatas[32].uns"
   ]
  },
  {
   "cell_type": "code",
   "execution_count": 3,
   "metadata": {},
   "outputs": [
    {
     "name": "stdout",
     "output_type": "stream",
     "text": [
      "Loading data from raw files\n",
      "registering celldata\n"
     ]
    },
    {
     "name": "stderr",
     "output_type": "stream",
     "text": [
      "/home/sel/mambaforge/envs/pyg/lib/python3.8/site-packages/anndata/_core/anndata.py:121: ImplicitModificationWarning: Transforming to str index.\n",
      "  warnings.warn(\"Transforming to str index.\", ImplicitModificationWarning)\n"
     ]
    },
    {
     "name": "stdout",
     "output_type": "stream",
     "text": [
      "collecting image-wise celldata\n",
      "adding graph-level covariates\n",
      "Loaded 58 images with complete data from 4 patients over 63747 cells with 36 cell features and 8 distinct celltypes.\n"
     ]
    }
   ],
   "source": [
    "#Mibitof\n",
    "dataset = DatasetHartmann(data_path='./example_data/hartmann/')\n",
    "adatas = list(dataset.img_celldata.values())\n",
    "\n",
    "\n",
    "fields = {\n",
    "    'features':['obs/Cluster_preprocessed','obs/donor','obsm/design_matrix'],\n",
    "    'labels':['X']\n",
    "}\n",
    "\n",
    "\n",
    "\n",
    "a2d = ListAnnData2DataDefault(\n",
    "    fields=fields,\n",
    "    preprocess=[lambda x,_: add_design_matrix(x,'obs/Cluster_preprocessed','obs/donor','design_matrix')]\n",
    ")\n"
   ]
  },
  {
   "cell_type": "code",
   "execution_count": 26,
   "metadata": {},
   "outputs": [
    {
     "ename": "TypeError",
     "evalue": "Cannot interpret 'CategoricalDtype(categories=['CD4 T cells', 'CD68 Myeloid', 'CD8 T cells', 'Endothelial',\n                  'Epithelial', 'Fibroblast', 'Other immune cells'],\n, ordered=False)' as a data type",
     "output_type": "error",
     "traceback": [
      "\u001b[0;31m---------------------------------------------------------------------------\u001b[0m",
      "\u001b[0;31mTypeError\u001b[0m                                 Traceback (most recent call last)",
      "Cell \u001b[0;32mIn [26], line 1\u001b[0m\n\u001b[0;32m----> 1\u001b[0m a2d(adatas)\n",
      "File \u001b[0;32m~/Documents/projects/gpu-spatial-graph-pipeline/src/gpu_spatial_graph_pipeline/data/anndata2data.py:163\u001b[0m, in \u001b[0;36mListAnnData2Data.__call__\u001b[0;34m(self, adatas)\u001b[0m\n\u001b[1;32m    161\u001b[0m dataset \u001b[39m=\u001b[39m []\n\u001b[1;32m    162\u001b[0m \u001b[39mfor\u001b[39;00m adata \u001b[39min\u001b[39;00m adatas:\n\u001b[0;32m--> 163\u001b[0m     dataset \u001b[39m+\u001b[39m\u001b[39m=\u001b[39m \u001b[39mself\u001b[39;49m\u001b[39m.\u001b[39;49ma2d_callable(adata)\n\u001b[1;32m    164\u001b[0m \u001b[39mreturn\u001b[39;00m dataset\n",
      "File \u001b[0;32m~/Documents/projects/gpu-spatial-graph-pipeline/src/gpu_spatial_graph_pipeline/data/anndata2data.py:58\u001b[0m, in \u001b[0;36mAnnData2Data.__call__\u001b[0;34m(self, adata)\u001b[0m\n\u001b[1;32m     56\u001b[0m \u001b[39m# do the given preprocessing steps.\u001b[39;00m\n\u001b[1;32m     57\u001b[0m \u001b[39mfor\u001b[39;00m process \u001b[39min\u001b[39;00m \u001b[39mself\u001b[39m\u001b[39m.\u001b[39m_preprocess:\n\u001b[0;32m---> 58\u001b[0m     process(adata, \u001b[39mself\u001b[39;49m\u001b[39m.\u001b[39;49mfields)\n\u001b[1;32m     59\u001b[0m \u001b[39m# iterate trough adata.\u001b[39;00m\n\u001b[1;32m     60\u001b[0m \u001b[39mfor\u001b[39;00m subadata \u001b[39min\u001b[39;00m \u001b[39mself\u001b[39m\u001b[39m.\u001b[39m_adata_iter(adata):\n",
      "File \u001b[0;32m~/Documents/projects/gpu-spatial-graph-pipeline/src/gpu_spatial_graph_pipeline/data/anndata2data.py:138\u001b[0m, in \u001b[0;36mAnnData2DataDefault.convert_to_array\u001b[0;34m(adata, fields)\u001b[0m\n\u001b[1;32m    134\u001b[0m \u001b[39m# TODO: Is adding a suffix a good idea?\u001b[39;00m\n\u001b[1;32m    136\u001b[0m obj \u001b[39m=\u001b[39m get_from_address(adata, address)\n\u001b[0;32m--> 138\u001b[0m \u001b[39mif\u001b[39;00m \u001b[39mnot\u001b[39;00m np\u001b[39m.\u001b[39;49missubdtype(obj\u001b[39m.\u001b[39;49mdtype, np\u001b[39m.\u001b[39;49mnumber):\n\u001b[1;32m    139\u001b[0m     adata\u001b[39m.\u001b[39mobsm[save_name] \u001b[39m=\u001b[39m obj\u001b[39m.\u001b[39mastype(np\u001b[39m.\u001b[39mfloa)\n\u001b[1;32m    140\u001b[0m     adata\u001b[39m.\u001b[39muns[\u001b[39m\"\u001b[39m\u001b[39mprocessed_index\u001b[39m\u001b[39m\"\u001b[39m][address] \u001b[39m=\u001b[39m \u001b[39m\"\u001b[39m\u001b[39mobsm/\u001b[39m\u001b[39m\"\u001b[39m \u001b[39m+\u001b[39m save_name\n",
      "File \u001b[0;32m~/mambaforge/envs/pyg/lib/python3.8/site-packages/numpy/core/numerictypes.py:416\u001b[0m, in \u001b[0;36missubdtype\u001b[0;34m(arg1, arg2)\u001b[0m\n\u001b[1;32m    358\u001b[0m \u001b[39mr\u001b[39m\u001b[39m\"\"\"\u001b[39;00m\n\u001b[1;32m    359\u001b[0m \u001b[39mReturns True if first argument is a typecode lower/equal in type hierarchy.\u001b[39;00m\n\u001b[1;32m    360\u001b[0m \n\u001b[0;32m   (...)\u001b[0m\n\u001b[1;32m    413\u001b[0m \n\u001b[1;32m    414\u001b[0m \u001b[39m\"\"\"\u001b[39;00m\n\u001b[1;32m    415\u001b[0m \u001b[39mif\u001b[39;00m \u001b[39mnot\u001b[39;00m issubclass_(arg1, generic):\n\u001b[0;32m--> 416\u001b[0m     arg1 \u001b[39m=\u001b[39m dtype(arg1)\u001b[39m.\u001b[39mtype\n\u001b[1;32m    417\u001b[0m \u001b[39mif\u001b[39;00m \u001b[39mnot\u001b[39;00m issubclass_(arg2, generic):\n\u001b[1;32m    418\u001b[0m     arg2 \u001b[39m=\u001b[39m dtype(arg2)\u001b[39m.\u001b[39mtype\n",
      "\u001b[0;31mTypeError\u001b[0m: Cannot interpret 'CategoricalDtype(categories=['CD4 T cells', 'CD68 Myeloid', 'CD8 T cells', 'Endothelial',\n                  'Epithelial', 'Fibroblast', 'Other immune cells'],\n, ordered=False)' as a data type"
     ]
    }
   ],
   "source": [
    "a2d(adatas)"
   ]
  },
  {
   "cell_type": "code",
   "execution_count": 12,
   "metadata": {},
   "outputs": [
    {
     "data": {
      "text/plain": [
       "8059    scMEP_point_11\n",
       "8060    scMEP_point_11\n",
       "8061    scMEP_point_11\n",
       "8062    scMEP_point_11\n",
       "8063    scMEP_point_11\n",
       "             ...      \n",
       "9370    scMEP_point_11\n",
       "9371    scMEP_point_11\n",
       "9372    scMEP_point_11\n",
       "9373    scMEP_point_11\n",
       "9374    scMEP_point_11\n",
       "Name: point, Length: 1316, dtype: category\n",
       "Categories (1, object): ['scMEP_point_11']"
      ]
     },
     "execution_count": 12,
     "metadata": {},
     "output_type": "execute_result"
    }
   ],
   "source": [
    "adatas[2].obs['point']"
   ]
  },
  {
   "cell_type": "code",
   "execution_count": 56,
   "metadata": {},
   "outputs": [
    {
     "data": {
      "text/plain": [
       "(63747, 76)"
      ]
     },
     "execution_count": 56,
     "metadata": {},
     "output_type": "execute_result"
    }
   ],
   "source": [
    "adata.obsm[\"design_matrix\"]"
   ]
  },
  {
   "cell_type": "code",
   "execution_count": null,
   "metadata": {},
   "outputs": [],
   "source": [
    "dm = GraphAnnDataModule(adata=adata, adata2data_fn=a2d, num_workers = 12, batch_size=10,learning_type='graph')\n",
    "model = LinearNCEM(in_channels=num_features,out_channels=num_genes, model_type='spatial', lr=0.0001,weight_decay=0.000001)"
   ]
  },
  {
   "cell_type": "code",
   "execution_count": null,
   "metadata": {},
   "outputs": [
    {
     "name": "stderr",
     "output_type": "stream",
     "text": [
      "GPU available: True (cuda), used: True\n",
      "TPU available: False, using: 0 TPU cores\n",
      "IPU available: False, using: 0 IPUs\n",
      "HPU available: False, using: 0 HPUs\n"
     ]
    }
   ],
   "source": [
    "trainer:pl.Trainer = pl.Trainer(accelerator='gpu' if torch.torch.cuda.is_available() else 'cpu',\n",
    "                                max_epochs=100,log_every_n_steps=10)\n",
    "\n"
   ]
  },
  {
   "cell_type": "code",
   "execution_count": 24,
   "metadata": {},
   "outputs": [
    {
     "ename": "ValueError",
     "evalue": "all the input arrays must have same number of dimensions, but the array at index 0 has 2 dimension(s) and the array at index 2 has 1 dimension(s)",
     "output_type": "error",
     "traceback": [
      "\u001b[0;31m---------------------------------------------------------------------------\u001b[0m",
      "\u001b[0;31mValueError\u001b[0m                                Traceback (most recent call last)",
      "Cell \u001b[0;32mIn [24], line 1\u001b[0m\n\u001b[0;32m----> 1\u001b[0m trainer\u001b[39m.\u001b[39;49mfit(model,datamodule\u001b[39m=\u001b[39;49mdm)\n",
      "File \u001b[0;32m~/mambaforge/envs/pyg/lib/python3.8/site-packages/pytorch_lightning/trainer/trainer.py:696\u001b[0m, in \u001b[0;36mTrainer.fit\u001b[0;34m(self, model, train_dataloaders, val_dataloaders, datamodule, ckpt_path)\u001b[0m\n\u001b[1;32m    677\u001b[0m \u001b[39mr\u001b[39m\u001b[39m\"\"\"\u001b[39;00m\n\u001b[1;32m    678\u001b[0m \u001b[39mRuns the full optimization routine.\u001b[39;00m\n\u001b[1;32m    679\u001b[0m \n\u001b[0;32m   (...)\u001b[0m\n\u001b[1;32m    693\u001b[0m \u001b[39m    datamodule: An instance of :class:`~pytorch_lightning.core.datamodule.LightningDataModule`.\u001b[39;00m\n\u001b[1;32m    694\u001b[0m \u001b[39m\"\"\"\u001b[39;00m\n\u001b[1;32m    695\u001b[0m \u001b[39mself\u001b[39m\u001b[39m.\u001b[39mstrategy\u001b[39m.\u001b[39mmodel \u001b[39m=\u001b[39m model\n\u001b[0;32m--> 696\u001b[0m \u001b[39mself\u001b[39;49m\u001b[39m.\u001b[39;49m_call_and_handle_interrupt(\n\u001b[1;32m    697\u001b[0m     \u001b[39mself\u001b[39;49m\u001b[39m.\u001b[39;49m_fit_impl, model, train_dataloaders, val_dataloaders, datamodule, ckpt_path\n\u001b[1;32m    698\u001b[0m )\n",
      "File \u001b[0;32m~/mambaforge/envs/pyg/lib/python3.8/site-packages/pytorch_lightning/trainer/trainer.py:650\u001b[0m, in \u001b[0;36mTrainer._call_and_handle_interrupt\u001b[0;34m(self, trainer_fn, *args, **kwargs)\u001b[0m\n\u001b[1;32m    648\u001b[0m         \u001b[39mreturn\u001b[39;00m \u001b[39mself\u001b[39m\u001b[39m.\u001b[39mstrategy\u001b[39m.\u001b[39mlauncher\u001b[39m.\u001b[39mlaunch(trainer_fn, \u001b[39m*\u001b[39margs, trainer\u001b[39m=\u001b[39m\u001b[39mself\u001b[39m, \u001b[39m*\u001b[39m\u001b[39m*\u001b[39mkwargs)\n\u001b[1;32m    649\u001b[0m     \u001b[39melse\u001b[39;00m:\n\u001b[0;32m--> 650\u001b[0m         \u001b[39mreturn\u001b[39;00m trainer_fn(\u001b[39m*\u001b[39;49margs, \u001b[39m*\u001b[39;49m\u001b[39m*\u001b[39;49mkwargs)\n\u001b[1;32m    651\u001b[0m \u001b[39m# TODO(awaelchli): Unify both exceptions below, where `KeyboardError` doesn't re-raise\u001b[39;00m\n\u001b[1;32m    652\u001b[0m \u001b[39mexcept\u001b[39;00m \u001b[39mKeyboardInterrupt\u001b[39;00m \u001b[39mas\u001b[39;00m exception:\n",
      "File \u001b[0;32m~/mambaforge/envs/pyg/lib/python3.8/site-packages/pytorch_lightning/trainer/trainer.py:735\u001b[0m, in \u001b[0;36mTrainer._fit_impl\u001b[0;34m(self, model, train_dataloaders, val_dataloaders, datamodule, ckpt_path)\u001b[0m\n\u001b[1;32m    731\u001b[0m ckpt_path \u001b[39m=\u001b[39m ckpt_path \u001b[39mor\u001b[39;00m \u001b[39mself\u001b[39m\u001b[39m.\u001b[39mresume_from_checkpoint\n\u001b[1;32m    732\u001b[0m \u001b[39mself\u001b[39m\u001b[39m.\u001b[39m_ckpt_path \u001b[39m=\u001b[39m \u001b[39mself\u001b[39m\u001b[39m.\u001b[39m__set_ckpt_path(\n\u001b[1;32m    733\u001b[0m     ckpt_path, model_provided\u001b[39m=\u001b[39m\u001b[39mTrue\u001b[39;00m, model_connected\u001b[39m=\u001b[39m\u001b[39mself\u001b[39m\u001b[39m.\u001b[39mlightning_module \u001b[39mis\u001b[39;00m \u001b[39mnot\u001b[39;00m \u001b[39mNone\u001b[39;00m\n\u001b[1;32m    734\u001b[0m )\n\u001b[0;32m--> 735\u001b[0m results \u001b[39m=\u001b[39m \u001b[39mself\u001b[39;49m\u001b[39m.\u001b[39;49m_run(model, ckpt_path\u001b[39m=\u001b[39;49m\u001b[39mself\u001b[39;49m\u001b[39m.\u001b[39;49mckpt_path)\n\u001b[1;32m    737\u001b[0m \u001b[39massert\u001b[39;00m \u001b[39mself\u001b[39m\u001b[39m.\u001b[39mstate\u001b[39m.\u001b[39mstopped\n\u001b[1;32m    738\u001b[0m \u001b[39mself\u001b[39m\u001b[39m.\u001b[39mtraining \u001b[39m=\u001b[39m \u001b[39mFalse\u001b[39;00m\n",
      "File \u001b[0;32m~/mambaforge/envs/pyg/lib/python3.8/site-packages/pytorch_lightning/trainer/trainer.py:1105\u001b[0m, in \u001b[0;36mTrainer._run\u001b[0;34m(self, model, ckpt_path)\u001b[0m\n\u001b[1;32m   1102\u001b[0m \u001b[39mself\u001b[39m\u001b[39m.\u001b[39mstrategy\u001b[39m.\u001b[39msetup_environment()\n\u001b[1;32m   1103\u001b[0m \u001b[39mself\u001b[39m\u001b[39m.\u001b[39m__setup_profiler()\n\u001b[0;32m-> 1105\u001b[0m \u001b[39mself\u001b[39;49m\u001b[39m.\u001b[39;49m_call_setup_hook()  \u001b[39m# allow user to setup lightning_module in accelerator environment\u001b[39;00m\n\u001b[1;32m   1107\u001b[0m \u001b[39m# check if we should delay restoring checkpoint till later\u001b[39;00m\n\u001b[1;32m   1108\u001b[0m \u001b[39mif\u001b[39;00m \u001b[39mnot\u001b[39;00m \u001b[39mself\u001b[39m\u001b[39m.\u001b[39mstrategy\u001b[39m.\u001b[39mrestore_checkpoint_after_setup:\n",
      "File \u001b[0;32m~/mambaforge/envs/pyg/lib/python3.8/site-packages/pytorch_lightning/trainer/trainer.py:1447\u001b[0m, in \u001b[0;36mTrainer._call_setup_hook\u001b[0;34m(self)\u001b[0m\n\u001b[1;32m   1444\u001b[0m \u001b[39mself\u001b[39m\u001b[39m.\u001b[39mstrategy\u001b[39m.\u001b[39mbarrier(\u001b[39m\"\u001b[39m\u001b[39mpre_setup\u001b[39m\u001b[39m\"\u001b[39m)\n\u001b[1;32m   1446\u001b[0m \u001b[39mif\u001b[39;00m \u001b[39mself\u001b[39m\u001b[39m.\u001b[39mdatamodule \u001b[39mis\u001b[39;00m \u001b[39mnot\u001b[39;00m \u001b[39mNone\u001b[39;00m:\n\u001b[0;32m-> 1447\u001b[0m     \u001b[39mself\u001b[39;49m\u001b[39m.\u001b[39;49m_call_lightning_datamodule_hook(\u001b[39m\"\u001b[39;49m\u001b[39msetup\u001b[39;49m\u001b[39m\"\u001b[39;49m, stage\u001b[39m=\u001b[39;49mfn)\n\u001b[1;32m   1448\u001b[0m \u001b[39mself\u001b[39m\u001b[39m.\u001b[39m_call_callback_hooks(\u001b[39m\"\u001b[39m\u001b[39msetup\u001b[39m\u001b[39m\"\u001b[39m, stage\u001b[39m=\u001b[39mfn)\n\u001b[1;32m   1449\u001b[0m \u001b[39mself\u001b[39m\u001b[39m.\u001b[39m_call_lightning_module_hook(\u001b[39m\"\u001b[39m\u001b[39msetup\u001b[39m\u001b[39m\"\u001b[39m, stage\u001b[39m=\u001b[39mfn)\n",
      "File \u001b[0;32m~/mambaforge/envs/pyg/lib/python3.8/site-packages/pytorch_lightning/trainer/trainer.py:1569\u001b[0m, in \u001b[0;36mTrainer._call_lightning_datamodule_hook\u001b[0;34m(self, hook_name, *args, **kwargs)\u001b[0m\n\u001b[1;32m   1567\u001b[0m \u001b[39mif\u001b[39;00m callable(fn):\n\u001b[1;32m   1568\u001b[0m     \u001b[39mwith\u001b[39;00m \u001b[39mself\u001b[39m\u001b[39m.\u001b[39mprofiler\u001b[39m.\u001b[39mprofile(\u001b[39mf\u001b[39m\u001b[39m\"\u001b[39m\u001b[39m[LightningDataModule]\u001b[39m\u001b[39m{\u001b[39;00m\u001b[39mself\u001b[39m\u001b[39m.\u001b[39mdatamodule\u001b[39m.\u001b[39m\u001b[39m__class__\u001b[39m\u001b[39m.\u001b[39m\u001b[39m__name__\u001b[39m\u001b[39m}\u001b[39;00m\u001b[39m.\u001b[39m\u001b[39m{\u001b[39;00mhook_name\u001b[39m}\u001b[39;00m\u001b[39m\"\u001b[39m):\n\u001b[0;32m-> 1569\u001b[0m         \u001b[39mreturn\u001b[39;00m fn(\u001b[39m*\u001b[39;49margs, \u001b[39m*\u001b[39;49m\u001b[39m*\u001b[39;49mkwargs)\n",
      "File \u001b[0;32m~/Documents/projects/gpu-spatial-graph-pipeline/src/gpu_spatial_graph_pipeline/data/datamodule.py:98\u001b[0m, in \u001b[0;36mGraphAnnDataModule.setup\u001b[0;34m(self, stage)\u001b[0m\n\u001b[1;32m     93\u001b[0m \u001b[39mdef\u001b[39;00m \u001b[39msetup\u001b[39m(\u001b[39mself\u001b[39m, stage: Optional[\u001b[39mstr\u001b[39m] \u001b[39m=\u001b[39m \u001b[39mNone\u001b[39;00m):\n\u001b[1;32m     94\u001b[0m     \u001b[39m# TODO: Implement each case\u001b[39;00m\n\u001b[1;32m     95\u001b[0m     \u001b[39m# TODO: Splitting\u001b[39;00m\n\u001b[1;32m     96\u001b[0m     \u001b[39m# stage = \"train\" if not stage else stage\u001b[39;00m\n\u001b[0;32m---> 98\u001b[0m     \u001b[39mself\u001b[39m\u001b[39m.\u001b[39mdata \u001b[39m=\u001b[39m \u001b[39mself\u001b[39;49m\u001b[39m.\u001b[39;49madata2data_fn(\u001b[39mself\u001b[39;49m\u001b[39m.\u001b[39;49madata)\n\u001b[1;32m    100\u001b[0m     \u001b[39mif\u001b[39;00m stage \u001b[39mnot\u001b[39;00m \u001b[39min\u001b[39;00m VALID_STAGE:\n\u001b[1;32m    101\u001b[0m         \u001b[39mraise\u001b[39;00m \u001b[39mValueError\u001b[39;00m(\u001b[39m\"\u001b[39m\u001b[39mStage must be one of \u001b[39m\u001b[39m%r\u001b[39;00m\u001b[39m.\u001b[39m\u001b[39m\"\u001b[39m \u001b[39m%\u001b[39m VALID_STAGE)\n",
      "File \u001b[0;32m~/Documents/projects/gpu-spatial-graph-pipeline/src/gpu_spatial_graph_pipeline/data/anndata2data.py:67\u001b[0m, in \u001b[0;36mAnnData2Data.__call__\u001b[0;34m(self, adatas)\u001b[0m\n\u001b[1;32m     65\u001b[0m \u001b[39m# do the given preprocessing steps.\u001b[39;00m\n\u001b[1;32m     66\u001b[0m \u001b[39mfor\u001b[39;00m process \u001b[39min\u001b[39;00m \u001b[39mself\u001b[39m\u001b[39m.\u001b[39m_preprocess:\n\u001b[0;32m---> 67\u001b[0m     process(adatas, \u001b[39mself\u001b[39;49m\u001b[39m.\u001b[39;49mfields)\n\u001b[1;32m     68\u001b[0m \u001b[39m# iterate trough adata.\u001b[39;00m\n\u001b[1;32m     69\u001b[0m \u001b[39mfor\u001b[39;00m adata \u001b[39min\u001b[39;00m \u001b[39mself\u001b[39m\u001b[39m.\u001b[39m_adata_iter(adatas):\n",
      "Cell \u001b[0;32mIn [20], line 18\u001b[0m, in \u001b[0;36m<lambda>\u001b[0;34m(x, _)\u001b[0m\n\u001b[1;32m      7\u001b[0m num_genes\u001b[39m=\u001b[39mdataset\u001b[39m.\u001b[39mcelldata\u001b[39m.\u001b[39mshape[\u001b[39m1\u001b[39m]\n\u001b[1;32m      9\u001b[0m fields \u001b[39m=\u001b[39m {\n\u001b[1;32m     10\u001b[0m     \u001b[39m'\u001b[39m\u001b[39mfeatures\u001b[39m\u001b[39m'\u001b[39m:[\u001b[39m'\u001b[39m\u001b[39mobs/Cluster\u001b[39m\u001b[39m'\u001b[39m,\u001b[39m'\u001b[39m\u001b[39mobs/donor\u001b[39m\u001b[39m'\u001b[39m,\u001b[39m'\u001b[39m\u001b[39mobsm/design_matrix\u001b[39m\u001b[39m'\u001b[39m],\n\u001b[1;32m     11\u001b[0m     \u001b[39m'\u001b[39m\u001b[39mlabels\u001b[39m\u001b[39m'\u001b[39m:[\u001b[39m'\u001b[39m\u001b[39mX\u001b[39m\u001b[39m'\u001b[39m]\n\u001b[1;32m     12\u001b[0m }\n\u001b[1;32m     16\u001b[0m a2d \u001b[39m=\u001b[39m AnnData2DataNcem(\n\u001b[1;32m     17\u001b[0m     fields\u001b[39m=\u001b[39mfields,\n\u001b[0;32m---> 18\u001b[0m     preprocess\u001b[39m=\u001b[39m[\u001b[39mlambda\u001b[39;00m x,_: add_design_matrix(x,\u001b[39m'\u001b[39;49m\u001b[39mobs/donor\u001b[39;49m\u001b[39m'\u001b[39;49m,\u001b[39m'\u001b[39;49m\u001b[39mobs/Cluster\u001b[39;49m\u001b[39m'\u001b[39;49m,\u001b[39m'\u001b[39;49m\u001b[39mdesign_matrix\u001b[39;49m\u001b[39m'\u001b[39;49m)],\n\u001b[1;32m     19\u001b[0m     sample_name\u001b[39m=\u001b[39m\u001b[39m'\u001b[39m\u001b[39mdonor\u001b[39m\u001b[39m'\u001b[39m\n\u001b[1;32m     20\u001b[0m )\n",
      "File \u001b[0;32m~/Documents/projects/gpu-spatial-graph-pipeline/src/gpu_spatial_graph_pipeline/utils/preprocessing.py:55\u001b[0m, in \u001b[0;36madd_design_matrix\u001b[0;34m(adata, xl_name, xc_name, output_name)\u001b[0m\n\u001b[1;32m     42\u001b[0m \u001b[39mdef\u001b[39;00m \u001b[39madd_design_matrix\u001b[39m(adata, xl_name, xc_name, output_name):\n\u001b[1;32m     43\u001b[0m     \u001b[39m\"\"\"Adds design matrix to the given adata object to the given field.\u001b[39;00m\n\u001b[1;32m     44\u001b[0m \n\u001b[1;32m     45\u001b[0m \u001b[39m    A: Adj. matrix\u001b[39;00m\n\u001b[0;32m   (...)\u001b[0m\n\u001b[1;32m     53\u001b[0m \u001b[39m        output_name (_type_): Where to store the matrix in adata.\u001b[39;00m\n\u001b[1;32m     54\u001b[0m \u001b[39m    \"\"\"\u001b[39;00m\n\u001b[0;32m---> 55\u001b[0m     adata\u001b[39m.\u001b[39mobsm[output_name] \u001b[39m=\u001b[39m design_matrix(\n\u001b[1;32m     56\u001b[0m         get_adjacency(adata), pd\u001b[39m.\u001b[39;49mget_dummies(get_address(adata, xl_name)), get_address(adata, xc_name)\n\u001b[1;32m     57\u001b[0m     )\n\u001b[1;32m     58\u001b[0m     \u001b[39mprint\u001b[39m(adata\u001b[39m.\u001b[39mobsm)\n",
      "File \u001b[0;32m~/Documents/projects/gpu-spatial-graph-pipeline/src/gpu_spatial_graph_pipeline/utils/preprocessing.py:38\u001b[0m, in \u001b[0;36mdesign_matrix\u001b[0;34m(A, Xl, Xc)\u001b[0m\n\u001b[1;32m     36\u001b[0m Xts \u001b[39m=\u001b[39m np\u001b[39m.\u001b[39meinsum(\u001b[39m\"\u001b[39m\u001b[39mbp,br->bpr\u001b[39m\u001b[39m\"\u001b[39m, Xs, Xl)\u001b[39m.\u001b[39mreshape((N, L \u001b[39m*\u001b[39m L))\n\u001b[1;32m     37\u001b[0m Xts \u001b[39m=\u001b[39m (Xts \u001b[39m>\u001b[39m \u001b[39m0\u001b[39m)\u001b[39m.\u001b[39mastype(np\u001b[39m.\u001b[39mfloat)\n\u001b[0;32m---> 38\u001b[0m Xd \u001b[39m=\u001b[39m np\u001b[39m.\u001b[39;49mhstack((Xl, Xts, Xc))\n\u001b[1;32m     39\u001b[0m \u001b[39mreturn\u001b[39;00m Xd\n",
      "File \u001b[0;32m<__array_function__ internals>:180\u001b[0m, in \u001b[0;36mhstack\u001b[0;34m(*args, **kwargs)\u001b[0m\n",
      "File \u001b[0;32m~/mambaforge/envs/pyg/lib/python3.8/site-packages/numpy/core/shape_base.py:345\u001b[0m, in \u001b[0;36mhstack\u001b[0;34m(tup)\u001b[0m\n\u001b[1;32m    343\u001b[0m     \u001b[39mreturn\u001b[39;00m _nx\u001b[39m.\u001b[39mconcatenate(arrs, \u001b[39m0\u001b[39m)\n\u001b[1;32m    344\u001b[0m \u001b[39melse\u001b[39;00m:\n\u001b[0;32m--> 345\u001b[0m     \u001b[39mreturn\u001b[39;00m _nx\u001b[39m.\u001b[39;49mconcatenate(arrs, \u001b[39m1\u001b[39;49m)\n",
      "File \u001b[0;32m<__array_function__ internals>:180\u001b[0m, in \u001b[0;36mconcatenate\u001b[0;34m(*args, **kwargs)\u001b[0m\n",
      "\u001b[0;31mValueError\u001b[0m: all the input arrays must have same number of dimensions, but the array at index 0 has 2 dimension(s) and the array at index 2 has 1 dimension(s)"
     ]
    }
   ],
   "source": [
    "trainer.fit(model,datamodule=dm)"
   ]
  },
  {
   "cell_type": "code",
   "execution_count": null,
   "metadata": {},
   "outputs": [],
   "source": [
    "trainer.test(model, datamodule=dm)"
   ]
  },
  {
   "cell_type": "code",
   "execution_count": 11,
   "metadata": {},
   "outputs": [],
   "source": []
  },
  {
   "cell_type": "code",
   "execution_count": 13,
   "metadata": {},
   "outputs": [],
   "source": [
    "x = ad.concat(adata)"
   ]
  },
  {
   "cell_type": "code",
   "execution_count": 19,
   "metadata": {},
   "outputs": [
    {
     "data": {
      "text/plain": [
       "59191    90de\n",
       "59192    90de\n",
       "59193    90de\n",
       "59194    90de\n",
       "59195    90de\n",
       "         ... \n",
       "18510    90de\n",
       "18511    90de\n",
       "18512    90de\n",
       "18513    90de\n",
       "18514    90de\n",
       "Name: donor, Length: 63747, dtype: object"
      ]
     },
     "execution_count": 19,
     "metadata": {},
     "output_type": "execute_result"
    }
   ],
   "source": [
    "x.obs.donor"
   ]
  },
  {
   "cell_type": "code",
   "execution_count": 34,
   "metadata": {},
   "outputs": [
    {
     "name": "stdout",
     "output_type": "stream",
     "text": [
      "View of AnnData object with n_obs × n_vars = 18943 × 36\n",
      "    obs: 'point', 'cell_id', 'cell_size', 'donor', 'Cluster', 'Cluster_preprocessed'\n",
      "    obsm: 'spatial', 'node_types'\n",
      "View of AnnData object with n_obs × n_vars = 22224 × 36\n",
      "    obs: 'point', 'cell_id', 'cell_size', 'donor', 'Cluster', 'Cluster_preprocessed'\n",
      "    obsm: 'spatial', 'node_types'\n",
      "View of AnnData object with n_obs × n_vars = 5811 × 36\n",
      "    obs: 'point', 'cell_id', 'cell_size', 'donor', 'Cluster', 'Cluster_preprocessed'\n",
      "    obsm: 'spatial', 'node_types'\n",
      "View of AnnData object with n_obs × n_vars = 16769 × 36\n",
      "    obs: 'point', 'cell_id', 'cell_size', 'donor', 'Cluster', 'Cluster_preprocessed'\n",
      "    obsm: 'spatial', 'node_types'\n"
     ]
    }
   ],
   "source": [
    "cats = x.obs.donor.unique()\n",
    "for cat in cats:\n",
    "    print(x[x.obs.donor == cat])"
   ]
  },
  {
   "cell_type": "code",
   "execution_count": 30,
   "metadata": {},
   "outputs": [
    {
     "data": {
      "text/plain": [
       "59191    90de\n",
       "59192    90de\n",
       "59193    90de\n",
       "59194    90de\n",
       "59195    90de\n",
       "         ... \n",
       "18510    90de\n",
       "18511    90de\n",
       "18512    90de\n",
       "18513    90de\n",
       "18514    90de\n",
       "Name: donor, Length: 63747, dtype: object"
      ]
     },
     "execution_count": 30,
     "metadata": {},
     "output_type": "execute_result"
    }
   ],
   "source": [
    "x.obs.donor.unique()"
   ]
  },
  {
   "cell_type": "code",
   "execution_count": null,
   "metadata": {},
   "outputs": [],
   "source": []
  }
 ],
 "metadata": {
  "kernelspec": {
   "display_name": "Python 3.8.13 ('pyg')",
   "language": "python",
   "name": "python3"
  },
  "language_info": {
   "codemirror_mode": {
    "name": "ipython",
    "version": 3
   },
   "file_extension": ".py",
   "mimetype": "text/x-python",
   "name": "python",
   "nbconvert_exporter": "python",
   "pygments_lexer": "ipython3",
   "version": "3.8.13"
  },
  "vscode": {
   "interpreter": {
    "hash": "163d3d0f285585011c53b157ec761685e8fd2fea3691b3cdf426d39f7063e055"
   }
  }
 },
 "nbformat": 4,
 "nbformat_minor": 4
}
