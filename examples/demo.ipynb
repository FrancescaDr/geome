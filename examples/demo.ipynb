{
 "cells": [
  {
   "cell_type": "code",
   "execution_count": 1,
   "metadata": {},
   "outputs": [],
   "source": [
    "%load_ext autoreload\n",
    "%autoreload 2"
   ]
  },
  {
   "cell_type": "code",
   "execution_count": 2,
   "metadata": {},
   "outputs": [
    {
     "ename": "ModuleNotFoundError",
     "evalue": "No module named 'data'",
     "output_type": "error",
     "traceback": [
      "\u001b[0;31m---------------------------------------------------------------------------\u001b[0m",
      "\u001b[0;31mModuleNotFoundError\u001b[0m                       Traceback (most recent call last)",
      "\u001b[1;32m/home/sel/Documents/projects/gpu-spatial-graph/examples/demo.ipynb Cell 2\u001b[0m in \u001b[0;36m<cell line: 12>\u001b[0;34m()\u001b[0m\n\u001b[1;32m      <a href='vscode-notebook-cell:/home/sel/Documents/projects/gpu-spatial-graph/examples/demo.ipynb#W1sZmlsZQ%3D%3D?line=8'>9</a>\u001b[0m \u001b[39mfrom\u001b[39;00m \u001b[39mtorch_geometric\u001b[39;00m\u001b[39m.\u001b[39;00m\u001b[39mdata\u001b[39;00m \u001b[39mimport\u001b[39;00m Data\n\u001b[1;32m     <a href='vscode-notebook-cell:/home/sel/Documents/projects/gpu-spatial-graph/examples/demo.ipynb#W1sZmlsZQ%3D%3D?line=9'>10</a>\u001b[0m \u001b[39mfrom\u001b[39;00m \u001b[39manndata\u001b[39;00m \u001b[39mimport\u001b[39;00m AnnData\n\u001b[0;32m---> <a href='vscode-notebook-cell:/home/sel/Documents/projects/gpu-spatial-graph/examples/demo.ipynb#W1sZmlsZQ%3D%3D?line=11'>12</a>\u001b[0m \u001b[39mfrom\u001b[39;00m \u001b[39mdata\u001b[39;00m\u001b[39m.\u001b[39;00m\u001b[39mnode_datamodule\u001b[39;00m \u001b[39mimport\u001b[39;00m NodeDataModule\n\u001b[1;32m     <a href='vscode-notebook-cell:/home/sel/Documents/projects/gpu-spatial-graph/examples/demo.ipynb#W1sZmlsZQ%3D%3D?line=12'>13</a>\u001b[0m \u001b[39mfrom\u001b[39;00m \u001b[39mmodels\u001b[39;00m\u001b[39m.\u001b[39;00m\u001b[39mgraph_embedding\u001b[39;00m \u001b[39mimport\u001b[39;00m GraphEmbedding\n",
      "\u001b[0;31mModuleNotFoundError\u001b[0m: No module named 'data'"
     ]
    }
   ],
   "source": [
    "from argparse import ArgumentParser, Namespace\n",
    "from random import choices\n",
    "import pytorch_lightning as pl\n",
    "from typing import Callable, List, Optional, Sequence, Union\n",
    "import squidpy as sq\n",
    "import torch\n",
    "from torch_geometric.loader import RandomNodeSampler\n",
    "import pandas as pd\n",
    "from torch_geometric.data import Data\n",
    "from anndata import AnnData\n",
    "\n",
    "from data.node_datamodule import NodeDataModule\n",
    "from models.graph_embedding import GraphEmbedding"
   ]
  },
  {
   "cell_type": "code",
   "execution_count": null,
   "metadata": {},
   "outputs": [],
   "source": [
    "def adata2data(adata:AnnData)-> Data:\n",
    "    sq.gr.spatial_neighbors(adata, coord_type=\"generic\")\n",
    "    r, c = adata.obsp['spatial_connectivities'].nonzero()\n",
    "    edge_index = torch.vstack([torch.from_numpy(r).to(\n",
    "        torch.long), torch.from_numpy(c).to(torch.long)])\n",
    "    cell_type = torch.from_numpy(pd.get_dummies(adata.obs).to_numpy())\n",
    "    gene_expression = torch.from_numpy(adata.X)\n",
    "    return Data(\n",
    "        edge_index=edge_index,\n",
    "        x=gene_expression,\n",
    "        y=cell_type\n",
    "    )"
   ]
  },
  {
   "cell_type": "code",
   "execution_count": null,
   "metadata": {},
   "outputs": [],
   "source": [
    "adata = sq.datasets.imc()"
   ]
  },
  {
   "cell_type": "code",
   "execution_count": null,
   "metadata": {},
   "outputs": [],
   "source": [
    "dm = NodeDataModule(adata=adata,adata2data_fn=adata2data, num_workers = 12, batch_size=100)"
   ]
  },
  {
   "cell_type": "code",
   "execution_count": null,
   "metadata": {},
   "outputs": [],
   "source": [
    "model = GraphEmbedding(num_features=34,latent_dim=30,lr=0.0001,weight_decay=0.000001)"
   ]
  },
  {
   "cell_type": "code",
   "execution_count": null,
   "metadata": {},
   "outputs": [],
   "source": [
    "trainer:pl.Trainer = pl.Trainer(accelerator='gpu',max_epochs=12,log_every_n_steps=1)"
   ]
  },
  {
   "cell_type": "code",
   "execution_count": null,
   "metadata": {},
   "outputs": [],
   "source": [
    "trainer.fit(model,datamodule=dm)"
   ]
  },
  {
   "cell_type": "code",
   "execution_count": null,
   "metadata": {},
   "outputs": [],
   "source": []
  }
 ],
 "metadata": {
  "kernelspec": {
   "display_name": "Python 3.8.13 ('ncem')",
   "language": "python",
   "name": "python3"
  },
  "language_info": {
   "codemirror_mode": {
    "name": "ipython",
    "version": 3
   },
   "file_extension": ".py",
   "mimetype": "text/x-python",
   "name": "python",
   "nbconvert_exporter": "python",
   "pygments_lexer": "ipython3",
   "version": "3.8.13"
  },
  "orig_nbformat": 4,
  "vscode": {
   "interpreter": {
    "hash": "a2d03c6a34750e60d8dd9ca1a6ee0965fb69595564131e0d0a03d064a4a81ea0"
   }
  }
 },
 "nbformat": 4,
 "nbformat_minor": 2
}
