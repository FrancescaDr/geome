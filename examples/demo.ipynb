{
 "cells": [
  {
   "cell_type": "code",
   "execution_count": null,
   "metadata": {},
   "outputs": [],
   "source": [
    "%load_ext autoreload\n",
    "%autoreload 2"
   ]
  },
  {
   "cell_type": "code",
   "execution_count": null,
   "metadata": {},
   "outputs": [],
   "source": [
    "from argparse import ArgumentParser, Namespace\n",
    "from random import choices\n",
    "import pytorch_lightning as pl\n",
    "from typing import Callable, List, Optional, Sequence, Union\n",
    "import squidpy as sq\n",
    "import torch\n",
    "from torch_geometric.loader import RandomNodeSampler\n",
    "import pandas as pd\n",
    "from torch_geometric.data import Data\n",
    "from anndata import AnnData\n",
    "\n",
    "from data.node_datamodule import NodeDataModule\n",
    "from models.graph_embedding import GraphEmbedding"
   ]
  },
  {
   "cell_type": "code",
   "execution_count": null,
   "metadata": {},
   "outputs": [],
   "source": [
    "def adata2data(adata:AnnData)-> Data:\n",
    "    sq.gr.spatial_neighbors(adata, coord_type=\"generic\")\n",
    "    r, c = adata.obsp['spatial_connectivities'].nonzero()\n",
    "    edge_index = torch.vstack([torch.from_numpy(r).to(\n",
    "        torch.long), torch.from_numpy(c).to(torch.long)])\n",
    "    cell_type = torch.from_numpy(pd.get_dummies(adata.obs).to_numpy())\n",
    "    gene_expression = torch.from_numpy(adata.X)\n",
    "    return Data(\n",
    "        edge_index=edge_index,\n",
    "        x=gene_expression,\n",
    "        y=cell_type\n",
    "    )"
   ]
  },
  {
   "cell_type": "code",
   "execution_count": null,
   "metadata": {},
   "outputs": [],
   "source": [
    "adata = sq.datasets.imc()"
   ]
  },
  {
   "cell_type": "code",
   "execution_count": null,
   "metadata": {},
   "outputs": [],
   "source": [
    "dm = NodeDataModule(adata=adata,adata2data_fn=adata2data, num_workers = 12, batch_size=100)"
   ]
  },
  {
   "cell_type": "code",
   "execution_count": null,
   "metadata": {},
   "outputs": [],
   "source": [
    "model = GraphEmbedding(num_features=34,latent_dim=30,lr=0.0001,weight_decay=0.000001)"
   ]
  },
  {
   "cell_type": "code",
   "execution_count": null,
   "metadata": {},
   "outputs": [],
   "source": [
    "trainer:pl.Trainer = pl.Trainer(accelerator='gpu',max_epochs=12,log_every_n_steps=1)"
   ]
  },
  {
   "cell_type": "code",
   "execution_count": null,
   "metadata": {},
   "outputs": [],
   "source": [
    "trainer.fit(model,datamodule=dm)"
   ]
  },
  {
   "cell_type": "code",
   "execution_count": null,
   "metadata": {},
   "outputs": [],
   "source": []
  }
 ],
 "metadata": {
  "kernelspec": {
   "display_name": "Python 3.10.4 ('oligo': conda)",
   "language": "python",
   "name": "python3"
  },
  "language_info": {
   "name": "python",
   "version": "3.10.4"
  },
  "orig_nbformat": 4,
  "vscode": {
   "interpreter": {
    "hash": "797cf0fae3aa9496144015db7114399f14bdbbab56900ed16736529315e01dbb"
   }
  }
 },
 "nbformat": 4,
 "nbformat_minor": 2
}
