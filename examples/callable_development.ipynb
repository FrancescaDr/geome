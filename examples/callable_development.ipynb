{
 "cells": [
  {
   "cell_type": "code",
   "execution_count": 7,
   "id": "2a449e71-ab9b-48fe-9c29-73c574eb36ee",
   "metadata": {},
   "outputs": [
    {
     "name": "stdout",
     "output_type": "stream",
     "text": [
      "The autoreload extension is already loaded. To reload it, use:\n",
      "  %reload_ext autoreload\n"
     ]
    }
   ],
   "source": [
    "%load_ext autoreload\n",
    "%autoreload 2"
   ]
  },
  {
   "cell_type": "code",
   "execution_count": 12,
   "id": "b8535e48-0471-469a-b67f-730919a6b633",
   "metadata": {},
   "outputs": [],
   "source": [
    "import squidpy as sq\n",
    "from gpu_spatial_graph_pipeline.data.anndata2data import AnnData2DataSq"
   ]
  },
  {
   "cell_type": "code",
   "execution_count": 13,
   "id": "a24095e4",
   "metadata": {},
   "outputs": [
    {
     "data": {
      "text/plain": [
       "[Data(x=[1023, 10], edge_index=[2, 6138], y=[1023, 36]),\n",
       " Data(x=[1241, 10], edge_index=[2, 7446], y=[1241, 36]),\n",
       " Data(x=[1045, 10], edge_index=[2, 6270], y=[1045, 36])]"
      ]
     },
     "execution_count": 13,
     "metadata": {},
     "output_type": "execute_result"
    }
   ],
   "source": [
    "adata = sq.datasets.mibitof()\n",
    "\n",
    "fields = {\n",
    "    'features':['obs/Cluster','obs/donor'],\n",
    "    'labels':['X']\n",
    "}\n",
    "\n",
    "a2c = AnnData2DataSq(fields=fields)\n",
    "a2c(adata)\n"
   ]
  }
 ],
 "metadata": {
  "kernelspec": {
   "display_name": "pyg",
   "language": "python",
   "name": "pyg"
  },
  "language_info": {
   "codemirror_mode": {
    "name": "ipython",
    "version": 3
   },
   "file_extension": ".py",
   "mimetype": "text/x-python",
   "name": "python",
   "nbconvert_exporter": "python",
   "pygments_lexer": "ipython3",
   "version": "3.8.13"
  }
 },
 "nbformat": 4,
 "nbformat_minor": 5
}
