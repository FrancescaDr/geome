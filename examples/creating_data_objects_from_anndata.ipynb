{
 "cells": [
  {
   "cell_type": "code",
   "execution_count": 19,
   "metadata": {},
   "outputs": [
    {
     "name": "stdout",
     "output_type": "stream",
     "text": [
      "The autoreload extension is already loaded. To reload it, use:\n",
      "  %reload_ext autoreload\n"
     ]
    }
   ],
   "source": [
    "%load_ext autoreload\n",
    "%autoreload 2"
   ]
  },
  {
   "cell_type": "code",
   "execution_count": 20,
   "metadata": {},
   "outputs": [],
   "source": [
    "import anndata as ad\n",
    "from gpu_spatial_graph_pipeline.data.utils import transforms\n",
    "from gpu_spatial_graph_pipeline.data.anndata2data import AnnData2DataByCategory\n"
   ]
  },
  {
   "cell_type": "markdown",
   "metadata": {},
   "source": [
    "## All NCEM Datasets"
   ]
  },
  {
   "cell_type": "markdown",
   "metadata": {},
   "source": [
    "### Creating A2D"
   ]
  },
  {
   "cell_type": "code",
   "execution_count": 21,
   "metadata": {},
   "outputs": [],
   "source": [
    "fields = {\n",
    "    'features':['obs/Cluster_preprocessed','obs/donor','obsm/design_matrix'],\n",
    "    'labels':['X']\n",
    "}\n",
    "\n",
    "preprocess = [\n",
    "    lambda x,_: transforms.add_design_matrix(x,'obs/Cluster_preprocessed','obs/donor','design_matrix')\n",
    "]\n",
    "\n",
    "category_to_iterate = 'point'\n",
    "\n",
    "a2d = AnnData2DataByCategory(\n",
    "    fields=fields,\n",
    "    category=category_to_iterate,\n",
    "    preprocess=preprocess,\n",
    "    yields_edge_index=False,\n",
    ")"
   ]
  },
  {
   "cell_type": "markdown",
   "metadata": {},
   "source": [
    "### Load Unprocessed Dataset"
   ]
  },
  {
   "cell_type": "code",
   "execution_count": 22,
   "metadata": {},
   "outputs": [
    {
     "name": "stdout",
     "output_type": "stream",
     "text": [
      "Loading data from raw files\n",
      "registering celldata\n"
     ]
    },
    {
     "name": "stderr",
     "output_type": "stream",
     "text": [
      "/home/sel/mambaforge/envs/pyg/lib/python3.8/site-packages/anndata/_core/anndata.py:121: ImplicitModificationWarning: Transforming to str index.\n",
      "  warnings.warn(\"Transforming to str index.\", ImplicitModificationWarning)\n"
     ]
    },
    {
     "name": "stdout",
     "output_type": "stream",
     "text": [
      "collecting image-wise celldata\n",
      "adding graph-level covariates\n",
      "Loaded 58 images with complete data from 4 patients over 63747 cells with 36 cell features and 8 distinct celltypes.\n"
     ]
    }
   ],
   "source": [
    "from gpu_spatial_graph_pipeline.data.datasets import DatasetHartmann\n",
    "\n",
    "\n",
    "#Mibitof\n",
    "dataset = DatasetHartmann(data_path='./example_data/hartmann/')\n",
    "adatas = list(dataset.img_celldata.values())\n",
    "\n"
   ]
  },
  {
   "cell_type": "markdown",
   "metadata": {},
   "source": [
    "### Some Preprocessing Done Manually\n",
    "\n",
    "These processing steps can also be done in the a2c callable if they are given as functions in to the preprocess list"
   ]
  },
  {
   "cell_type": "code",
   "execution_count": 23,
   "metadata": {},
   "outputs": [],
   "source": [
    "\n",
    "# Merge the list of adatas and convert some string to categories as they should be\n",
    "adata = ad.concat(adatas)\n",
    "to_categorize = ['donor', 'Cluster_preprocessed', 'point']\n",
    "for c in to_categorize:\n",
    "    adata.obs[c] = adata.obs[c].astype('category')"
   ]
  },
  {
   "cell_type": "markdown",
   "metadata": {},
   "source": [
    "### Convert AnnData to Data on call"
   ]
  },
  {
   "cell_type": "code",
   "execution_count": 24,
   "metadata": {},
   "outputs": [
    {
     "data": {
      "text/plain": [
       "[Data(features=[1338, 88], labels=[1338, 36]),\n",
       " Data(features=[61, 88], labels=[61, 36]),\n",
       " Data(features=[1316, 88], labels=[1316, 36]),\n",
       " Data(features=[1540, 88], labels=[1540, 36]),\n",
       " Data(features=[1822, 88], labels=[1822, 36]),\n",
       " Data(features=[863, 88], labels=[863, 36]),\n",
       " Data(features=[564, 88], labels=[564, 36]),\n",
       " Data(features=[1023, 88], labels=[1023, 36]),\n",
       " Data(features=[324, 88], labels=[324, 36]),\n",
       " Data(features=[287, 88], labels=[287, 36]),\n",
       " Data(features=[636, 88], labels=[636, 36]),\n",
       " Data(features=[311, 88], labels=[311, 36]),\n",
       " Data(features=[890, 88], labels=[890, 36]),\n",
       " Data(features=[1235, 88], labels=[1235, 36]),\n",
       " Data(features=[1020, 88], labels=[1020, 36]),\n",
       " Data(features=[1241, 88], labels=[1241, 36]),\n",
       " Data(features=[1438, 88], labels=[1438, 36]),\n",
       " Data(features=[1021, 88], labels=[1021, 36]),\n",
       " Data(features=[1632, 88], labels=[1632, 36]),\n",
       " Data(features=[780, 88], labels=[780, 36]),\n",
       " Data(features=[524, 88], labels=[524, 36]),\n",
       " Data(features=[669, 88], labels=[669, 36]),\n",
       " Data(features=[768, 88], labels=[768, 36]),\n",
       " Data(features=[241, 88], labels=[241, 36]),\n",
       " Data(features=[935, 88], labels=[935, 36]),\n",
       " Data(features=[347, 88], labels=[347, 36]),\n",
       " Data(features=[1499, 88], labels=[1499, 36]),\n",
       " Data(features=[601, 88], labels=[601, 36]),\n",
       " Data(features=[2268, 88], labels=[2268, 36]),\n",
       " Data(features=[1912, 88], labels=[1912, 36]),\n",
       " Data(features=[1678, 88], labels=[1678, 36]),\n",
       " Data(features=[1025, 88], labels=[1025, 36]),\n",
       " Data(features=[1306, 88], labels=[1306, 36]),\n",
       " Data(features=[1020, 88], labels=[1020, 36]),\n",
       " Data(features=[852, 88], labels=[852, 36]),\n",
       " Data(features=[1664, 88], labels=[1664, 36]),\n",
       " Data(features=[1698, 88], labels=[1698, 36]),\n",
       " Data(features=[1672, 88], labels=[1672, 36]),\n",
       " Data(features=[777, 88], labels=[777, 36]),\n",
       " Data(features=[556, 88], labels=[556, 36]),\n",
       " Data(features=[554, 88], labels=[554, 36]),\n",
       " Data(features=[937, 88], labels=[937, 36]),\n",
       " Data(features=[1524, 88], labels=[1524, 36]),\n",
       " Data(features=[1528, 88], labels=[1528, 36]),\n",
       " Data(features=[2100, 88], labels=[2100, 36]),\n",
       " Data(features=[721, 88], labels=[721, 36]),\n",
       " Data(features=[1395, 88], labels=[1395, 36]),\n",
       " Data(features=[611, 88], labels=[611, 36]),\n",
       " Data(features=[1872, 88], labels=[1872, 36]),\n",
       " Data(features=[1217, 88], labels=[1217, 36]),\n",
       " Data(features=[1531, 88], labels=[1531, 36]),\n",
       " Data(features=[1927, 88], labels=[1927, 36]),\n",
       " Data(features=[690, 88], labels=[690, 36]),\n",
       " Data(features=[1706, 88], labels=[1706, 36]),\n",
       " Data(features=[1325, 88], labels=[1325, 36]),\n",
       " Data(features=[1091, 88], labels=[1091, 36]),\n",
       " Data(features=[1046, 88], labels=[1046, 36]),\n",
       " Data(features=[618, 88], labels=[618, 36])]"
      ]
     },
     "execution_count": 24,
     "metadata": {},
     "output_type": "execute_result"
    }
   ],
   "source": [
    "datas = a2d(adata)\n",
    "datas"
   ]
  },
  {
   "cell_type": "markdown",
   "metadata": {},
   "source": [
    "## Squidpy Datasets"
   ]
  },
  {
   "cell_type": "code",
   "execution_count": 25,
   "metadata": {},
   "outputs": [],
   "source": [
    "import squidpy as sq\n",
    "\n",
    "adata = sq.datasets.mibitof()\n"
   ]
  },
  {
   "cell_type": "code",
   "execution_count": 26,
   "metadata": {},
   "outputs": [],
   "source": [
    "fields = {\n",
    "    'features':['obs/Cluster','obs/donor'],\n",
    "    'labels':['X']\n",
    "}\n",
    "\n",
    "\n",
    "preprocess = [\n",
    "    lambda x,_: transforms.add_design_matrix(x,'obs/Cluster','obs/donor','design_matrix')\n",
    "]\n",
    "\n",
    "category_to_iterate = 'library_id'\n",
    "\n",
    "a2c = AnnData2DataByCategory(fields=fields,category=category_to_iterate,preprocess=preprocess,yields_edge_index=True)\n",
    "\n"
   ]
  },
  {
   "cell_type": "code",
   "execution_count": 27,
   "metadata": {},
   "outputs": [
    {
     "data": {
      "text/plain": [
       "[Data(edge_index=[2, 6138], features=[1023, 10], labels=[1023, 36]),\n",
       " Data(edge_index=[2, 7446], features=[1241, 10], labels=[1241, 36]),\n",
       " Data(edge_index=[2, 6270], features=[1045, 10], labels=[1045, 36])]"
      ]
     },
     "execution_count": 27,
     "metadata": {},
     "output_type": "execute_result"
    }
   ],
   "source": [
    "a2c(adata)"
   ]
  },
  {
   "cell_type": "code",
   "execution_count": null,
   "metadata": {},
   "outputs": [],
   "source": []
  }
 ],
 "metadata": {
  "kernelspec": {
   "display_name": "Python 3.8.13 ('pyg')",
   "language": "python",
   "name": "python3"
  },
  "language_info": {
   "codemirror_mode": {
    "name": "ipython",
    "version": 3
   },
   "file_extension": ".py",
   "mimetype": "text/x-python",
   "name": "python",
   "nbconvert_exporter": "python",
   "pygments_lexer": "ipython3",
   "version": "3.8.13"
  },
  "orig_nbformat": 4,
  "vscode": {
   "interpreter": {
    "hash": "163d3d0f285585011c53b157ec761685e8fd2fea3691b3cdf426d39f7063e055"
   }
  }
 },
 "nbformat": 4,
 "nbformat_minor": 2
}
