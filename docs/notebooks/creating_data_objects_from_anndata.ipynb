{
 "cells": [
  {
   "attachments": {},
   "cell_type": "markdown",
   "metadata": {},
   "source": [
    "# Creation of torch-geometric data objects from AnnData"
   ]
  },
  {
   "cell_type": "code",
   "execution_count": 1,
   "metadata": {},
   "outputs": [],
   "source": [
    "%load_ext autoreload\n",
    "%autoreload 2"
   ]
  },
  {
   "cell_type": "code",
   "execution_count": 2,
   "metadata": {},
   "outputs": [
    {
     "name": "stderr",
     "output_type": "stream",
     "text": [
      "/home/sel/mambaforge/envs/gnn/lib/python3.10/site-packages/geopandas/_compat.py:124: UserWarning: The Shapely GEOS version (3.11.1-CAPI-1.17.1) is incompatible with the GEOS version PyGEOS was compiled with (3.10.4-CAPI-1.16.2). Conversions between both will be slow.\n",
      "  warnings.warn(\n",
      "/home/sel/mambaforge/envs/gnn/lib/python3.10/site-packages/spatialdata/__init__.py:9: UserWarning: Geopandas was set to use PyGEOS, changing to shapely 2.0 with:\n",
      "\n",
      "\tgeopandas.options.use_pygeos = True\n",
      "\n",
      "If you intended to use PyGEOS, set the option to False.\n",
      "  _check_geopandas_using_shapely()\n"
     ]
    }
   ],
   "source": [
    "import warnings\n",
    "import anndata as ad\n",
    "import squidpy as sq\n",
    "from geome import transforms\n",
    "from geome.adata2data import AnnData2DataByCategory\n",
    "from utils.datasets import DatasetHartmann\n",
    "\n",
    "warnings.filterwarnings('ignore')\n"
   ]
  },
  {
   "attachments": {},
   "cell_type": "markdown",
   "metadata": {},
   "source": [
    "## All NCEM Datasets"
   ]
  },
  {
   "attachments": {},
   "cell_type": "markdown",
   "metadata": {
    "tags": []
   },
   "source": [
    "### Load Unprocessed Dataset"
   ]
  },
  {
   "cell_type": "code",
   "execution_count": 3,
   "metadata": {},
   "outputs": [
    {
     "name": "stdout",
     "output_type": "stream",
     "text": [
      "Loading data from raw files\n",
      "registering celldata\n",
      "collecting image-wise celldata\n",
      "adding graph-level covariates\n",
      "Loaded 58 images with complete data from 4 patients over 63747 cells with 36 cell features and 8 distinct celltypes.\n"
     ]
    }
   ],
   "source": [
    "# Mibitof\n",
    "dataset = DatasetHartmann(data_path='./example_data/hartmann/')\n",
    "adatas = list(dataset.img_celldata.values())"
   ]
  },
  {
   "attachments": {},
   "cell_type": "markdown",
   "metadata": {},
   "source": [
    "### Some Preprocessing Done Manually\n",
    "\n",
    "These processing steps can also be done in the a2c callable if they are given as functions in to the preprocess list"
   ]
  },
  {
   "cell_type": "code",
   "execution_count": 4,
   "metadata": {},
   "outputs": [],
   "source": [
    "# Merge the list of adatas and convert some string to categories as they should be\n",
    "adata = ad.concat(adatas)"
   ]
  },
  {
   "cell_type": "code",
   "execution_count": 5,
   "metadata": {},
   "outputs": [
    {
     "data": {
      "text/plain": [
       "AnnData object with n_obs × n_vars = 63747 × 36\n",
       "    obs: 'point', 'cell_id', 'cell_size', 'donor', 'Cluster', 'Cluster_preprocessed'\n",
       "    obsm: 'spatial', 'node_types'"
      ]
     },
     "execution_count": 5,
     "metadata": {},
     "output_type": "execute_result"
    }
   ],
   "source": [
    "adata"
   ]
  },
  {
   "attachments": {},
   "cell_type": "markdown",
   "metadata": {},
   "source": [
    "### Creating A2D\n"
   ]
  },
  {
   "cell_type": "code",
   "execution_count": 6,
   "metadata": {},
   "outputs": [],
   "source": [
    "fields = {\n",
    "    'features':['obs/Cluster_preprocessed','obs/donor','obsm/design_matrix'],\n",
    "    'labels':['X']\n",
    "}"
   ]
  },
  {
   "attachments": {},
   "cell_type": "markdown",
   "metadata": {},
   "source": [
    "Here we list the preprocessing steps that we need to be done on anndata. They take two parameters the `adata` and the `fields`. But we don't use the `fields` in this example."
   ]
  },
  {
   "cell_type": "code",
   "execution_count": 7,
   "metadata": {},
   "outputs": [],
   "source": [
    "from geome.transforms import Compose, Categorize, AddDesignMatrix, AddAdjMatrix\n",
    "\n",
    "\n",
    "# [\n",
    "#     lambda x,_: transforms.categorize_obs(x,['donor', 'Cluster_preprocessed', 'point']),\n",
    "#     lambda x,_: transforms.add_design_matrix(x,'obs/Cluster_preprocessed','obs/donor','design_matrix'),\n",
    "# ]\n",
    "adj_matrix_loc = 'obsp/adjacency_matrix_connectivities'\n",
    "\n",
    "\n",
    "preprocess = Compose([\n",
    "    Categorize(['donor', 'Cluster_preprocessed', 'point'], axis='obs'),\n",
    "    AddAdjMatrix(adj_matrix_loc)\n",
    "])\n",
    "transform = AddDesignMatrix('obs/Cluster_preprocessed','obs/donor', adj_matrix_loc,'design_matrix')"
   ]
  },
  {
   "cell_type": "code",
   "execution_count": 8,
   "metadata": {},
   "outputs": [],
   "source": [
    "category_to_iterate = 'point'"
   ]
  },
  {
   "cell_type": "code",
   "execution_count": 9,
   "metadata": {},
   "outputs": [
    {
     "data": {
      "text/plain": [
       "59191    scMEP_point_1\n",
       "59192    scMEP_point_1\n",
       "59193    scMEP_point_1\n",
       "59194    scMEP_point_1\n",
       "59195    scMEP_point_1\n",
       "             ...      \n",
       "18510    scMEP_point_9\n",
       "18511    scMEP_point_9\n",
       "18512    scMEP_point_9\n",
       "18513    scMEP_point_9\n",
       "18514    scMEP_point_9\n",
       "Name: point, Length: 63747, dtype: category\n",
       "Categories (58, object): ['scMEP_point_1', 'scMEP_point_2', 'scMEP_point_3', 'scMEP_point_4', ..., 'scMEP_point_55', 'scMEP_point_56', 'scMEP_point_57', 'scMEP_point_58']"
      ]
     },
     "execution_count": 9,
     "metadata": {},
     "output_type": "execute_result"
    }
   ],
   "source": [
    "adata.obs['point'] # note that the dtype is not categorical."
   ]
  },
  {
   "cell_type": "code",
   "execution_count": 10,
   "metadata": {},
   "outputs": [],
   "source": [
    "a2d = AnnData2DataByCategory(\n",
    "    fields=fields,\n",
    "    category=category_to_iterate,\n",
    "    preprocess=preprocess,\n",
    "    transform=transform,\n",
    ")"
   ]
  },
  {
   "attachments": {},
   "cell_type": "markdown",
   "metadata": {},
   "source": [
    "### Convert AnnData to Data on call"
   ]
  },
  {
   "cell_type": "code",
   "execution_count": 11,
   "metadata": {},
   "outputs": [
    {
     "data": {
      "text/plain": [
       "[Data(features=[1338, 88], labels=[1338, 36]),\n",
       " Data(features=[311, 88], labels=[311, 36]),\n",
       " Data(features=[768, 88], labels=[768, 36]),\n",
       " Data(features=[1020, 88], labels=[1020, 36]),\n",
       " Data(features=[2100, 88], labels=[2100, 36]),\n",
       " Data(features=[1325, 88], labels=[1325, 36]),\n",
       " Data(features=[1091, 88], labels=[1091, 36]),\n",
       " Data(features=[1046, 88], labels=[1046, 36]),\n",
       " Data(features=[618, 88], labels=[618, 36]),\n",
       " Data(features=[61, 88], labels=[61, 36]),\n",
       " Data(features=[1316, 88], labels=[1316, 36]),\n",
       " Data(features=[1540, 88], labels=[1540, 36]),\n",
       " Data(features=[1822, 88], labels=[1822, 36]),\n",
       " Data(features=[863, 88], labels=[863, 36]),\n",
       " Data(features=[564, 88], labels=[564, 36]),\n",
       " Data(features=[1023, 88], labels=[1023, 36]),\n",
       " Data(features=[324, 88], labels=[324, 36]),\n",
       " Data(features=[287, 88], labels=[287, 36]),\n",
       " Data(features=[636, 88], labels=[636, 36]),\n",
       " Data(features=[890, 88], labels=[890, 36]),\n",
       " Data(features=[1235, 88], labels=[1235, 36]),\n",
       " Data(features=[1020, 88], labels=[1020, 36]),\n",
       " Data(features=[1241, 88], labels=[1241, 36]),\n",
       " Data(features=[1438, 88], labels=[1438, 36]),\n",
       " Data(features=[1021, 88], labels=[1021, 36]),\n",
       " Data(features=[1632, 88], labels=[1632, 36]),\n",
       " Data(features=[780, 88], labels=[780, 36]),\n",
       " Data(features=[524, 88], labels=[524, 36]),\n",
       " Data(features=[669, 88], labels=[669, 36]),\n",
       " Data(features=[241, 88], labels=[241, 36]),\n",
       " Data(features=[935, 88], labels=[935, 36]),\n",
       " Data(features=[347, 88], labels=[347, 36]),\n",
       " Data(features=[1499, 88], labels=[1499, 36]),\n",
       " Data(features=[601, 88], labels=[601, 36]),\n",
       " Data(features=[2268, 88], labels=[2268, 36]),\n",
       " Data(features=[1912, 88], labels=[1912, 36]),\n",
       " Data(features=[1678, 88], labels=[1678, 36]),\n",
       " Data(features=[1025, 88], labels=[1025, 36]),\n",
       " Data(features=[1306, 88], labels=[1306, 36]),\n",
       " Data(features=[852, 88], labels=[852, 36]),\n",
       " Data(features=[1664, 88], labels=[1664, 36]),\n",
       " Data(features=[1698, 88], labels=[1698, 36]),\n",
       " Data(features=[1672, 88], labels=[1672, 36]),\n",
       " Data(features=[777, 88], labels=[777, 36]),\n",
       " Data(features=[556, 88], labels=[556, 36]),\n",
       " Data(features=[554, 88], labels=[554, 36]),\n",
       " Data(features=[937, 88], labels=[937, 36]),\n",
       " Data(features=[1524, 88], labels=[1524, 36]),\n",
       " Data(features=[1528, 88], labels=[1528, 36]),\n",
       " Data(features=[721, 88], labels=[721, 36]),\n",
       " Data(features=[1395, 88], labels=[1395, 36]),\n",
       " Data(features=[611, 88], labels=[611, 36]),\n",
       " Data(features=[1872, 88], labels=[1872, 36]),\n",
       " Data(features=[1217, 88], labels=[1217, 36]),\n",
       " Data(features=[1531, 88], labels=[1531, 36]),\n",
       " Data(features=[1927, 88], labels=[1927, 36]),\n",
       " Data(features=[690, 88], labels=[690, 36]),\n",
       " Data(features=[1706, 88], labels=[1706, 36])]"
      ]
     },
     "execution_count": 11,
     "metadata": {},
     "output_type": "execute_result"
    }
   ],
   "source": [
    "datas = a2d(adata)\n",
    "datas"
   ]
  },
  {
   "cell_type": "code",
   "execution_count": 12,
   "metadata": {},
   "outputs": [
    {
     "data": {
      "text/plain": [
       "(tensor([[0., 0., 0.,  ..., 1., 0., 0.],\n",
       "         [1., 0., 0.,  ..., 1., 0., 0.],\n",
       "         [0., 0., 0.,  ..., 1., 0., 0.],\n",
       "         ...,\n",
       "         [0., 0., 0.,  ..., 1., 0., 0.],\n",
       "         [0., 0., 0.,  ..., 1., 0., 0.],\n",
       "         [0., 0., 0.,  ..., 1., 0., 0.]]),\n",
       " torch.Size([1338, 88]))"
      ]
     },
     "execution_count": 12,
     "metadata": {},
     "output_type": "execute_result"
    }
   ],
   "source": [
    "datas[0].features, datas[0].features.shape"
   ]
  },
  {
   "attachments": {},
   "cell_type": "markdown",
   "metadata": {},
   "source": [
    "## Squidpy Datasets"
   ]
  },
  {
   "cell_type": "code",
   "execution_count": 13,
   "metadata": {},
   "outputs": [
    {
     "data": {
      "text/plain": [
       "AnnData object with n_obs × n_vars = 3309 × 36\n",
       "    obs: 'row_num', 'point', 'cell_id', 'X1', 'center_rowcoord', 'center_colcoord', 'cell_size', 'category', 'donor', 'Cluster', 'batch', 'library_id'\n",
       "    var: 'mean-0', 'std-0', 'mean-1', 'std-1', 'mean-2', 'std-2'\n",
       "    uns: 'Cluster_colors', 'batch_colors', 'neighbors', 'spatial', 'umap'\n",
       "    obsm: 'X_scanorama', 'X_umap', 'spatial'\n",
       "    obsp: 'connectivities', 'distances'"
      ]
     },
     "execution_count": 13,
     "metadata": {},
     "output_type": "execute_result"
    }
   ],
   "source": [
    "adata = sq.datasets.mibitof()\n",
    "adata"
   ]
  },
  {
   "cell_type": "code",
   "execution_count": 16,
   "metadata": {},
   "outputs": [],
   "source": [
    "# fields = {\n",
    "#     'features':['obs/Cluster','obs/donor'],\n",
    "#     'labels':['X']\n",
    "# }\n",
    "\n",
    "fields = {\n",
    "    'features':['obs/Cluster','obs/donor'],\n",
    "    'labels':['X'],\n",
    "    'edge_index':['uns/edge_index'],\n",
    "}\n",
    "\n",
    "# preprocess = [\n",
    "#     lambda x,_: transforms.add_design_matrix(x,'obs/Cluster','obs/donor','design_matrix')\n",
    "# ]\n",
    "\n",
    "adj_matrix_loc = 'obsp/connectivities'\n",
    "\n",
    "from geome.transforms import AddEdgeIndex\n",
    "transform = Compose([\n",
    "    AddEdgeIndex(adj_matrix_loc,'edge_index', overwrite=True),\n",
    "    AddDesignMatrix('obs/Cluster','obs/donor', adj_matrix_loc,'design_matrix'),\n",
    "\n",
    "])\n",
    "\n",
    "\n",
    "category_to_iterate = 'library_id'\n",
    "\n",
    "a2c = AnnData2DataByCategory(fields=fields,\n",
    "                             category=category_to_iterate,\n",
    "                             preprocess=None,\n",
    "                             transform=transform)"
   ]
  },
  {
   "cell_type": "code",
   "execution_count": 17,
   "metadata": {},
   "outputs": [
    {
     "data": {
      "text/plain": [
       "[Data(edge_index=[2, 8878], features=[1023, 10], labels=[1023, 36]),\n",
       " Data(edge_index=[2, 17770], features=[1241, 10], labels=[1241, 36]),\n",
       " Data(edge_index=[2, 3944], features=[1045, 10], labels=[1045, 36])]"
      ]
     },
     "execution_count": 17,
     "metadata": {},
     "output_type": "execute_result"
    }
   ],
   "source": [
    "datas = a2c(adata)\n",
    "datas"
   ]
  },
  {
   "cell_type": "code",
   "execution_count": 18,
   "metadata": {},
   "outputs": [
    {
     "data": {
      "text/plain": [
       "(array([[-0.01463166, -0.2530882 , -0.07003902, ..., -0.13318786,\n",
       "         -0.06862581, -0.19842437],\n",
       "        [-0.25636178, -0.0944411 , -0.04101864, ..., -0.10532203,\n",
       "         -0.02109102, -0.10195286],\n",
       "        [-0.32266545, -0.22462557, -0.0605919 , ..., -0.17151919,\n",
       "         -0.06436188, -0.04061128],\n",
       "        ...,\n",
       "        [-0.14503248, -0.03822452,  0.07996222, ..., -0.29326773,\n",
       "         -0.25504532,  0.253582  ],\n",
       "        [-0.11058567, -0.28841913, -0.09688035, ..., -0.38152164,\n",
       "         -0.11625874,  0.08042709],\n",
       "        [-0.09426577, -0.1985481 , -0.06324905, ..., -0.3534353 ,\n",
       "         -0.0251825 , -0.05501218]], dtype=float32),\n",
       " (1023, 36))"
      ]
     },
     "execution_count": 18,
     "metadata": {},
     "output_type": "execute_result"
    }
   ],
   "source": [
    "datas[0].labels, datas[0].labels.shape"
   ]
  },
  {
   "cell_type": "code",
   "execution_count": null,
   "metadata": {},
   "outputs": [],
   "source": []
  }
 ],
 "metadata": {
  "kernelspec": {
   "display_name": "gnn",
   "language": "python",
   "name": "python3"
  },
  "language_info": {
   "codemirror_mode": {
    "name": "ipython",
    "version": 3
   },
   "file_extension": ".py",
   "mimetype": "text/x-python",
   "name": "python",
   "nbconvert_exporter": "python",
   "pygments_lexer": "ipython3",
   "version": "3.10.12"
  },
  "vscode": {
   "interpreter": {
    "hash": "ea4daf7d280ca262b587e4627dfb0fadfa698e5ee2e5ad03191692ad9369f335"
   }
  }
 },
 "nbformat": 4,
 "nbformat_minor": 4
}
