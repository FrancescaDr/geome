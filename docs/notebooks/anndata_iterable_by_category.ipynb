{
 "cells": [
  {
   "cell_type": "markdown",
   "metadata": {},
   "source": [
    "# Creating Iterables From AnnData\n",
    "\n",
    "The AnnData2Data expects an anndata iterable by default when called upon. If you want the AnnData2Data object you created to take one adata you can provide "
   ]
  },
  {
   "cell_type": "code",
   "execution_count": 3,
   "metadata": {},
   "outputs": [
    {
     "name": "stdout",
     "output_type": "stream",
     "text": [
      "The autoreload extension is already loaded. To reload it, use:\n",
      "  %reload_ext autoreload\n"
     ]
    }
   ],
   "source": [
    "%load_ext autoreload\n",
    "%autoreload 2"
   ]
  },
  {
   "cell_type": "code",
   "execution_count": 7,
   "metadata": {},
   "outputs": [
    {
     "name": "stderr",
     "output_type": "stream",
     "text": [
      "/home/sel/mambaforge/envs/gnn/lib/python3.10/site-packages/geopandas/_compat.py:124: UserWarning: The Shapely GEOS version (3.11.1-CAPI-1.17.1) is incompatible with the GEOS version PyGEOS was compiled with (3.10.4-CAPI-1.16.2). Conversions between both will be slow.\n",
      "  warnings.warn(\n",
      "/home/sel/mambaforge/envs/gnn/lib/python3.10/site-packages/spatialdata/__init__.py:9: UserWarning: Geopandas was set to use PyGEOS, changing to shapely 2.0 with:\n",
      "\n",
      "\tgeopandas.options.use_pygeos = True\n",
      "\n",
      "If you intended to use PyGEOS, set the option to False.\n",
      "  _check_geopandas_using_shapely()\n"
     ]
    }
   ],
   "source": [
    "from typing import Callable, Optional\n",
    "\n",
    "from anndata import AnnData\n",
    "\n",
    "from geome import iterables\n",
    "\n",
    "\n",
    "from geome.adata2data import AnnData2DataDefault\n",
    "import pytorch_lightning as pl\n",
    "import torch\n",
    "import anndata as ad\n",
    "from geome import transforms\n",
    "from geome.adata2data import AnnData2DataByCategory\n",
    "from utils.datasets import DatasetHartmann\n",
    "from utils.models.non_linear_ncem import NonLinearNCEM\n",
    "from geome.datamodule import GraphAnnDataModule\n",
    "\n"
   ]
  },
  {
   "cell_type": "code",
   "execution_count": 8,
   "metadata": {},
   "outputs": [],
   "source": [
    "category = 'point'\n",
    "to_iterable = iterables.ToCategoryIterable('point', axis='obs')"
   ]
  },
  {
   "cell_type": "code",
   "execution_count": 10,
   "metadata": {},
   "outputs": [
    {
     "name": "stdout",
     "output_type": "stream",
     "text": [
      "Loading data from raw files\n",
      "registering celldata\n"
     ]
    },
    {
     "name": "stderr",
     "output_type": "stream",
     "text": [
      "/home/sel/mambaforge/envs/gnn/lib/python3.10/site-packages/anndata/_core/anndata.py:117: ImplicitModificationWarning: Transforming to str index.\n",
      "  warnings.warn(\"Transforming to str index.\", ImplicitModificationWarning)\n"
     ]
    },
    {
     "name": "stdout",
     "output_type": "stream",
     "text": [
      "collecting image-wise celldata\n",
      "adding graph-level covariates\n",
      "Loaded 58 images with complete data from 4 patients over 63747 cells with 36 cell features and 8 distinct celltypes.\n"
     ]
    }
   ],
   "source": [
    "#Mibitof\n",
    "dataset = DatasetHartmann(data_path='./example_data/hartmann/')\n",
    "adatas = list(dataset.img_celldata.values())\n",
    "\n",
    "# Merge the list of adatas and convert some string to categories as they should be\n",
    "adata = ad.concat(adatas)\n",
    "\n",
    "adata = transforms.Categorize(['donor', 'Cluster_preprocessed', 'point'], axis='obs')(adata) "
   ]
  },
  {
   "cell_type": "code",
   "execution_count": 11,
   "metadata": {},
   "outputs": [
    {
     "data": {
      "text/plain": [
       "Index(['Endothelial', 'Epithelial', 'Fibroblast', 'Imm_other', 'Myeloid_CD11c',\n",
       "       'Myeloid_CD68', 'Tcell_CD4', 'Tcell_CD8'],\n",
       "      dtype='object')"
      ]
     },
     "execution_count": 11,
     "metadata": {},
     "output_type": "execute_result"
    }
   ],
   "source": [
    "adata.obs['Cluster'].cat.categories"
   ]
  },
  {
   "cell_type": "code",
   "execution_count": null,
   "metadata": {},
   "outputs": [],
   "source": []
  },
  {
   "cell_type": "code",
   "execution_count": 12,
   "metadata": {},
   "outputs": [
    {
     "data": {
      "text/plain": [
       "[AnnData object with n_obs × n_vars = 1338 × 36\n",
       "     obs: 'point', 'cell_id', 'cell_size', 'donor', 'Cluster', 'Cluster_preprocessed'\n",
       "     obsm: 'spatial', 'node_types',\n",
       " AnnData object with n_obs × n_vars = 311 × 36\n",
       "     obs: 'point', 'cell_id', 'cell_size', 'donor', 'Cluster', 'Cluster_preprocessed'\n",
       "     obsm: 'spatial', 'node_types',\n",
       " AnnData object with n_obs × n_vars = 768 × 36\n",
       "     obs: 'point', 'cell_id', 'cell_size', 'donor', 'Cluster', 'Cluster_preprocessed'\n",
       "     obsm: 'spatial', 'node_types',\n",
       " AnnData object with n_obs × n_vars = 1020 × 36\n",
       "     obs: 'point', 'cell_id', 'cell_size', 'donor', 'Cluster', 'Cluster_preprocessed'\n",
       "     obsm: 'spatial', 'node_types',\n",
       " AnnData object with n_obs × n_vars = 2100 × 36\n",
       "     obs: 'point', 'cell_id', 'cell_size', 'donor', 'Cluster', 'Cluster_preprocessed'\n",
       "     obsm: 'spatial', 'node_types',\n",
       " AnnData object with n_obs × n_vars = 1325 × 36\n",
       "     obs: 'point', 'cell_id', 'cell_size', 'donor', 'Cluster', 'Cluster_preprocessed'\n",
       "     obsm: 'spatial', 'node_types',\n",
       " AnnData object with n_obs × n_vars = 1091 × 36\n",
       "     obs: 'point', 'cell_id', 'cell_size', 'donor', 'Cluster', 'Cluster_preprocessed'\n",
       "     obsm: 'spatial', 'node_types',\n",
       " AnnData object with n_obs × n_vars = 1046 × 36\n",
       "     obs: 'point', 'cell_id', 'cell_size', 'donor', 'Cluster', 'Cluster_preprocessed'\n",
       "     obsm: 'spatial', 'node_types',\n",
       " AnnData object with n_obs × n_vars = 618 × 36\n",
       "     obs: 'point', 'cell_id', 'cell_size', 'donor', 'Cluster', 'Cluster_preprocessed'\n",
       "     obsm: 'spatial', 'node_types',\n",
       " AnnData object with n_obs × n_vars = 61 × 36\n",
       "     obs: 'point', 'cell_id', 'cell_size', 'donor', 'Cluster', 'Cluster_preprocessed'\n",
       "     obsm: 'spatial', 'node_types',\n",
       " AnnData object with n_obs × n_vars = 1316 × 36\n",
       "     obs: 'point', 'cell_id', 'cell_size', 'donor', 'Cluster', 'Cluster_preprocessed'\n",
       "     obsm: 'spatial', 'node_types',\n",
       " AnnData object with n_obs × n_vars = 1540 × 36\n",
       "     obs: 'point', 'cell_id', 'cell_size', 'donor', 'Cluster', 'Cluster_preprocessed'\n",
       "     obsm: 'spatial', 'node_types',\n",
       " AnnData object with n_obs × n_vars = 1822 × 36\n",
       "     obs: 'point', 'cell_id', 'cell_size', 'donor', 'Cluster', 'Cluster_preprocessed'\n",
       "     obsm: 'spatial', 'node_types',\n",
       " AnnData object with n_obs × n_vars = 863 × 36\n",
       "     obs: 'point', 'cell_id', 'cell_size', 'donor', 'Cluster', 'Cluster_preprocessed'\n",
       "     obsm: 'spatial', 'node_types',\n",
       " AnnData object with n_obs × n_vars = 564 × 36\n",
       "     obs: 'point', 'cell_id', 'cell_size', 'donor', 'Cluster', 'Cluster_preprocessed'\n",
       "     obsm: 'spatial', 'node_types',\n",
       " AnnData object with n_obs × n_vars = 1023 × 36\n",
       "     obs: 'point', 'cell_id', 'cell_size', 'donor', 'Cluster', 'Cluster_preprocessed'\n",
       "     obsm: 'spatial', 'node_types',\n",
       " AnnData object with n_obs × n_vars = 324 × 36\n",
       "     obs: 'point', 'cell_id', 'cell_size', 'donor', 'Cluster', 'Cluster_preprocessed'\n",
       "     obsm: 'spatial', 'node_types',\n",
       " AnnData object with n_obs × n_vars = 287 × 36\n",
       "     obs: 'point', 'cell_id', 'cell_size', 'donor', 'Cluster', 'Cluster_preprocessed'\n",
       "     obsm: 'spatial', 'node_types',\n",
       " AnnData object with n_obs × n_vars = 636 × 36\n",
       "     obs: 'point', 'cell_id', 'cell_size', 'donor', 'Cluster', 'Cluster_preprocessed'\n",
       "     obsm: 'spatial', 'node_types',\n",
       " AnnData object with n_obs × n_vars = 890 × 36\n",
       "     obs: 'point', 'cell_id', 'cell_size', 'donor', 'Cluster', 'Cluster_preprocessed'\n",
       "     obsm: 'spatial', 'node_types',\n",
       " AnnData object with n_obs × n_vars = 1235 × 36\n",
       "     obs: 'point', 'cell_id', 'cell_size', 'donor', 'Cluster', 'Cluster_preprocessed'\n",
       "     obsm: 'spatial', 'node_types',\n",
       " AnnData object with n_obs × n_vars = 1020 × 36\n",
       "     obs: 'point', 'cell_id', 'cell_size', 'donor', 'Cluster', 'Cluster_preprocessed'\n",
       "     obsm: 'spatial', 'node_types',\n",
       " AnnData object with n_obs × n_vars = 1241 × 36\n",
       "     obs: 'point', 'cell_id', 'cell_size', 'donor', 'Cluster', 'Cluster_preprocessed'\n",
       "     obsm: 'spatial', 'node_types',\n",
       " AnnData object with n_obs × n_vars = 1438 × 36\n",
       "     obs: 'point', 'cell_id', 'cell_size', 'donor', 'Cluster', 'Cluster_preprocessed'\n",
       "     obsm: 'spatial', 'node_types',\n",
       " AnnData object with n_obs × n_vars = 1021 × 36\n",
       "     obs: 'point', 'cell_id', 'cell_size', 'donor', 'Cluster', 'Cluster_preprocessed'\n",
       "     obsm: 'spatial', 'node_types',\n",
       " AnnData object with n_obs × n_vars = 1632 × 36\n",
       "     obs: 'point', 'cell_id', 'cell_size', 'donor', 'Cluster', 'Cluster_preprocessed'\n",
       "     obsm: 'spatial', 'node_types',\n",
       " AnnData object with n_obs × n_vars = 780 × 36\n",
       "     obs: 'point', 'cell_id', 'cell_size', 'donor', 'Cluster', 'Cluster_preprocessed'\n",
       "     obsm: 'spatial', 'node_types',\n",
       " AnnData object with n_obs × n_vars = 524 × 36\n",
       "     obs: 'point', 'cell_id', 'cell_size', 'donor', 'Cluster', 'Cluster_preprocessed'\n",
       "     obsm: 'spatial', 'node_types',\n",
       " AnnData object with n_obs × n_vars = 669 × 36\n",
       "     obs: 'point', 'cell_id', 'cell_size', 'donor', 'Cluster', 'Cluster_preprocessed'\n",
       "     obsm: 'spatial', 'node_types',\n",
       " AnnData object with n_obs × n_vars = 241 × 36\n",
       "     obs: 'point', 'cell_id', 'cell_size', 'donor', 'Cluster', 'Cluster_preprocessed'\n",
       "     obsm: 'spatial', 'node_types',\n",
       " AnnData object with n_obs × n_vars = 935 × 36\n",
       "     obs: 'point', 'cell_id', 'cell_size', 'donor', 'Cluster', 'Cluster_preprocessed'\n",
       "     obsm: 'spatial', 'node_types',\n",
       " AnnData object with n_obs × n_vars = 347 × 36\n",
       "     obs: 'point', 'cell_id', 'cell_size', 'donor', 'Cluster', 'Cluster_preprocessed'\n",
       "     obsm: 'spatial', 'node_types',\n",
       " AnnData object with n_obs × n_vars = 1499 × 36\n",
       "     obs: 'point', 'cell_id', 'cell_size', 'donor', 'Cluster', 'Cluster_preprocessed'\n",
       "     obsm: 'spatial', 'node_types',\n",
       " AnnData object with n_obs × n_vars = 601 × 36\n",
       "     obs: 'point', 'cell_id', 'cell_size', 'donor', 'Cluster', 'Cluster_preprocessed'\n",
       "     obsm: 'spatial', 'node_types',\n",
       " AnnData object with n_obs × n_vars = 2268 × 36\n",
       "     obs: 'point', 'cell_id', 'cell_size', 'donor', 'Cluster', 'Cluster_preprocessed'\n",
       "     obsm: 'spatial', 'node_types',\n",
       " AnnData object with n_obs × n_vars = 1912 × 36\n",
       "     obs: 'point', 'cell_id', 'cell_size', 'donor', 'Cluster', 'Cluster_preprocessed'\n",
       "     obsm: 'spatial', 'node_types',\n",
       " AnnData object with n_obs × n_vars = 1678 × 36\n",
       "     obs: 'point', 'cell_id', 'cell_size', 'donor', 'Cluster', 'Cluster_preprocessed'\n",
       "     obsm: 'spatial', 'node_types',\n",
       " AnnData object with n_obs × n_vars = 1025 × 36\n",
       "     obs: 'point', 'cell_id', 'cell_size', 'donor', 'Cluster', 'Cluster_preprocessed'\n",
       "     obsm: 'spatial', 'node_types',\n",
       " AnnData object with n_obs × n_vars = 1306 × 36\n",
       "     obs: 'point', 'cell_id', 'cell_size', 'donor', 'Cluster', 'Cluster_preprocessed'\n",
       "     obsm: 'spatial', 'node_types',\n",
       " AnnData object with n_obs × n_vars = 852 × 36\n",
       "     obs: 'point', 'cell_id', 'cell_size', 'donor', 'Cluster', 'Cluster_preprocessed'\n",
       "     obsm: 'spatial', 'node_types',\n",
       " AnnData object with n_obs × n_vars = 1664 × 36\n",
       "     obs: 'point', 'cell_id', 'cell_size', 'donor', 'Cluster', 'Cluster_preprocessed'\n",
       "     obsm: 'spatial', 'node_types',\n",
       " AnnData object with n_obs × n_vars = 1698 × 36\n",
       "     obs: 'point', 'cell_id', 'cell_size', 'donor', 'Cluster', 'Cluster_preprocessed'\n",
       "     obsm: 'spatial', 'node_types',\n",
       " AnnData object with n_obs × n_vars = 1672 × 36\n",
       "     obs: 'point', 'cell_id', 'cell_size', 'donor', 'Cluster', 'Cluster_preprocessed'\n",
       "     obsm: 'spatial', 'node_types',\n",
       " AnnData object with n_obs × n_vars = 777 × 36\n",
       "     obs: 'point', 'cell_id', 'cell_size', 'donor', 'Cluster', 'Cluster_preprocessed'\n",
       "     obsm: 'spatial', 'node_types',\n",
       " AnnData object with n_obs × n_vars = 556 × 36\n",
       "     obs: 'point', 'cell_id', 'cell_size', 'donor', 'Cluster', 'Cluster_preprocessed'\n",
       "     obsm: 'spatial', 'node_types',\n",
       " AnnData object with n_obs × n_vars = 554 × 36\n",
       "     obs: 'point', 'cell_id', 'cell_size', 'donor', 'Cluster', 'Cluster_preprocessed'\n",
       "     obsm: 'spatial', 'node_types',\n",
       " AnnData object with n_obs × n_vars = 937 × 36\n",
       "     obs: 'point', 'cell_id', 'cell_size', 'donor', 'Cluster', 'Cluster_preprocessed'\n",
       "     obsm: 'spatial', 'node_types',\n",
       " AnnData object with n_obs × n_vars = 1524 × 36\n",
       "     obs: 'point', 'cell_id', 'cell_size', 'donor', 'Cluster', 'Cluster_preprocessed'\n",
       "     obsm: 'spatial', 'node_types',\n",
       " AnnData object with n_obs × n_vars = 1528 × 36\n",
       "     obs: 'point', 'cell_id', 'cell_size', 'donor', 'Cluster', 'Cluster_preprocessed'\n",
       "     obsm: 'spatial', 'node_types',\n",
       " AnnData object with n_obs × n_vars = 721 × 36\n",
       "     obs: 'point', 'cell_id', 'cell_size', 'donor', 'Cluster', 'Cluster_preprocessed'\n",
       "     obsm: 'spatial', 'node_types',\n",
       " AnnData object with n_obs × n_vars = 1395 × 36\n",
       "     obs: 'point', 'cell_id', 'cell_size', 'donor', 'Cluster', 'Cluster_preprocessed'\n",
       "     obsm: 'spatial', 'node_types',\n",
       " AnnData object with n_obs × n_vars = 611 × 36\n",
       "     obs: 'point', 'cell_id', 'cell_size', 'donor', 'Cluster', 'Cluster_preprocessed'\n",
       "     obsm: 'spatial', 'node_types',\n",
       " AnnData object with n_obs × n_vars = 1872 × 36\n",
       "     obs: 'point', 'cell_id', 'cell_size', 'donor', 'Cluster', 'Cluster_preprocessed'\n",
       "     obsm: 'spatial', 'node_types',\n",
       " AnnData object with n_obs × n_vars = 1217 × 36\n",
       "     obs: 'point', 'cell_id', 'cell_size', 'donor', 'Cluster', 'Cluster_preprocessed'\n",
       "     obsm: 'spatial', 'node_types',\n",
       " AnnData object with n_obs × n_vars = 1531 × 36\n",
       "     obs: 'point', 'cell_id', 'cell_size', 'donor', 'Cluster', 'Cluster_preprocessed'\n",
       "     obsm: 'spatial', 'node_types',\n",
       " AnnData object with n_obs × n_vars = 1927 × 36\n",
       "     obs: 'point', 'cell_id', 'cell_size', 'donor', 'Cluster', 'Cluster_preprocessed'\n",
       "     obsm: 'spatial', 'node_types',\n",
       " AnnData object with n_obs × n_vars = 690 × 36\n",
       "     obs: 'point', 'cell_id', 'cell_size', 'donor', 'Cluster', 'Cluster_preprocessed'\n",
       "     obsm: 'spatial', 'node_types',\n",
       " AnnData object with n_obs × n_vars = 1706 × 36\n",
       "     obs: 'point', 'cell_id', 'cell_size', 'donor', 'Cluster', 'Cluster_preprocessed'\n",
       "     obsm: 'spatial', 'node_types']"
      ]
     },
     "execution_count": 12,
     "metadata": {},
     "output_type": "execute_result"
    }
   ],
   "source": [
    "split_adatas = list(to_iterable(adata))\n",
    "split_adatas"
   ]
  },
  {
   "cell_type": "code",
   "execution_count": 13,
   "metadata": {},
   "outputs": [
    {
     "data": {
      "text/plain": [
       "59191     Imm_other\n",
       "59192     Tcell_CD4\n",
       "59193     Imm_other\n",
       "59194     Imm_other\n",
       "59195     Imm_other\n",
       "            ...    \n",
       "60524     Imm_other\n",
       "60525     Imm_other\n",
       "60526    Fibroblast\n",
       "60527     Imm_other\n",
       "60528     Imm_other\n",
       "Name: Cluster, Length: 1338, dtype: category\n",
       "Categories (8, object): ['Endothelial', 'Epithelial', 'Fibroblast', 'Imm_other', 'Myeloid_CD11c', 'Myeloid_CD68', 'Tcell_CD4', 'Tcell_CD8']"
      ]
     },
     "execution_count": 13,
     "metadata": {},
     "output_type": "execute_result"
    }
   ],
   "source": [
    "split_adatas[0].obs['Cluster']"
   ]
  },
  {
   "cell_type": "code",
   "execution_count": 14,
   "metadata": {},
   "outputs": [
    {
     "data": {
      "text/plain": [
       "59191     Imm_other\n",
       "59192     Tcell_CD4\n",
       "59193     Imm_other\n",
       "59194     Imm_other\n",
       "59195     Imm_other\n",
       "            ...    \n",
       "60524     Imm_other\n",
       "60525     Imm_other\n",
       "60526    Fibroblast\n",
       "60527     Imm_other\n",
       "60528     Imm_other\n",
       "Name: Cluster, Length: 1338, dtype: category\n",
       "Categories (8, object): ['Endothelial', 'Epithelial', 'Fibroblast', 'Imm_other', 'Myeloid_CD11c', 'Myeloid_CD68', 'Tcell_CD4', 'Tcell_CD8']"
      ]
     },
     "execution_count": 14,
     "metadata": {},
     "output_type": "execute_result"
    }
   ],
   "source": [
    "split_adatas[0].obs['Cluster'].cat.set_categories(adata.obs['Cluster'].cat.categories)"
   ]
  },
  {
   "cell_type": "code",
   "execution_count": 15,
   "metadata": {},
   "outputs": [
    {
     "data": {
      "text/plain": [
       "59191     Imm_other\n",
       "59192     Tcell_CD4\n",
       "59193     Imm_other\n",
       "59194     Imm_other\n",
       "59195     Imm_other\n",
       "            ...    \n",
       "60524     Imm_other\n",
       "60525     Imm_other\n",
       "60526    Fibroblast\n",
       "60527     Imm_other\n",
       "60528     Imm_other\n",
       "Name: Cluster, Length: 1338, dtype: category\n",
       "Categories (8, object): ['Endothelial', 'Epithelial', 'Fibroblast', 'Imm_other', 'Myeloid_CD11c', 'Myeloid_CD68', 'Tcell_CD4', 'Tcell_CD8']"
      ]
     },
     "execution_count": 15,
     "metadata": {},
     "output_type": "execute_result"
    }
   ],
   "source": [
    "split_adatas[0].obs['Cluster']"
   ]
  },
  {
   "cell_type": "code",
   "execution_count": null,
   "metadata": {},
   "outputs": [],
   "source": []
  }
 ],
 "metadata": {
  "kernelspec": {
   "display_name": "gnn",
   "language": "python",
   "name": "python3"
  },
  "language_info": {
   "codemirror_mode": {
    "name": "ipython",
    "version": 3
   },
   "file_extension": ".py",
   "mimetype": "text/x-python",
   "name": "python",
   "nbconvert_exporter": "python",
   "pygments_lexer": "ipython3",
   "version": "3.10.12"
  },
  "orig_nbformat": 4
 },
 "nbformat": 4,
 "nbformat_minor": 2
}
