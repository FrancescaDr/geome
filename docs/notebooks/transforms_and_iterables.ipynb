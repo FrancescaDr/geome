{
 "cells": [
  {
   "cell_type": "markdown",
   "metadata": {},
   "source": [
    "# Transforms and Iterables\n",
    "\n",
    "## Creating Iterables From AnnData\n",
    "\n",
    "The Ann2Data expects an anndata iterable by default when called upon. If you want the Ann2Data object you created to take one big adata to be split later with various strategies you can provide any `geome.iterables.ToIterable` class to the `anndata2iter` parameter of the `geome.ann2data.Ann2Data` contructor. "
   ]
  },
  {
   "cell_type": "code",
   "execution_count": 1,
   "metadata": {},
   "outputs": [],
   "source": [
    "%load_ext autoreload\n",
    "%autoreload 2"
   ]
  },
  {
   "cell_type": "code",
   "execution_count": 25,
   "metadata": {},
   "outputs": [],
   "source": [
    "from geome import iterables\n",
    "from geome import transforms\n",
    "import squidpy as sq\n",
    "import numpy as np\n",
    "from anndata import AnnData"
   ]
  },
  {
   "cell_type": "markdown",
   "metadata": {},
   "source": [
    "## Load data"
   ]
  },
  {
   "cell_type": "code",
   "execution_count": 26,
   "metadata": {},
   "outputs": [],
   "source": [
    "# Load squidpy dataset\n",
    "adata = sq.datasets.mibitof()"
   ]
  },
  {
   "cell_type": "code",
   "execution_count": 27,
   "metadata": {},
   "outputs": [
    {
     "data": {
      "text/plain": [
       "Index(['Endothelial', 'Epithelial', 'Fibroblast', 'Imm_other', 'Myeloid_CD11c',\n",
       "       'Myeloid_CD68', 'Tcell_CD4', 'Tcell_CD8'],\n",
       "      dtype='object')"
      ]
     },
     "execution_count": 27,
     "metadata": {},
     "output_type": "execute_result"
    }
   ],
   "source": [
    "adata.obs['Cluster'].cat.categories"
   ]
  },
  {
   "cell_type": "markdown",
   "metadata": {},
   "source": [
    "### Create ToIterable object"
   ]
  },
  {
   "cell_type": "code",
   "execution_count": 5,
   "metadata": {},
   "outputs": [],
   "source": [
    "to_iterable:iterables.ToIterable = iterables.ToCategoryIterable('Cluster', axis='obs')"
   ]
  },
  {
   "cell_type": "code",
   "execution_count": 6,
   "metadata": {},
   "outputs": [
    {
     "data": {
      "text/plain": [
       "[AnnData object with n_obs × n_vars = 115 × 36\n",
       "     obs: 'row_num', 'point', 'cell_id', 'X1', 'center_rowcoord', 'center_colcoord', 'cell_size', 'category', 'donor', 'Cluster', 'batch', 'library_id'\n",
       "     var: 'mean-0', 'std-0', 'mean-1', 'std-1', 'mean-2', 'std-2'\n",
       "     uns: 'Cluster_colors', 'batch_colors', 'neighbors', 'spatial', 'umap'\n",
       "     obsm: 'X_scanorama', 'X_umap', 'spatial'\n",
       "     obsp: 'connectivities', 'distances',\n",
       " AnnData object with n_obs × n_vars = 746 × 36\n",
       "     obs: 'row_num', 'point', 'cell_id', 'X1', 'center_rowcoord', 'center_colcoord', 'cell_size', 'category', 'donor', 'Cluster', 'batch', 'library_id'\n",
       "     var: 'mean-0', 'std-0', 'mean-1', 'std-1', 'mean-2', 'std-2'\n",
       "     uns: 'Cluster_colors', 'batch_colors', 'neighbors', 'spatial', 'umap'\n",
       "     obsm: 'X_scanorama', 'X_umap', 'spatial'\n",
       "     obsp: 'connectivities', 'distances',\n",
       " AnnData object with n_obs × n_vars = 270 × 36\n",
       "     obs: 'row_num', 'point', 'cell_id', 'X1', 'center_rowcoord', 'center_colcoord', 'cell_size', 'category', 'donor', 'Cluster', 'batch', 'library_id'\n",
       "     var: 'mean-0', 'std-0', 'mean-1', 'std-1', 'mean-2', 'std-2'\n",
       "     uns: 'Cluster_colors', 'batch_colors', 'neighbors', 'spatial', 'umap'\n",
       "     obsm: 'X_scanorama', 'X_umap', 'spatial'\n",
       "     obsp: 'connectivities', 'distances']"
      ]
     },
     "execution_count": 6,
     "metadata": {},
     "output_type": "execute_result"
    }
   ],
   "source": [
    "split_adatas = list(to_iterable(adata)) # split by cluster\n",
    "split_adatas[:3] # show first 3"
   ]
  },
  {
   "cell_type": "markdown",
   "metadata": {},
   "source": [
    "### The role of AnnData2Iterable in Ann2Data\n",
    "They are equivalent in the following way"
   ]
  },
  {
   "cell_type": "code",
   "execution_count": 14,
   "metadata": {},
   "outputs": [],
   "source": [
    "from geome.ann2data import Ann2DataByCategory, Ann2DataDefault"
   ]
  },
  {
   "cell_type": "code",
   "execution_count": 15,
   "metadata": {},
   "outputs": [
    {
     "data": {
      "text/plain": [
       "[Data(x=[115, 36]),\n",
       " Data(x=[746, 36]),\n",
       " Data(x=[270, 36]),\n",
       " Data(x=[488, 36]),\n",
       " Data(x=[168, 36]),\n",
       " Data(x=[259, 36]),\n",
       " Data(x=[799, 36]),\n",
       " Data(x=[464, 36])]"
      ]
     },
     "execution_count": 15,
     "metadata": {},
     "output_type": "execute_result"
    }
   ],
   "source": [
    "Ann2DataByCategory(\n",
    "    fields={'x': ['X']},\n",
    "    category='Cluster',\n",
    ").to_list(adata)"
   ]
  },
  {
   "cell_type": "code",
   "execution_count": 16,
   "metadata": {},
   "outputs": [
    {
     "data": {
      "text/plain": [
       "[Data(x=[115, 36]),\n",
       " Data(x=[746, 36]),\n",
       " Data(x=[270, 36]),\n",
       " Data(x=[488, 36]),\n",
       " Data(x=[168, 36]),\n",
       " Data(x=[259, 36]),\n",
       " Data(x=[799, 36]),\n",
       " Data(x=[464, 36])]"
      ]
     },
     "execution_count": 16,
     "metadata": {},
     "output_type": "execute_result"
    }
   ],
   "source": [
    "Ann2DataDefault(\n",
    "    fields={'x': ['X']},\n",
    "    adata2iter=iterables.ToCategoryIterable('Cluster', axis='obs'),\n",
    ").to_list(adata)"
   ]
  },
  {
   "cell_type": "markdown",
   "metadata": {},
   "source": [
    "## Transforms\n",
    "\n",
    "before we head onto transforming our adata lets simplify it to see the effect better"
   ]
  },
  {
   "cell_type": "code",
   "execution_count": 28,
   "metadata": {},
   "outputs": [
    {
     "data": {
      "text/plain": [
       "AnnData object with n_obs × n_vars = 3309 × 36\n",
       "    obs: 'row_num', 'point', 'cell_id', 'X1', 'center_rowcoord', 'center_colcoord', 'cell_size', 'category', 'donor', 'Cluster', 'batch', 'library_id'\n",
       "    var: 'mean-0', 'std-0', 'mean-1', 'std-1', 'mean-2', 'std-2'\n",
       "    uns: 'Cluster_colors', 'batch_colors', 'neighbors', 'spatial', 'umap'\n",
       "    obsm: 'X_scanorama', 'X_umap', 'spatial'\n",
       "    obsp: 'connectivities', 'distances'"
      ]
     },
     "execution_count": 28,
     "metadata": {},
     "output_type": "execute_result"
    }
   ],
   "source": [
    "adata"
   ]
  },
  {
   "cell_type": "code",
   "execution_count": 29,
   "metadata": {},
   "outputs": [
    {
     "data": {
      "text/plain": [
       "AnnData object with n_obs × n_vars = 3309 × 36\n",
       "    obs: 'Cluster'\n",
       "    obsp: 'connectivities'"
      ]
     },
     "execution_count": 29,
     "metadata": {},
     "output_type": "execute_result"
    }
   ],
   "source": [
    "simple_adata = AnnData(adata.X)\n",
    "simple_adata.obs['Cluster'] = adata.obs['Cluster']\n",
    "simple_adata.obsp['connectivities'] = adata.obsp['connectivities']\n",
    "simple_adata"
   ]
  },
  {
   "cell_type": "code",
   "execution_count": 30,
   "metadata": {},
   "outputs": [],
   "source": [
    "adds_edge_index = transforms.AddEdgeIndex(adj_matrix_loc='obsp/connectivities', edge_index_key='edge_index', overwrite=True)"
   ]
  },
  {
   "cell_type": "markdown",
   "metadata": {},
   "source": [
    "As the name suggests this object is expected to add edge index to uns of adata."
   ]
  },
  {
   "cell_type": "code",
   "execution_count": 32,
   "metadata": {},
   "outputs": [
    {
     "data": {
      "text/plain": [
       "AnnData object with n_obs × n_vars = 3309 × 36\n",
       "    obs: 'Cluster'\n",
       "    uns: 'edge_index'\n",
       "    obsp: 'connectivities'"
      ]
     },
     "execution_count": 32,
     "metadata": {},
     "output_type": "execute_result"
    }
   ],
   "source": [
    "adds_edge_index(simple_adata)"
   ]
  },
  {
   "cell_type": "code",
   "execution_count": 35,
   "metadata": {},
   "outputs": [],
   "source": [
    "multiple_transforms = transforms.Compose( # you can get creative with this\n",
    "    [\n",
    "        transforms.AddEdgeIndex(adj_matrix_loc='obsp/connectivities', edge_index_key='edge_index', overwrite=True),\n",
    "        transforms.AddEdgeWeight(weight_matrix_loc='obsp/connectivities', edge_index_key='edge_index', edge_weight_key='edge_weight', overwrite=True),\n",
    "    ]\n",
    ")"
   ]
  },
  {
   "cell_type": "code",
   "execution_count": 36,
   "metadata": {},
   "outputs": [
    {
     "data": {
      "text/plain": [
       "AnnData object with n_obs × n_vars = 3309 × 36\n",
       "    obs: 'Cluster'\n",
       "    uns: 'edge_index', 'edge_weight'\n",
       "    obsp: 'connectivities'"
      ]
     },
     "execution_count": 36,
     "metadata": {},
     "output_type": "execute_result"
    }
   ],
   "source": [
    "multiple_transforms(simple_adata)"
   ]
  },
  {
   "cell_type": "markdown",
   "metadata": {},
   "source": [
    "### The role of transforms\n",
    "\n",
    "The transform objects can be given to two different parameters of A2D classes. One is as transform which will tranform each splitted adata. One is preprocess it will be called on if the user gives one anndata instead of an iterable and gives a anndata2iter in the constructor. Before the call for anndata2iter this transform is applied."
   ]
  },
  {
   "cell_type": "markdown",
   "metadata": {},
   "source": []
  }
 ],
 "metadata": {
  "kernelspec": {
   "display_name": "gnn",
   "language": "python",
   "name": "python3"
  },
  "language_info": {
   "codemirror_mode": {
    "name": "ipython",
    "version": 3
   },
   "file_extension": ".py",
   "mimetype": "text/x-python",
   "name": "python",
   "nbconvert_exporter": "python",
   "pygments_lexer": "ipython3",
   "version": "3.10.12"
  },
  "orig_nbformat": 4
 },
 "nbformat": 4,
 "nbformat_minor": 2
}
