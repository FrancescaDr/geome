{
 "cells": [
  {
   "attachments": {},
   "cell_type": "markdown",
   "metadata": {},
   "source": [
    "# Non-Linear NCEM Example"
   ]
  },
  {
   "cell_type": "code",
   "execution_count": 1,
   "metadata": {},
   "outputs": [],
   "source": [
    "%load_ext autoreload\n",
    "%autoreload 2"
   ]
  },
  {
   "cell_type": "code",
   "execution_count": 2,
   "metadata": {},
   "outputs": [],
   "source": [
    "import pytorch_lightning as pl\n",
    "import torch\n",
    "import anndata as ad\n",
    "from gpu_spatial_graph_pipeline.data.utils import transforms\n",
    "from gpu_spatial_graph_pipeline.data.anndata2data import AnnData2DataByCategory\n",
    "from gpu_spatial_graph_pipeline.data.datasets import DatasetHartmann\n",
    "from gpu_spatial_graph_pipeline.models.non_linear_ncem import NonLinearNCEM\n",
    "from gpu_spatial_graph_pipeline.data.datamodule import GraphAnnDataModule\n"
   ]
  },
  {
   "cell_type": "code",
   "execution_count": 3,
   "metadata": {},
   "outputs": [
    {
     "name": "stdout",
     "output_type": "stream",
     "text": [
      "Loading data from raw files\n",
      "registering celldata\n"
     ]
    },
    {
     "name": "stderr",
     "output_type": "stream",
     "text": [
      "/home/sel/mambaforge/envs/pyg/lib/python3.8/site-packages/anndata/_core/anndata.py:121: ImplicitModificationWarning: Transforming to str index.\n",
      "  warnings.warn(\"Transforming to str index.\", ImplicitModificationWarning)\n"
     ]
    },
    {
     "name": "stdout",
     "output_type": "stream",
     "text": [
      "collecting image-wise celldata\n",
      "adding graph-level covariates\n",
      "Loaded 58 images with complete data from 4 patients over 63747 cells with 36 cell features and 8 distinct celltypes.\n"
     ]
    },
    {
     "data": {
      "text/plain": [
       "[Data(x=[1338, 12], edge_index=[2, 8028], y=[1338, 36]),\n",
       " Data(x=[61, 12], edge_index=[2, 366], y=[61, 36]),\n",
       " Data(x=[1316, 12], edge_index=[2, 7896], y=[1316, 36]),\n",
       " Data(x=[1540, 12], edge_index=[2, 9240], y=[1540, 36]),\n",
       " Data(x=[1822, 12], edge_index=[2, 10932], y=[1822, 36]),\n",
       " Data(x=[863, 12], edge_index=[2, 5178], y=[863, 36]),\n",
       " Data(x=[564, 12], edge_index=[2, 3384], y=[564, 36]),\n",
       " Data(x=[1023, 12], edge_index=[2, 6138], y=[1023, 36]),\n",
       " Data(x=[324, 12], edge_index=[2, 1944], y=[324, 36]),\n",
       " Data(x=[287, 12], edge_index=[2, 1722], y=[287, 36]),\n",
       " Data(x=[636, 12], edge_index=[2, 3816], y=[636, 36]),\n",
       " Data(x=[311, 12], edge_index=[2, 1866], y=[311, 36]),\n",
       " Data(x=[890, 12], edge_index=[2, 5340], y=[890, 36]),\n",
       " Data(x=[1235, 12], edge_index=[2, 7410], y=[1235, 36]),\n",
       " Data(x=[1020, 12], edge_index=[2, 6120], y=[1020, 36]),\n",
       " Data(x=[1241, 12], edge_index=[2, 7446], y=[1241, 36]),\n",
       " Data(x=[1438, 12], edge_index=[2, 8628], y=[1438, 36]),\n",
       " Data(x=[1021, 12], edge_index=[2, 6126], y=[1021, 36]),\n",
       " Data(x=[1632, 12], edge_index=[2, 9792], y=[1632, 36]),\n",
       " Data(x=[780, 12], edge_index=[2, 4680], y=[780, 36]),\n",
       " Data(x=[524, 12], edge_index=[2, 3144], y=[524, 36]),\n",
       " Data(x=[669, 12], edge_index=[2, 4014], y=[669, 36]),\n",
       " Data(x=[768, 12], edge_index=[2, 4608], y=[768, 36]),\n",
       " Data(x=[241, 12], edge_index=[2, 1446], y=[241, 36]),\n",
       " Data(x=[935, 12], edge_index=[2, 5610], y=[935, 36]),\n",
       " Data(x=[347, 12], edge_index=[2, 2082], y=[347, 36]),\n",
       " Data(x=[1499, 12], edge_index=[2, 8994], y=[1499, 36]),\n",
       " Data(x=[601, 12], edge_index=[2, 3606], y=[601, 36]),\n",
       " Data(x=[2268, 12], edge_index=[2, 13608], y=[2268, 36]),\n",
       " Data(x=[1912, 12], edge_index=[2, 11472], y=[1912, 36]),\n",
       " Data(x=[1678, 12], edge_index=[2, 10068], y=[1678, 36]),\n",
       " Data(x=[1025, 12], edge_index=[2, 6150], y=[1025, 36]),\n",
       " Data(x=[1306, 12], edge_index=[2, 7836], y=[1306, 36]),\n",
       " Data(x=[1020, 12], edge_index=[2, 6120], y=[1020, 36]),\n",
       " Data(x=[852, 12], edge_index=[2, 5112], y=[852, 36]),\n",
       " Data(x=[1664, 12], edge_index=[2, 9984], y=[1664, 36]),\n",
       " Data(x=[1698, 12], edge_index=[2, 10188], y=[1698, 36]),\n",
       " Data(x=[1672, 12], edge_index=[2, 10032], y=[1672, 36]),\n",
       " Data(x=[777, 12], edge_index=[2, 4662], y=[777, 36]),\n",
       " Data(x=[556, 12], edge_index=[2, 3336], y=[556, 36]),\n",
       " Data(x=[554, 12], edge_index=[2, 3324], y=[554, 36]),\n",
       " Data(x=[937, 12], edge_index=[2, 5622], y=[937, 36]),\n",
       " Data(x=[1524, 12], edge_index=[2, 9144], y=[1524, 36]),\n",
       " Data(x=[1528, 12], edge_index=[2, 9168], y=[1528, 36]),\n",
       " Data(x=[2100, 12], edge_index=[2, 12600], y=[2100, 36]),\n",
       " Data(x=[721, 12], edge_index=[2, 4326], y=[721, 36]),\n",
       " Data(x=[1395, 12], edge_index=[2, 8370], y=[1395, 36]),\n",
       " Data(x=[611, 12], edge_index=[2, 3666], y=[611, 36]),\n",
       " Data(x=[1872, 12], edge_index=[2, 11232], y=[1872, 36]),\n",
       " Data(x=[1217, 12], edge_index=[2, 7302], y=[1217, 36]),\n",
       " Data(x=[1531, 12], edge_index=[2, 9186], y=[1531, 36]),\n",
       " Data(x=[1927, 12], edge_index=[2, 11562], y=[1927, 36]),\n",
       " Data(x=[690, 12], edge_index=[2, 4140], y=[690, 36]),\n",
       " Data(x=[1706, 12], edge_index=[2, 10236], y=[1706, 36]),\n",
       " Data(x=[1325, 12], edge_index=[2, 7950], y=[1325, 36]),\n",
       " Data(x=[1091, 12], edge_index=[2, 6546], y=[1091, 36]),\n",
       " Data(x=[1046, 12], edge_index=[2, 6276], y=[1046, 36]),\n",
       " Data(x=[618, 12], edge_index=[2, 3708], y=[618, 36])]"
      ]
     },
     "execution_count": 3,
     "metadata": {},
     "output_type": "execute_result"
    }
   ],
   "source": [
    "fields = {\n",
    "    'x':['obs/Cluster_preprocessed','obs/donor'],\n",
    "    'y':['X']\n",
    "}\n",
    "\n",
    "\n",
    "preprocess = [\n",
    "    lambda x,_: transforms.categorize_obs(x,['donor', 'Cluster_preprocessed', 'point']),\n",
    "]\n",
    "\n",
    "category_to_iterate = 'point'\n",
    "\n",
    "a2d = AnnData2DataByCategory(\n",
    "    fields=fields,\n",
    "    category=category_to_iterate,\n",
    "    preprocess=preprocess,\n",
    "    yields_edge_index=True,\n",
    ")\n",
    "\n",
    "\n",
    "#Mibitof\n",
    "dataset = DatasetHartmann(data_path='./example_data/hartmann/')\n",
    "adatas = list(dataset.img_celldata.values())\n",
    "\n",
    "# Merge the list of adatas and convert some string to categories as they should be\n",
    "adata = ad.concat(adatas)\n",
    "\n",
    "datas = a2d(adata)\n",
    "datas"
   ]
  },
  {
   "cell_type": "code",
   "execution_count": 4,
   "metadata": {},
   "outputs": [
    {
     "data": {
      "text/plain": [
       "(12, 36)"
      ]
     },
     "execution_count": 4,
     "metadata": {},
     "output_type": "execute_result"
    }
   ],
   "source": [
    "num_features = datas[0].x.shape[1]\n",
    "out_channels = datas[0].y.shape[1]\n",
    "num_features, out_channels"
   ]
  },
  {
   "cell_type": "code",
   "execution_count": 5,
   "metadata": {},
   "outputs": [],
   "source": [
    "dm = GraphAnnDataModule(datas=datas, num_workers = 12, batch_size=100,learning_type='node')\n",
    "model = NonLinearNCEM(\n",
    "    in_channels=num_features,\n",
    "    out_channels=out_channels,\n",
    "    encoder_hidden_dims=[16],\n",
    "    decoder_hidden_dims=[16],\n",
    "    latent_dim=14,\n",
    "    lr=0.001,weight_decay=0.00001)"
   ]
  },
  {
   "cell_type": "code",
   "execution_count": 6,
   "metadata": {},
   "outputs": [
    {
     "name": "stderr",
     "output_type": "stream",
     "text": [
      "GPU available: True (cuda), used: True\n",
      "TPU available: False, using: 0 TPU cores\n",
      "IPU available: False, using: 0 IPUs\n",
      "HPU available: False, using: 0 HPUs\n"
     ]
    }
   ],
   "source": [
    "trainer:pl.Trainer = pl.Trainer(accelerator='gpu' if torch.torch.cuda.is_available() else 'cpu',\n",
    "                                max_epochs=100,log_every_n_steps=10)"
   ]
  },
  {
   "cell_type": "code",
   "execution_count": 7,
   "metadata": {},
   "outputs": [
    {
     "name": "stderr",
     "output_type": "stream",
     "text": [
      "LOCAL_RANK: 0 - CUDA_VISIBLE_DEVICES: [0]\n",
      "\n",
      "  | Name          | Type            | Params\n",
      "--------------------------------------------------\n",
      "0 | encoder       | GNNModel        | 446   \n",
      "1 | decoder_sigma | MLPModel        | 852   \n",
      "2 | decoder_mu    | MLPModel        | 852   \n",
      "3 | loss_module   | GaussianNLLLoss | 0     \n",
      "--------------------------------------------------\n",
      "2.1 K     Trainable params\n",
      "0         Non-trainable params\n",
      "2.1 K     Total params\n",
      "0.009     Total estimated model params size (MB)\n"
     ]
    },
    {
     "data": {
      "application/vnd.jupyter.widget-view+json": {
       "model_id": "",
       "version_major": 2,
       "version_minor": 0
      },
      "text/plain": [
       "Sanity Checking: 0it [00:00, ?it/s]"
      ]
     },
     "metadata": {},
     "output_type": "display_data"
    },
    {
     "data": {
      "application/vnd.jupyter.widget-view+json": {
       "model_id": "efd0c97dba8e48dd9a2f0280482243d1",
       "version_major": 2,
       "version_minor": 0
      },
      "text/plain": [
       "Training: 0it [00:00, ?it/s]"
      ]
     },
     "metadata": {},
     "output_type": "display_data"
    },
    {
     "data": {
      "application/vnd.jupyter.widget-view+json": {
       "model_id": "",
       "version_major": 2,
       "version_minor": 0
      },
      "text/plain": [
       "Validation: 0it [00:00, ?it/s]"
      ]
     },
     "metadata": {},
     "output_type": "display_data"
    },
    {
     "data": {
      "application/vnd.jupyter.widget-view+json": {
       "model_id": "",
       "version_major": 2,
       "version_minor": 0
      },
      "text/plain": [
       "Validation: 0it [00:00, ?it/s]"
      ]
     },
     "metadata": {},
     "output_type": "display_data"
    },
    {
     "data": {
      "application/vnd.jupyter.widget-view+json": {
       "model_id": "",
       "version_major": 2,
       "version_minor": 0
      },
      "text/plain": [
       "Validation: 0it [00:00, ?it/s]"
      ]
     },
     "metadata": {},
     "output_type": "display_data"
    },
    {
     "data": {
      "application/vnd.jupyter.widget-view+json": {
       "model_id": "",
       "version_major": 2,
       "version_minor": 0
      },
      "text/plain": [
       "Validation: 0it [00:00, ?it/s]"
      ]
     },
     "metadata": {},
     "output_type": "display_data"
    },
    {
     "name": "stderr",
     "output_type": "stream",
     "text": [
      "/home/sel/mambaforge/envs/pyg/lib/python3.8/site-packages/pytorch_lightning/trainer/trainer.py:653: UserWarning: Detected KeyboardInterrupt, attempting graceful shutdown...\n",
      "  rank_zero_warn(\"Detected KeyboardInterrupt, attempting graceful shutdown...\")\n"
     ]
    }
   ],
   "source": [
    "trainer.fit(model,datamodule=dm)"
   ]
  },
  {
   "cell_type": "code",
   "execution_count": 8,
   "metadata": {},
   "outputs": [
    {
     "name": "stderr",
     "output_type": "stream",
     "text": [
      "LOCAL_RANK: 0 - CUDA_VISIBLE_DEVICES: [0]\n"
     ]
    },
    {
     "data": {
      "application/vnd.jupyter.widget-view+json": {
       "model_id": "b9e4bb6ad7b9414b8e41c2bf95f016ba",
       "version_major": 2,
       "version_minor": 0
      },
      "text/plain": [
       "Testing: 0it [00:00, ?it/s]"
      ]
     },
     "metadata": {},
     "output_type": "display_data"
    },
    {
     "name": "stdout",
     "output_type": "stream",
     "text": [
      "────────────────────────────────────────────────────────────────────────────────────────────────────────────────────────\n",
      "       Test metric             DataLoader 0\n",
      "────────────────────────────────────────────────────────────────────────────────────────────────────────────────────────\n",
      "        test_loss           -1.0789239406585693\n",
      "      test_r2_score         -1.6936452990925523\n",
      "────────────────────────────────────────────────────────────────────────────────────────────────────────────────────────\n"
     ]
    },
    {
     "data": {
      "text/plain": [
       "[{'test_r2_score': -1.6936452990925523, 'test_loss': -1.0789239406585693}]"
      ]
     },
     "execution_count": 8,
     "metadata": {},
     "output_type": "execute_result"
    }
   ],
   "source": [
    "trainer.test(model, datamodule=dm)"
   ]
  }
 ],
 "metadata": {
  "kernelspec": {
   "display_name": "Python 3 (ipykernel)",
   "language": "python",
   "name": "python3"
  },
  "language_info": {
   "codemirror_mode": {
    "name": "ipython",
    "version": 3
   },
   "file_extension": ".py",
   "mimetype": "text/x-python",
   "name": "python",
   "nbconvert_exporter": "python",
   "pygments_lexer": "ipython3",
   "version": "3.8.13"
  },
  "vscode": {
   "interpreter": {
    "hash": "163d3d0f285585011c53b157ec761685e8fd2fea3691b3cdf426d39f7063e055"
   }
  }
 },
 "nbformat": 4,
 "nbformat_minor": 4
}
