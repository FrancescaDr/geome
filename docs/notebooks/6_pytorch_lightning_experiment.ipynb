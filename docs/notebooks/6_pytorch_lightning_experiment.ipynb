{
 "cells": [
  {
   "cell_type": "code",
   "execution_count": null,
   "metadata": {},
   "outputs": [],
   "source": []
  },
  {
   "cell_type": "markdown",
   "metadata": {},
   "source": [
    "# Setting up an experiment with PyTorch Lightning\n",
    "\n",
    "### 1. Define the fields of the PyG object.\n",
    "\n",
    "The fundamental class for handling graph data in PyG is `torch_geometric.data.Data`. A Data object holds the following attributes by default:\n",
    "- `data.x`: Node feature matrix with shape [num_nodes, num_node_features]\n",
    "- `data.edge_index`: Graph connectivity in COO format with shape [2, num_edges] and type torch.long\n",
    "- `data.edge_attr`: Edge feature matrix with shape [num_edges, num_edge_features]\n",
    "- `data.y`: Target to train against (may have arbitrary shape), e.g., node-level targets of shape [num_nodes, *] or graph-level targets of shape [1, *]\n",
    "- `data.pos`: Node position matrix with shape [num_nodes, num_dimensions]\n",
    "\n",
    "In fields you should define all attributes that you want to have included in your PyG object. "
   ]
  },
  {
   "cell_type": "code",
   "execution_count": null,
   "metadata": {},
   "outputs": [],
   "source": [
    "fields = {\n",
    "    \"x\": [\"obs/Cluster_preprocessed\", \"obs/donor\"],\n",
    "    \"edge_index\": [\"uns/edge_index\"],\n",
    "    \"y\": [\"obs/cell_type\"],\n",
    "}"
   ]
  },
  {
   "cell_type": "markdown",
   "metadata": {},
   "source": [
    "### 2. Preprocessing "
   ]
  },
  {
   "cell_type": "markdown",
   "metadata": {},
   "source": []
  }
 ],
 "metadata": {
  "language_info": {
   "name": "python"
  }
 },
 "nbformat": 4,
 "nbformat_minor": 2
}
