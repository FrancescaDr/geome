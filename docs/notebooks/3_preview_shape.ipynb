{
 "cells": [
  {
   "attachments": {},
   "cell_type": "markdown",
   "metadata": {},
   "source": [
    "# Previewing Shapes of Fields\n",
    "This example requires openpyxl to be installed. You can install it with pip:\n",
    "```bash\n",
    "pip install openpyxl\n",
    "```"
   ]
  },
  {
   "cell_type": "code",
   "execution_count": 1,
   "metadata": {},
   "outputs": [],
   "source": [
    "%load_ext autoreload\n",
    "%autoreload 2"
   ]
  },
  {
   "cell_type": "code",
   "execution_count": 2,
   "metadata": {},
   "outputs": [],
   "source": [
    "import anndata as ad\n",
    "from geome import transforms, ann2data\n",
    "from utils.datasets import DatasetHartmann\n",
    "import warnings"
   ]
  },
  {
   "cell_type": "markdown",
   "metadata": {},
   "source": [
    "## Setting up the experiment"
   ]
  },
  {
   "cell_type": "code",
   "execution_count": 3,
   "metadata": {},
   "outputs": [
    {
     "data": {
      "text/plain": [
       "x:\n",
       "    -----------------------------------\n",
       "    obs/Cluster_preprocessed ('?',)\n",
       "    obs/donor ('?',)\n",
       "    -----------------------------------\n",
       "edge_index:\n",
       "    -----------------------------------\n",
       "    uns/edge_index ('?',)\n",
       "    -----------------------------------\n",
       "edge_weight:\n",
       "    -----------------------------------\n",
       "    uns/edge_weight ('?',)\n",
       "    -----------------------------------\n",
       "y:\n",
       "    -----------------------------------\n",
       "    X ('?',)\n",
       "    -----------------------------------"
      ]
     },
     "execution_count": 3,
     "metadata": {},
     "output_type": "execute_result"
    }
   ],
   "source": [
    "fields = {\n",
    "    \"x\": [\"obs/Cluster_preprocessed\", \"obs/donor\"],\n",
    "    \"edge_index\": [\"uns/edge_index\"],\n",
    "    \"edge_weight\": [\"uns/edge_weight\"],\n",
    "    \"y\": [\"X\"],\n",
    "}\n",
    "\n",
    "\n",
    "preprocess = transforms.Compose(\n",
    "    [\n",
    "        transforms.Categorize([\"Cluster_preprocessed\", \"donor\"], axis=\"obs\"),\n",
    "    ]\n",
    ")\n",
    "\n",
    "transform = transforms.AddEdgeIndex(edge_index_key=\"edge_index\", edge_weight_key=\"edge_weight\", key_added=\"spatial\", spatial_key=\"spatial\", func_args={\"n_neighs\": 4})\n",
    "\n",
    "\n",
    "\n",
    "category_to_iterate = \"point\"\n",
    "\n",
    "a2d = ann2data.Ann2DataByCategory(\n",
    "    fields=fields,\n",
    "    category=category_to_iterate,\n",
    "    preprocess=preprocess,\n",
    "    transform=transform,\n",
    ")\n",
    "\n",
    "a2d  # won't show any sizes until we call next(a2d(adata)) at least once"
   ]
  },
  {
   "cell_type": "markdown",
   "metadata": {},
   "source": [
    "## Load data"
   ]
  },
  {
   "cell_type": "code",
   "execution_count": 4,
   "metadata": {},
   "outputs": [
    {
     "name": "stdout",
     "output_type": "stream",
     "text": [
      "Loading data from raw files\n",
      "registering celldata\n",
      "collecting image-wise celldata\n",
      "adding graph-level covariates\n",
      "Loaded 58 images with complete data from 4 patients over 63747 cells with 36 cell features and 8 distinct celltypes.\n"
     ]
    }
   ],
   "source": [
    "# Mibitof\n",
    "with warnings.catch_warnings():\n",
    "    warnings.simplefilter(\"ignore\")\n",
    "    dataset = DatasetHartmann(data_path=\"./example_data/hartmann/\")\n",
    "    adatas = list(dataset.img_celldata.values())\n",
    "\n",
    "# Merge the list of adatas and convert some string to categories as they should be\n",
    "adata = ad.concat(adatas)"
   ]
  },
  {
   "cell_type": "markdown",
   "metadata": {},
   "source": [
    "### Checking some dimensions\n",
    "This will show the sizes of the tensors it last see. If one field has more than one locations it will only show the last dimension"
   ]
  },
  {
   "cell_type": "code",
   "execution_count": 5,
   "metadata": {},
   "outputs": [
    {
     "data": {
      "text/plain": [
       "x:\n",
       "    -----------------------------------\n",
       "    obs/Cluster_preprocessed ('-', 8)\n",
       "    obs/donor ('-', 4)\n",
       "    -----------------------------------\n",
       "edge_index:\n",
       "    -----------------------------------\n",
       "    uns/edge_index (2, 5352)\n",
       "    -----------------------------------\n",
       "edge_weight:\n",
       "    -----------------------------------\n",
       "    uns/edge_weight (5352,)\n",
       "    -----------------------------------\n",
       "y:\n",
       "    -----------------------------------\n",
       "    X (1338, 36)\n",
       "    -----------------------------------"
      ]
     },
     "execution_count": 5,
     "metadata": {},
     "output_type": "execute_result"
    }
   ],
   "source": [
    "next(a2d(adata))  # will show the sizes of the fields\n",
    "a2d"
   ]
  },
  {
   "cell_type": "code",
   "execution_count": 6,
   "metadata": {},
   "outputs": [
    {
     "data": {
      "text/plain": [
       "[Data(x=[1338, 12], edge_index=[2, 5352], y=[1338, 36], edge_weight=[5352]),\n",
       " Data(x=[311, 12], edge_index=[2, 1244], y=[311, 36], edge_weight=[1244]),\n",
       " Data(x=[768, 12], edge_index=[2, 3072], y=[768, 36], edge_weight=[3072]),\n",
       " Data(x=[1020, 12], edge_index=[2, 4080], y=[1020, 36], edge_weight=[4080]),\n",
       " Data(x=[2100, 12], edge_index=[2, 8400], y=[2100, 36], edge_weight=[8400]),\n",
       " Data(x=[1325, 12], edge_index=[2, 5300], y=[1325, 36], edge_weight=[5300]),\n",
       " Data(x=[1091, 12], edge_index=[2, 4364], y=[1091, 36], edge_weight=[4364]),\n",
       " Data(x=[1046, 12], edge_index=[2, 4184], y=[1046, 36], edge_weight=[4184]),\n",
       " Data(x=[618, 12], edge_index=[2, 2472], y=[618, 36], edge_weight=[2472]),\n",
       " Data(x=[61, 12], edge_index=[2, 244], y=[61, 36], edge_weight=[244]),\n",
       " Data(x=[1316, 12], edge_index=[2, 5264], y=[1316, 36], edge_weight=[5264]),\n",
       " Data(x=[1540, 12], edge_index=[2, 6160], y=[1540, 36], edge_weight=[6160]),\n",
       " Data(x=[1822, 12], edge_index=[2, 7288], y=[1822, 36], edge_weight=[7288]),\n",
       " Data(x=[863, 12], edge_index=[2, 3452], y=[863, 36], edge_weight=[3452]),\n",
       " Data(x=[564, 12], edge_index=[2, 2256], y=[564, 36], edge_weight=[2256]),\n",
       " Data(x=[1023, 12], edge_index=[2, 4092], y=[1023, 36], edge_weight=[4092]),\n",
       " Data(x=[324, 12], edge_index=[2, 1296], y=[324, 36], edge_weight=[1296]),\n",
       " Data(x=[287, 12], edge_index=[2, 1148], y=[287, 36], edge_weight=[1148]),\n",
       " Data(x=[636, 12], edge_index=[2, 2544], y=[636, 36], edge_weight=[2544]),\n",
       " Data(x=[890, 12], edge_index=[2, 3560], y=[890, 36], edge_weight=[3560]),\n",
       " Data(x=[1235, 12], edge_index=[2, 4940], y=[1235, 36], edge_weight=[4940]),\n",
       " Data(x=[1020, 12], edge_index=[2, 4080], y=[1020, 36], edge_weight=[4080]),\n",
       " Data(x=[1241, 12], edge_index=[2, 4964], y=[1241, 36], edge_weight=[4964]),\n",
       " Data(x=[1438, 12], edge_index=[2, 5752], y=[1438, 36], edge_weight=[5752]),\n",
       " Data(x=[1021, 12], edge_index=[2, 4084], y=[1021, 36], edge_weight=[4084]),\n",
       " Data(x=[1632, 12], edge_index=[2, 6528], y=[1632, 36], edge_weight=[6528]),\n",
       " Data(x=[780, 12], edge_index=[2, 3120], y=[780, 36], edge_weight=[3120]),\n",
       " Data(x=[524, 12], edge_index=[2, 2096], y=[524, 36], edge_weight=[2096]),\n",
       " Data(x=[669, 12], edge_index=[2, 2676], y=[669, 36], edge_weight=[2676]),\n",
       " Data(x=[241, 12], edge_index=[2, 964], y=[241, 36], edge_weight=[964]),\n",
       " Data(x=[935, 12], edge_index=[2, 3740], y=[935, 36], edge_weight=[3740]),\n",
       " Data(x=[347, 12], edge_index=[2, 1388], y=[347, 36], edge_weight=[1388]),\n",
       " Data(x=[1499, 12], edge_index=[2, 5996], y=[1499, 36], edge_weight=[5996]),\n",
       " Data(x=[601, 12], edge_index=[2, 2404], y=[601, 36], edge_weight=[2404]),\n",
       " Data(x=[2268, 12], edge_index=[2, 9072], y=[2268, 36], edge_weight=[9072]),\n",
       " Data(x=[1912, 12], edge_index=[2, 7648], y=[1912, 36], edge_weight=[7648]),\n",
       " Data(x=[1678, 12], edge_index=[2, 6712], y=[1678, 36], edge_weight=[6712]),\n",
       " Data(x=[1025, 12], edge_index=[2, 4100], y=[1025, 36], edge_weight=[4100]),\n",
       " Data(x=[1306, 12], edge_index=[2, 5224], y=[1306, 36], edge_weight=[5224]),\n",
       " Data(x=[852, 12], edge_index=[2, 3408], y=[852, 36], edge_weight=[3408]),\n",
       " Data(x=[1664, 12], edge_index=[2, 6656], y=[1664, 36], edge_weight=[6656]),\n",
       " Data(x=[1698, 12], edge_index=[2, 6792], y=[1698, 36], edge_weight=[6792]),\n",
       " Data(x=[1672, 12], edge_index=[2, 6688], y=[1672, 36], edge_weight=[6688]),\n",
       " Data(x=[777, 12], edge_index=[2, 3108], y=[777, 36], edge_weight=[3108]),\n",
       " Data(x=[556, 12], edge_index=[2, 2224], y=[556, 36], edge_weight=[2224]),\n",
       " Data(x=[554, 12], edge_index=[2, 2216], y=[554, 36], edge_weight=[2216]),\n",
       " Data(x=[937, 12], edge_index=[2, 3748], y=[937, 36], edge_weight=[3748]),\n",
       " Data(x=[1524, 12], edge_index=[2, 6096], y=[1524, 36], edge_weight=[6096]),\n",
       " Data(x=[1528, 12], edge_index=[2, 6112], y=[1528, 36], edge_weight=[6112]),\n",
       " Data(x=[721, 12], edge_index=[2, 2884], y=[721, 36], edge_weight=[2884]),\n",
       " Data(x=[1395, 12], edge_index=[2, 5580], y=[1395, 36], edge_weight=[5580]),\n",
       " Data(x=[611, 12], edge_index=[2, 2444], y=[611, 36], edge_weight=[2444]),\n",
       " Data(x=[1872, 12], edge_index=[2, 7488], y=[1872, 36], edge_weight=[7488]),\n",
       " Data(x=[1217, 12], edge_index=[2, 4868], y=[1217, 36], edge_weight=[4868]),\n",
       " Data(x=[1531, 12], edge_index=[2, 6124], y=[1531, 36], edge_weight=[6124]),\n",
       " Data(x=[1927, 12], edge_index=[2, 7708], y=[1927, 36], edge_weight=[7708]),\n",
       " Data(x=[690, 12], edge_index=[2, 2760], y=[690, 36], edge_weight=[2760]),\n",
       " Data(x=[1706, 12], edge_index=[2, 6824], y=[1706, 36], edge_weight=[6824])]"
      ]
     },
     "execution_count": 6,
     "metadata": {},
     "output_type": "execute_result"
    }
   ],
   "source": [
    "datas = a2d(adata)\n",
    "list(datas)"
   ]
  }
 ],
 "metadata": {
  "kernelspec": {
   "display_name": "Python 3",
   "language": "python",
   "name": "python3"
  },
  "language_info": {
   "codemirror_mode": {
    "name": "ipython",
    "version": 3
   },
   "file_extension": ".py",
   "mimetype": "text/x-python",
   "name": "python",
   "nbconvert_exporter": "python",
   "pygments_lexer": "ipython3",
   "version": "3.11.9"
  },
  "vscode": {
   "interpreter": {
    "hash": "916dbcbb3f70747c44a77c7bcd40155683ae19c65e1c03b4aa3499c5328201f1"
   }
  }
 },
 "nbformat": 4,
 "nbformat_minor": 4
}
