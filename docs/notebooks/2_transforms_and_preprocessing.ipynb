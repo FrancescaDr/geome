{
 "cells": [
  {
   "cell_type": "markdown",
   "metadata": {},
   "source": [
    "# Basics: Transforms and Preprocessing\n",
    "\n",
    "\n",
    "## The Difference between Transforms and Preprocessing\n",
    "\n",
    "```python\n",
    "\n",
    "class Ann2DataAbstract(ABC):\n",
    "    \"\"\"Abstract class that transforms an iterable of AnnData to Pytorch Geometric Data objects.\"\"\"\n",
    "\n",
    "    def __init__(\n",
    "        self,\n",
    "        preprocess: Callable[[AnnData], AnnData] | None = None,\n",
    "        transform: Callable[[AnnData], AnnData] | None = None,\n",
    "        ...,\n",
    "    ) -> None:\n",
    "        pass\n",
    "```\n",
    "\n",
    "## The Difference between Transforms and Preprocessing\n",
    "\n",
    "In the `Ann2DataAbstract` class, the distinction between preprocessing and transforming data is crucial for managing data flow.\n",
    "\n",
    "- **Preprocessing**: This step involves preparing the `AnnData` objects before they are used in the main analysis or modeling.\n",
    "\n",
    "- **Transforming**: Transformation operations are applied to each `AnnData` object individually after splitting the data into smaller blocks.\n",
    "\n",
    "\n",
    "![Data Processing Workflow](example_data/diag.png)\n"
   ]
  },
  {
   "cell_type": "code",
   "execution_count": 1,
   "metadata": {},
   "outputs": [],
   "source": [
    "%load_ext autoreload\n",
    "%autoreload 2"
   ]
  },
  {
   "cell_type": "code",
   "execution_count": 2,
   "metadata": {},
   "outputs": [],
   "source": [
    "from geome import transforms\n",
    "import squidpy as sq\n",
    "from anndata import AnnData"
   ]
  },
  {
   "cell_type": "markdown",
   "metadata": {},
   "source": [
    "## Load data\n",
    "First, let's load the data and see what it looks like. In this example assume that we want to split by these categories specified in `adata.obs[\"Cluster\"]`.\n"
   ]
  },
  {
   "cell_type": "code",
   "execution_count": 3,
   "metadata": {},
   "outputs": [],
   "source": [
    "\n",
    "adata = sq.datasets.mibitof()"
   ]
  },
  {
   "cell_type": "markdown",
   "metadata": {},
   "source": [
    "## Transforms\n",
    "\n",
    "before we head onto transforming our adata lets simplify it to see the effect better"
   ]
  },
  {
   "cell_type": "code",
   "execution_count": 4,
   "metadata": {},
   "outputs": [
    {
     "data": {
      "text/plain": [
       "AnnData object with n_obs × n_vars = 3309 × 36\n",
       "    obs: 'row_num', 'point', 'cell_id', 'X1', 'center_rowcoord', 'center_colcoord', 'cell_size', 'category', 'donor', 'Cluster', 'batch', 'library_id'\n",
       "    var: 'mean-0', 'std-0', 'mean-1', 'std-1', 'mean-2', 'std-2'\n",
       "    uns: 'Cluster_colors', 'batch_colors', 'neighbors', 'spatial', 'umap'\n",
       "    obsm: 'X_scanorama', 'X_umap', 'spatial'\n",
       "    obsp: 'connectivities', 'distances'"
      ]
     },
     "execution_count": 4,
     "metadata": {},
     "output_type": "execute_result"
    }
   ],
   "source": [
    "adata"
   ]
  },
  {
   "cell_type": "code",
   "execution_count": 5,
   "metadata": {},
   "outputs": [],
   "source": [
    "sq_neighbors_args = {\"radius\": 4.0, \"coord_type\": \"generic\"}\n",
    "adds_edge_index = transforms.AddEdgeIndex(edge_index_key=\"edge_index\", edge_weight_key=\"edge_weight\", func_args=sq_neighbors_args, spatial_key=\"spatial\", key_added=\"added\")"
   ]
  },
  {
   "cell_type": "markdown",
   "metadata": {},
   "source": [
    "As the name suggests this object is expected to add edge index to uns of adata."
   ]
  },
  {
   "cell_type": "code",
   "execution_count": 6,
   "metadata": {},
   "outputs": [
    {
     "data": {
      "text/plain": [
       "AnnData object with n_obs × n_vars = 3309 × 36\n",
       "    obs: 'row_num', 'point', 'cell_id', 'X1', 'center_rowcoord', 'center_colcoord', 'cell_size', 'category', 'donor', 'Cluster', 'batch', 'library_id'\n",
       "    var: 'mean-0', 'std-0', 'mean-1', 'std-1', 'mean-2', 'std-2'\n",
       "    uns: 'Cluster_colors', 'batch_colors', 'neighbors', 'spatial', 'umap', 'added_neighbors', 'edge_index', 'edge_weight'\n",
       "    obsm: 'X_scanorama', 'X_umap', 'spatial'\n",
       "    obsp: 'connectivities', 'distances', 'added_connectivities', 'added_distances'"
      ]
     },
     "execution_count": 6,
     "metadata": {},
     "output_type": "execute_result"
    }
   ],
   "source": [
    "adds_edge_index(adata)"
   ]
  },
  {
   "cell_type": "code",
   "execution_count": 7,
   "metadata": {},
   "outputs": [],
   "source": [
    "multiple_transforms = transforms.Compose(  # you can get creative with this\n",
    "    [\n",
    "        transforms.AddAdjMatrix(func_args=sq_neighbors_args, key_added=\"added2\", spatial_key=\"spatial\"),\n",
    "        transforms.AddEdgeIndexFromAdj(adj_matrix_loc=\"obsp/added2_connectivities\", edge_index_key=\"edge_index2\", edge_weight_key=\"edge_weight2\"),\n",
    "    ]\n",
    ")"
   ]
  },
  {
   "cell_type": "code",
   "execution_count": 8,
   "metadata": {},
   "outputs": [
    {
     "data": {
      "text/plain": [
       "AnnData object with n_obs × n_vars = 3309 × 36\n",
       "    obs: 'row_num', 'point', 'cell_id', 'X1', 'center_rowcoord', 'center_colcoord', 'cell_size', 'category', 'donor', 'Cluster', 'batch', 'library_id'\n",
       "    var: 'mean-0', 'std-0', 'mean-1', 'std-1', 'mean-2', 'std-2'\n",
       "    uns: 'Cluster_colors', 'batch_colors', 'neighbors', 'spatial', 'umap', 'added_neighbors', 'edge_index', 'edge_weight', 'added2_neighbors', 'edge_index2', 'edge_weight2'\n",
       "    obsm: 'X_scanorama', 'X_umap', 'spatial'\n",
       "    obsp: 'connectivities', 'distances', 'added_connectivities', 'added_distances', 'added2_connectivities', 'added2_distances'"
      ]
     },
     "execution_count": 8,
     "metadata": {},
     "output_type": "execute_result"
    }
   ],
   "source": [
    "res = multiple_transforms(adata)\n",
    "res"
   ]
  }
 ],
 "metadata": {
  "kernelspec": {
   "display_name": "gnn",
   "language": "python",
   "name": "python3"
  },
  "language_info": {
   "codemirror_mode": {
    "name": "ipython",
    "version": 3
   },
   "file_extension": ".py",
   "mimetype": "text/x-python",
   "name": "python",
   "nbconvert_exporter": "python",
   "pygments_lexer": "ipython3",
   "version": "3.11.9"
  },
  "orig_nbformat": 4
 },
 "nbformat": 4,
 "nbformat_minor": 2
}
