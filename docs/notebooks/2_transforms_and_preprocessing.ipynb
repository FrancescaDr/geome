{
 "cells": [
  {
   "cell_type": "markdown",
   "metadata": {},
   "source": [
    "# Basics: Transforms and Preprocessing\n",
    "\n",
    "\n",
    "## The Difference between Transforms and Preprocessing\n",
    "\n",
    "```python\n",
    "\n",
    "class Ann2DataAbstract(ABC):\n",
    "    \"\"\"Abstract class that transforms an iterable of AnnData to Pytorch Geometric Data objects.\"\"\"\n",
    "\n",
    "    def __init__(\n",
    "        self,\n",
    "        preprocess: Callable[[AnnData], AnnData] | None = None,\n",
    "        transform: Callable[[AnnData], AnnData] | None = None,\n",
    "        ...,\n",
    "    ) -> None:\n",
    "        pass\n",
    "```\n",
    "\n",
    "## The Difference between Transforms and Preprocessing\n",
    "\n",
    "In the `Ann2DataAbstract` class, the distinction between preprocessing and transforming data is crucial for managing data flow.\n",
    "\n",
    "- **Preprocessing**: This step involves preparing the `AnnData` objects before they are used in the main analysis or modeling.\n",
    "\n",
    "- **Transforming**: Transformation operations are applied to each `AnnData` object individually after splitting the data into smaller blocks.\n",
    "\n",
    "\n",
    "![Data Processing Workflow](example_data/diag.png)\n"
   ]
  },
  {
   "cell_type": "code",
   "execution_count": 1,
   "metadata": {},
   "outputs": [],
   "source": [
    "%load_ext autoreload\n",
    "%autoreload 2"
   ]
  },
  {
   "cell_type": "code",
   "execution_count": 2,
   "metadata": {},
   "outputs": [],
   "source": [
    "from geome import transforms\n",
    "import squidpy as sq\n",
    "from anndata import AnnData"
   ]
  },
  {
   "cell_type": "markdown",
   "metadata": {},
   "source": [
    "## Load data\n",
    "First, let's load the data and see what it looks like. In this example assume that we want to split by these categories specified in `adata.obs[\"Cluster\"]`.\n"
   ]
  },
  {
   "cell_type": "code",
   "execution_count": 3,
   "metadata": {},
   "outputs": [],
   "source": [
    "# Load some simple adata sample\n",
    "def create_adata():  # noqa: D103\n",
    "    adata = sq.datasets.mibitof()\n",
    "    simple_adata = AnnData(adata.X)\n",
    "    simple_adata.obs[\"Cluster\"] = adata.obs[\"Cluster\"]\n",
    "    simple_adata.obsp[\"connectivities\"] = adata.obsp[\"connectivities\"]\n",
    "    return simple_adata\n",
    "\n",
    "\n",
    "adata = create_adata()"
   ]
  },
  {
   "cell_type": "markdown",
   "metadata": {},
   "source": [
    "## Transforms\n",
    "\n",
    "before we head onto transforming our adata lets simplify it to see the effect better"
   ]
  },
  {
   "cell_type": "code",
   "execution_count": 4,
   "metadata": {},
   "outputs": [
    {
     "data": {
      "text/plain": [
       "AnnData object with n_obs × n_vars = 3309 × 36\n",
       "    obs: 'Cluster'\n",
       "    obsp: 'connectivities'"
      ]
     },
     "execution_count": 4,
     "metadata": {},
     "output_type": "execute_result"
    }
   ],
   "source": [
    "adata"
   ]
  },
  {
   "cell_type": "code",
   "execution_count": 6,
   "metadata": {},
   "outputs": [],
   "source": [
    "adds_edge_index = transforms.AddEdgeIndexFromAdj(\n",
    "    adj_matrix_loc=\"obsp/connectivities\", edge_index_key=\"edge_index\"\n",
    ")"
   ]
  },
  {
   "cell_type": "markdown",
   "metadata": {},
   "source": [
    "As the name suggests this object is expected to add edge index to uns of adata."
   ]
  },
  {
   "cell_type": "code",
   "execution_count": 7,
   "metadata": {},
   "outputs": [
    {
     "data": {
      "text/plain": [
       "AnnData object with n_obs × n_vars = 3309 × 36\n",
       "    obs: 'Cluster'\n",
       "    uns: 'edge_index'\n",
       "    obsp: 'connectivities'"
      ]
     },
     "execution_count": 7,
     "metadata": {},
     "output_type": "execute_result"
    }
   ],
   "source": [
    "adds_edge_index(adata)"
   ]
  },
  {
   "cell_type": "code",
   "execution_count": 10,
   "metadata": {},
   "outputs": [],
   "source": [
    "multiple_transforms = transforms.Compose(  # you can get creative with this\n",
    "    [\n",
    "        transforms.AddEdgeIndexFromAdj(adj_matrix_loc=\"obsp/connectivities\", edge_index_key=\"edge_index\"),\n",
    "        transforms.AddEdgeWeight(\n",
    "            weight_matrix_loc=\"obsp/connectivities\",\n",
    "            edge_index_key=\"edge_index\",\n",
    "            edge_weight_key=\"edge_weight\",\n",
    "            overwrite=True,\n",
    "        ),\n",
    "    ]\n",
    ")"
   ]
  },
  {
   "cell_type": "code",
   "execution_count": 11,
   "metadata": {},
   "outputs": [
    {
     "data": {
      "text/plain": [
       "torch.Size([71500])"
      ]
     },
     "execution_count": 11,
     "metadata": {},
     "output_type": "execute_result"
    }
   ],
   "source": [
    "res = multiple_transforms(adata)\n",
    "res.uns[\"edge_weight\"].shape"
   ]
  }
 ],
 "metadata": {
  "kernelspec": {
   "display_name": "gnn",
   "language": "python",
   "name": "python3"
  },
  "language_info": {
   "codemirror_mode": {
    "name": "ipython",
    "version": 3
   },
   "file_extension": ".py",
   "mimetype": "text/x-python",
   "name": "python",
   "nbconvert_exporter": "python",
   "pygments_lexer": "ipython3",
   "version": "3.11.9"
  },
  "orig_nbformat": 4
 },
 "nbformat": 4,
 "nbformat_minor": 2
}
